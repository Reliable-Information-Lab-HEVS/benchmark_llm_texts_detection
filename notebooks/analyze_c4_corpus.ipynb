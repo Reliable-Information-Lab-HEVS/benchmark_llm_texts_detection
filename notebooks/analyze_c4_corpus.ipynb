{
 "cells": [
  {
   "cell_type": "code",
   "execution_count": 1,
   "metadata": {},
   "outputs": [],
   "source": [
    "from datasets import load_dataset"
   ]
  },
  {
   "cell_type": "code",
   "execution_count": 2,
   "metadata": {},
   "outputs": [],
   "source": [
    "def count_apostrophe(corpus_dict):\n",
    "    nb_normal_apostrophes = 0\n",
    "    nb_special_apostrophes = 0\n",
    "\n",
    "    for sample in corpus_dict:\n",
    "        text = sample[\"text\"]\n",
    "        if \"'\" in text:\n",
    "            nb_normal_apostrophes += 1\n",
    "        if \"’\" in text:\n",
    "            nb_special_apostrophes += 1\n",
    "    print(f\"Number of normal apostrophes: {nb_normal_apostrophes}\")\n",
    "    print(f\"Number of special apostrophes: {nb_special_apostrophes}\")"
   ]
  },
  {
   "cell_type": "code",
   "execution_count": 3,
   "metadata": {},
   "outputs": [
    {
     "data": {
      "application/vnd.jupyter.widget-view+json": {
       "model_id": "1dc1ad5714234e9db30434d175d81ba1",
       "version_major": 2,
       "version_minor": 0
      },
      "text/plain": [
       "Resolving data files:   0%|          | 0/1024 [00:00<?, ?it/s]"
      ]
     },
     "metadata": {},
     "output_type": "display_data"
    },
    {
     "data": {
      "application/vnd.jupyter.widget-view+json": {
       "model_id": "0898df235deb4d4193be433afa9354af",
       "version_major": 2,
       "version_minor": 0
      },
      "text/plain": [
       "Resolving data files:   0%|          | 0/1024 [00:00<?, ?it/s]"
      ]
     },
     "metadata": {},
     "output_type": "display_data"
    },
    {
     "data": {
      "application/vnd.jupyter.widget-view+json": {
       "model_id": "37c46c4722bb4840b7f5dc27a4b428c0",
       "version_major": 2,
       "version_minor": 0
      },
      "text/plain": [
       "Resolving data files:   0%|          | 0/1024 [00:00<?, ?it/s]"
      ]
     },
     "metadata": {},
     "output_type": "display_data"
    },
    {
     "data": {
      "application/vnd.jupyter.widget-view+json": {
       "model_id": "f1854884332f488f869fd9c3e57da74f",
       "version_major": 2,
       "version_minor": 0
      },
      "text/plain": [
       "Resolving data files:   0%|          | 0/512 [00:00<?, ?it/s]"
      ]
     },
     "metadata": {},
     "output_type": "display_data"
    }
   ],
   "source": [
    "en_dataset = load_dataset(\"allenai/c4\", \"en\", streaming=True)\n",
    "news_dataset = load_dataset(\"allenai/c4\", \"realnewslike\", streaming=True)"
   ]
  },
  {
   "cell_type": "code",
   "execution_count": 4,
   "metadata": {},
   "outputs": [],
   "source": [
    "# take a sample of the dataset\n",
    "sample_size = 100000\n",
    "en_dataset_sample = en_dataset[\"train\"].shuffle(seed=42).take(sample_size)\n",
    "news_dataset_sample = news_dataset[\"train\"].shuffle(seed=42).take(sample_size)"
   ]
  },
  {
   "cell_type": "code",
   "execution_count": 5,
   "metadata": {},
   "outputs": [
    {
     "data": {
      "text/plain": [
       "(IterableDataset({\n",
       "     features: ['text', 'timestamp', 'url'],\n",
       "     n_shards: 1024\n",
       " }),\n",
       " IterableDataset({\n",
       "     features: ['text', 'timestamp', 'url'],\n",
       "     n_shards: 512\n",
       " }))"
      ]
     },
     "execution_count": 5,
     "metadata": {},
     "output_type": "execute_result"
    }
   ],
   "source": [
    "en_dataset_sample, news_dataset_sample"
   ]
  },
  {
   "cell_type": "code",
   "execution_count": 6,
   "metadata": {},
   "outputs": [],
   "source": [
    "en_dataset_sample_list = list(en_dataset_sample)\n",
    "news_dataset_sample_list = list(news_dataset_sample)"
   ]
  },
  {
   "cell_type": "code",
   "execution_count": 7,
   "metadata": {},
   "outputs": [
    {
     "data": {
      "text/plain": [
       "{'text': 'You’ve probably heard the old proverb that failing to plan is planning to fail, but consider this: according to statistics, a whopping 70 percent of all project come in late and over budget, or are scrapped before completion. In fact, project failure is virtually expected in a number of industries today. Some 75 percent of executives, for example, believe their project will fail before they even start.\\nAt the same time, companies and organizations that find better ways to plan and manage projects are highly rewards for it. High performing companies and organizations successfully complete nearly nine out of ten of their planned projects, while low performers complete less than four.\\nOpportunities and risks within the broader society, such as differences in local and international markets, the project’s impact on the environment, the health of the world economy, and more.\\nNot taking these points into consideration can mean failure for your project. Here’s a case study to illustrate this point.\\nIn 1985, the Sinclair C5 was set to revolutionize the way people commute. The three-wheeled vehicle would use far less gas than conventional cars, be more affordable to buy, and make urban traffic congestion in the UK a thing of the past.\\nBut as the Sinclair C5 began rolling off the production lines, there was a bit of a problem. Part of the cost- and gas-saving design was that the vehicles were built without a roof. And it rains in the UK. A lot. To top it off, the C5 had no reverse.\\nSales were abysmal. The Sinclair C5 lost $12 million and declared bankruptcy in less than a year.\\nThe Sinclair C5 project could have had a sunnier outcome if the characteristics of the UK market and the needs of its consumers had been more thoroughly explored. Strategic planning tools such as SWOT or a PEST analysis would have captured the threats to the C5’s success as the strategic planning stage, and enabled the team to see that the project was doomed from the start.\\nIn our next blog post, we’ll talk about how using visualization in your strategic planning helps to strengthen the process and leads to success. Stay tuned!\\nIf you’re intrigued by the the role strategic planning plays in project success, and you want to learn more, then you may be interested in our free eBook titled Envision Success: How Visualization Builds Better Strategic Plans. In it, you’ll learn 5 proven and powerful methods for strategic planning that lead to success.',\n",
       " 'timestamp': '2019-04-24 00:44:49',\n",
       " 'url': 'https://www.mindjet.com/blog/2018/08/visualisation-strategic-planning-part-1-strategic-planning-drives-success/'}"
      ]
     },
     "execution_count": 7,
     "metadata": {},
     "output_type": "execute_result"
    }
   ],
   "source": [
    "en_dataset_sample_list[0]"
   ]
  },
  {
   "cell_type": "code",
   "execution_count": 8,
   "metadata": {},
   "outputs": [
    {
     "name": "stdout",
     "output_type": "stream",
     "text": [
      "Number of normal apostrophes: 31939\n",
      "Number of special apostrophes: 41169\n",
      "Number of normal apostrophes: 47583\n",
      "Number of special apostrophes: 48492\n"
     ]
    }
   ],
   "source": [
    "count_apostrophe(en_dataset_sample_list)\n",
    "count_apostrophe(news_dataset_sample_list)"
   ]
  },
  {
   "cell_type": "code",
   "execution_count": null,
   "metadata": {},
   "outputs": [],
   "source": []
  }
 ],
 "metadata": {
  "kernelspec": {
   "display_name": "llm_detector",
   "language": "python",
   "name": "python3"
  },
  "language_info": {
   "codemirror_mode": {
    "name": "ipython",
    "version": 3
   },
   "file_extension": ".py",
   "mimetype": "text/x-python",
   "name": "python",
   "nbconvert_exporter": "python",
   "pygments_lexer": "ipython3",
   "version": "3.12.2"
  }
 },
 "nbformat": 4,
 "nbformat_minor": 2
}
