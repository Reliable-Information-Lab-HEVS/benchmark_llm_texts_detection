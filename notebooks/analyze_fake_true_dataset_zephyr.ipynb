{
 "cells": [
  {
   "cell_type": "code",
   "execution_count": 1,
   "metadata": {},
   "outputs": [],
   "source": [
    "from datasets import load_dataset, load_from_disk, Dataset, DatasetDict, concatenate_datasets\n",
    "import numpy as np\n",
    "import pandas as pd\n",
    "from scipy.stats import wasserstein_distance\n",
    "\n",
    "\n",
    "import json\n",
    "import matplotlib.pyplot as plt"
   ]
  },
  {
   "cell_type": "code",
   "execution_count": 2,
   "metadata": {},
   "outputs": [],
   "source": [
    "# label: true = 0, fake = 1"
   ]
  },
  {
   "cell_type": "code",
   "execution_count": 3,
   "metadata": {},
   "outputs": [],
   "source": [
    "experiment_name = \"zephyr_10k\"\n",
    "fake_train_dataset_df = pd.read_json(f\"fake_true_datasets/fake_true_dataset_{experiment_name}_train.json\")"
   ]
  },
  {
   "cell_type": "code",
   "execution_count": 4,
   "metadata": {},
   "outputs": [
    {
     "data": {
      "text/html": [
       "<div>\n",
       "<style scoped>\n",
       "    .dataframe tbody tr th:only-of-type {\n",
       "        vertical-align: middle;\n",
       "    }\n",
       "\n",
       "    .dataframe tbody tr th {\n",
       "        vertical-align: top;\n",
       "    }\n",
       "\n",
       "    .dataframe thead th {\n",
       "        text-align: right;\n",
       "    }\n",
       "</style>\n",
       "<table border=\"1\" class=\"dataframe\">\n",
       "  <thead>\n",
       "    <tr style=\"text-align: right;\">\n",
       "      <th></th>\n",
       "      <th>text</th>\n",
       "      <th>label</th>\n",
       "    </tr>\n",
       "  </thead>\n",
       "  <tbody>\n",
       "    <tr>\n",
       "      <th>0</th>\n",
       "      <td>[Four groups that advocate for immigrant right...</td>\n",
       "      <td>1</td>\n",
       "    </tr>\n",
       "    <tr>\n",
       "      <th>1</th>\n",
       "      <td>[Four groups that advocate for immigrant right...</td>\n",
       "      <td>0</td>\n",
       "    </tr>\n",
       "    <tr>\n",
       "      <th>2</th>\n",
       "      <td>[Former Vice President Dick Cheney on Sunday d...</td>\n",
       "      <td>0</td>\n",
       "    </tr>\n",
       "    <tr>\n",
       "      <th>3</th>\n",
       "      <td>[Former Vice President Dick Cheney on Sunday d...</td>\n",
       "      <td>1</td>\n",
       "    </tr>\n",
       "    <tr>\n",
       "      <th>4</th>\n",
       "      <td>[Space shuttle Discovery launched just before ...</td>\n",
       "      <td>0</td>\n",
       "    </tr>\n",
       "    <tr>\n",
       "      <th>...</th>\n",
       "      <td>...</td>\n",
       "      <td>...</td>\n",
       "    </tr>\n",
       "    <tr>\n",
       "      <th>15827</th>\n",
       "      <td>[President Obama said Thursday that watching t...</td>\n",
       "      <td>0</td>\n",
       "    </tr>\n",
       "    <tr>\n",
       "      <th>15828</th>\n",
       "      <td>[President Obama said Thursday that watching t...</td>\n",
       "      <td>1</td>\n",
       "    </tr>\n",
       "    <tr>\n",
       "      <th>15829</th>\n",
       "      <td>[Pope Benedict XVI completed his eight-day tou...</td>\n",
       "      <td>1</td>\n",
       "    </tr>\n",
       "    <tr>\n",
       "      <th>15830</th>\n",
       "      <td>[Pope Benedict XVI completed his eight-day tou...</td>\n",
       "      <td>0</td>\n",
       "    </tr>\n",
       "    <tr>\n",
       "      <th>15831</th>\n",
       "      <td>[In picking Sonia Sotomayor, President Obama h...</td>\n",
       "      <td>1</td>\n",
       "    </tr>\n",
       "  </tbody>\n",
       "</table>\n",
       "<p>15832 rows × 2 columns</p>\n",
       "</div>"
      ],
      "text/plain": [
       "                                                    text  label\n",
       "0      [Four groups that advocate for immigrant right...      1\n",
       "1      [Four groups that advocate for immigrant right...      0\n",
       "2      [Former Vice President Dick Cheney on Sunday d...      0\n",
       "3      [Former Vice President Dick Cheney on Sunday d...      1\n",
       "4      [Space shuttle Discovery launched just before ...      0\n",
       "...                                                  ...    ...\n",
       "15827  [President Obama said Thursday that watching t...      0\n",
       "15828  [President Obama said Thursday that watching t...      1\n",
       "15829  [Pope Benedict XVI completed his eight-day tou...      1\n",
       "15830  [Pope Benedict XVI completed his eight-day tou...      0\n",
       "15831  [In picking Sonia Sotomayor, President Obama h...      1\n",
       "\n",
       "[15832 rows x 2 columns]"
      ]
     },
     "execution_count": 4,
     "metadata": {},
     "output_type": "execute_result"
    }
   ],
   "source": [
    "fake_train_dataset_df"
   ]
  },
  {
   "cell_type": "code",
   "execution_count": 5,
   "metadata": {},
   "outputs": [
    {
     "data": {
      "text/plain": [
       "'Four groups that advocate for immigrant rights said Thursday they will file a lawsuit against the Trump administration\\'s decision to end temporary protected status (TPS) for thousands of Hondurans living in the United States. The groups, including the American Civil Liberties Union (ACLU), the National Network for Immigrant and Refugee Rights, the Center for Constitutional Rights, and Catholic Legal Immigration Network, Inc., claim that the administration\\'s decision is unlawful and will cause \"s'"
      ]
     },
     "execution_count": 5,
     "metadata": {},
     "output_type": "execute_result"
    }
   ],
   "source": [
    "fake_train_dataset_df.iloc[0][\"text\"][0]"
   ]
  },
  {
   "cell_type": "code",
   "execution_count": 6,
   "metadata": {},
   "outputs": [],
   "source": [
    "fake_train_dataset_df[\"text_sentences\"] = fake_train_dataset_df[\"text\"].apply(lambda x: x[0].split(\".\"))\n",
    "\n",
    "fake_texts_df = fake_train_dataset_df[fake_train_dataset_df[\"label\"] == 1]\n",
    "true_texts_df = fake_train_dataset_df[fake_train_dataset_df[\"label\"] == 0]"
   ]
  },
  {
   "cell_type": "code",
   "execution_count": 7,
   "metadata": {},
   "outputs": [
    {
     "data": {
      "text/plain": [
       "[\"Four groups that advocate for immigrant rights said Thursday they will file a lawsuit against the Trump administration's decision to end temporary protected status (TPS) for thousands of Hondurans living in the United States\",\n",
       " ' The groups, including the American Civil Liberties Union (ACLU), the National Network for Immigrant and Refugee Rights, the Center for Constitutional Rights, and Catholic Legal Immigration Network, Inc',\n",
       " ', claim that the administration\\'s decision is unlawful and will cause \"s']"
      ]
     },
     "execution_count": 7,
     "metadata": {},
     "output_type": "execute_result"
    }
   ],
   "source": [
    "fake_train_dataset_df[\"text_sentences\"][0]"
   ]
  },
  {
   "cell_type": "code",
   "execution_count": 8,
   "metadata": {},
   "outputs": [
    {
     "name": "stdout",
     "output_type": "stream",
     "text": [
      "Average number of sentences in fake texts: 4.193784739767559\n",
      "Average number of sentences in true texts: 5.235851440121273\n"
     ]
    }
   ],
   "source": [
    "print(f\"Average number of sentences in fake texts: {np.mean(fake_texts_df['text_sentences'].apply(len))}\")\n",
    "print(f\"Average number of sentences in true texts: {np.mean(true_texts_df['text_sentences'].apply(len))}\")"
   ]
  },
  {
   "cell_type": "code",
   "execution_count": 9,
   "metadata": {},
   "outputs": [
    {
     "name": "stdout",
     "output_type": "stream",
     "text": [
      "Average number of 'the' in fake texts: 5.431783729156139\n",
      "Average number of 'the' in true texts: 5.1379484588175846\n"
     ]
    },
    {
     "name": "stderr",
     "output_type": "stream",
     "text": [
      "/tmp/ipykernel_155640/176004568.py:2: SettingWithCopyWarning: \n",
      "A value is trying to be set on a copy of a slice from a DataFrame.\n",
      "Try using .loc[row_indexer,col_indexer] = value instead\n",
      "\n",
      "See the caveats in the documentation: https://pandas.pydata.org/pandas-docs/stable/user_guide/indexing.html#returning-a-view-versus-a-copy\n",
      "  fake_texts_df[\"the_count\"] = fake_texts_df[\"text\"].apply(lambda x: x[0].count(\"the\"))\n",
      "/tmp/ipykernel_155640/176004568.py:3: SettingWithCopyWarning: \n",
      "A value is trying to be set on a copy of a slice from a DataFrame.\n",
      "Try using .loc[row_indexer,col_indexer] = value instead\n",
      "\n",
      "See the caveats in the documentation: https://pandas.pydata.org/pandas-docs/stable/user_guide/indexing.html#returning-a-view-versus-a-copy\n",
      "  true_texts_df[\"the_count\"] = true_texts_df[\"text\"].apply(lambda x: x[0].count(\"the\"))\n"
     ]
    }
   ],
   "source": [
    "# add column: number of \"the\" in text\n",
    "fake_texts_df[\"the_count\"] = fake_texts_df[\"text\"].apply(lambda x: x[0].count(\"the\"))\n",
    "true_texts_df[\"the_count\"] = true_texts_df[\"text\"].apply(lambda x: x[0].count(\"the\"))\n",
    "\n",
    "print(f\"Average number of 'the' in fake texts: {np.mean(fake_texts_df['the_count'])}\")\n",
    "print(f\"Average number of 'the' in true texts: {np.mean(true_texts_df['the_count'])}\")"
   ]
  },
  {
   "cell_type": "code",
   "execution_count": 10,
   "metadata": {},
   "outputs": [],
   "source": [
    "fake_train_dataset_full_text = \" \".join([text for text in fake_train_dataset_df[\"text\"].apply(lambda x: x[0])])"
   ]
  },
  {
   "cell_type": "code",
   "execution_count": 11,
   "metadata": {},
   "outputs": [
    {
     "data": {
      "text/plain": [
       "7931831"
      ]
     },
     "execution_count": 11,
     "metadata": {},
     "output_type": "execute_result"
    }
   ],
   "source": [
    "len(fake_train_dataset_full_text)"
   ]
  },
  {
   "cell_type": "code",
   "execution_count": 12,
   "metadata": {},
   "outputs": [],
   "source": [
    "# run through all the texts and count occurence of each characters in unicode representation\n",
    "\n",
    "def count_chars(texts):\n",
    "    char_counts = {}\n",
    "    for text in texts:\n",
    "        for char in text:\n",
    "            if char in char_counts:\n",
    "                char_counts[char] += 1\n",
    "            else:\n",
    "                char_counts[char] = 1\n",
    "    return char_counts\n",
    "\n",
    "fake_char_counts = count_chars(fake_train_dataset_full_text)"
   ]
  },
  {
   "cell_type": "code",
   "execution_count": 13,
   "metadata": {},
   "outputs": [
    {
     "data": {
      "text/plain": [
       "{' ': 1302604,\n",
       " 'e': 747661,\n",
       " 'a': 557568,\n",
       " 't': 508687,\n",
       " 'i': 472271,\n",
       " 'n': 465500,\n",
       " 'o': 449433,\n",
       " 'r': 408071,\n",
       " 's': 399941,\n",
       " 'h': 288142,\n",
       " 'd': 254000,\n",
       " 'l': 245222,\n",
       " 'c': 196420,\n",
       " 'u': 160033,\n",
       " 'm': 142476,\n",
       " 'f': 133386,\n",
       " 'g': 127610,\n",
       " 'p': 116290,\n",
       " 'y': 101791,\n",
       " 'w': 96959,\n",
       " 'b': 79695,\n",
       " ',': 77356,\n",
       " 'v': 62244,\n",
       " '.': 58813,\n",
       " 'k': 44521,\n",
       " 'T': 31990,\n",
       " 'S': 25570,\n",
       " 'A': 24307,\n",
       " '-': 21981,\n",
       " 'C': 19939,\n",
       " \"'\": 19292,\n",
       " '\"': 17607,\n",
       " 'M': 17157,\n",
       " '0': 15723,\n",
       " 'I': 14906,\n",
       " 'B': 13230,\n",
       " 'P': 12957,\n",
       " '1': 11526,\n",
       " 'N': 11295,\n",
       " 'x': 10451,\n",
       " 'F': 10206,\n",
       " 'H': 10196,\n",
       " 'W': 9757,\n",
       " '2': 9443,\n",
       " 'D': 9414,\n",
       " 'R': 8260,\n",
       " 'j': 7856,\n",
       " 'z': 7789,\n",
       " 'L': 7648,\n",
       " 'J': 7256,\n",
       " 'O': 7205,\n",
       " 'G': 7105,\n",
       " 'U': 6601,\n",
       " 'E': 5635,\n",
       " 'q': 5105,\n",
       " 'K': 5062,\n",
       " '3': 4253,\n",
       " '9': 4204,\n",
       " '5': 4009,\n",
       " '4': 3539,\n",
       " '6': 3207,\n",
       " '7': 3173,\n",
       " 'V': 3038,\n",
       " '8': 2942,\n",
       " '(': 2295,\n",
       " ')': 2248,\n",
       " 'Y': 2065,\n",
       " ':': 1876,\n",
       " '$': 1211,\n",
       " 'Z': 983,\n",
       " '?': 710,\n",
       " 'Q': 660,\n",
       " '%': 341,\n",
       " 'X': 269,\n",
       " ';': 255,\n",
       " '!': 205,\n",
       " '&': 187,\n",
       " '/': 184,\n",
       " '[': 144,\n",
       " ']': 136,\n",
       " 'é': 94,\n",
       " '£': 57,\n",
       " 'á': 43,\n",
       " '•': 40,\n",
       " 'í': 29,\n",
       " '*': 29,\n",
       " '€': 27,\n",
       " 'ñ': 24,\n",
       " 'ó': 23,\n",
       " '+': 19,\n",
       " '½': 15,\n",
       " 'ü': 14,\n",
       " 'è': 10,\n",
       " '»': 10,\n",
       " 'ö': 9,\n",
       " '@': 8,\n",
       " 'ã': 7,\n",
       " 'ú': 7,\n",
       " '#': 5,\n",
       " '°': 5,\n",
       " 'ï': 5,\n",
       " 'ä': 5,\n",
       " 'ô': 4,\n",
       " '_': 4,\n",
       " '\\xad': 3,\n",
       " 'ø': 3,\n",
       " 'ý': 3,\n",
       " 'č': 2,\n",
       " 'â': 2,\n",
       " 'ð': 2,\n",
       " 'Á': 2,\n",
       " 'š': 2,\n",
       " '|': 2,\n",
       " 'ç': 2,\n",
       " '¥': 2,\n",
       " 'ć': 2,\n",
       " 'ā': 1,\n",
       " 'æ': 1,\n",
       " '\\\\': 1,\n",
       " 'à': 1,\n",
       " 'ë': 1,\n",
       " 'ê': 1,\n",
       " '®': 1,\n",
       " 'ğ': 1,\n",
       " 'Ş': 1,\n",
       " 'É': 1,\n",
       " '’': 1,\n",
       " '–': 1,\n",
       " 'å': 1,\n",
       " 'Ø': 1}"
      ]
     },
     "execution_count": 13,
     "metadata": {},
     "output_type": "execute_result"
    }
   ],
   "source": [
    "fake_char_counts_sorted = dict(sorted(fake_char_counts.items(), key=lambda item: item[1], reverse=True))\n",
    "fake_char_counts_sorted"
   ]
  },
  {
   "cell_type": "code",
   "execution_count": 14,
   "metadata": {},
   "outputs": [
    {
     "data": {
      "text/plain": [
       "{32: 1302604,\n",
       " 101: 747661,\n",
       " 97: 557568,\n",
       " 116: 508687,\n",
       " 105: 472271,\n",
       " 110: 465500,\n",
       " 111: 449433,\n",
       " 114: 408071,\n",
       " 115: 399941,\n",
       " 104: 288142,\n",
       " 100: 254000,\n",
       " 108: 245222,\n",
       " 99: 196420,\n",
       " 117: 160033,\n",
       " 109: 142476,\n",
       " 102: 133386,\n",
       " 103: 127610,\n",
       " 112: 116290,\n",
       " 121: 101791,\n",
       " 119: 96959,\n",
       " 98: 79695,\n",
       " 44: 77356,\n",
       " 118: 62244,\n",
       " 46: 58813,\n",
       " 107: 44521,\n",
       " 84: 31990,\n",
       " 83: 25570,\n",
       " 65: 24307,\n",
       " 45: 21981,\n",
       " 67: 19939,\n",
       " 39: 19292,\n",
       " 34: 17607,\n",
       " 77: 17157,\n",
       " 48: 15723,\n",
       " 73: 14906,\n",
       " 66: 13230,\n",
       " 80: 12957,\n",
       " 49: 11526,\n",
       " 78: 11295,\n",
       " 120: 10451,\n",
       " 70: 10206,\n",
       " 72: 10196,\n",
       " 87: 9757,\n",
       " 50: 9443,\n",
       " 68: 9414,\n",
       " 82: 8260,\n",
       " 106: 7856,\n",
       " 122: 7789,\n",
       " 76: 7648,\n",
       " 74: 7256,\n",
       " 79: 7205,\n",
       " 71: 7105,\n",
       " 85: 6601,\n",
       " 69: 5635,\n",
       " 113: 5105,\n",
       " 75: 5062,\n",
       " 51: 4253,\n",
       " 57: 4204,\n",
       " 53: 4009,\n",
       " 52: 3539,\n",
       " 54: 3207,\n",
       " 55: 3173,\n",
       " 86: 3038,\n",
       " 56: 2942,\n",
       " 40: 2295,\n",
       " 41: 2248,\n",
       " 89: 2065,\n",
       " 58: 1876,\n",
       " 36: 1211,\n",
       " 90: 983,\n",
       " 63: 710,\n",
       " 81: 660,\n",
       " 37: 341,\n",
       " 88: 269,\n",
       " 59: 255,\n",
       " 33: 205,\n",
       " 38: 187,\n",
       " 47: 184,\n",
       " 91: 144,\n",
       " 93: 136,\n",
       " 233: 94,\n",
       " 163: 57,\n",
       " 225: 43,\n",
       " 8226: 40,\n",
       " 237: 29,\n",
       " 42: 29,\n",
       " 8364: 27,\n",
       " 241: 24,\n",
       " 243: 23,\n",
       " 43: 19,\n",
       " 189: 15,\n",
       " 252: 14,\n",
       " 232: 10,\n",
       " 187: 10,\n",
       " 246: 9,\n",
       " 64: 8,\n",
       " 227: 7,\n",
       " 250: 7,\n",
       " 35: 5,\n",
       " 176: 5,\n",
       " 239: 5,\n",
       " 228: 5,\n",
       " 244: 4,\n",
       " 95: 4,\n",
       " 173: 3,\n",
       " 248: 3,\n",
       " 253: 3,\n",
       " 269: 2,\n",
       " 226: 2,\n",
       " 240: 2,\n",
       " 193: 2,\n",
       " 353: 2,\n",
       " 124: 2,\n",
       " 231: 2,\n",
       " 165: 2,\n",
       " 263: 2,\n",
       " 257: 1,\n",
       " 230: 1,\n",
       " 92: 1,\n",
       " 224: 1,\n",
       " 235: 1,\n",
       " 234: 1,\n",
       " 174: 1,\n",
       " 287: 1,\n",
       " 350: 1,\n",
       " 201: 1,\n",
       " 8217: 1,\n",
       " 8211: 1,\n",
       " 229: 1,\n",
       " 216: 1}"
      ]
     },
     "execution_count": 14,
     "metadata": {},
     "output_type": "execute_result"
    }
   ],
   "source": [
    "# convert keys in char_counts to unicode\n",
    "fake_char_counts_unicode = {ord(k): v for k, v in fake_char_counts_sorted.items()}\n",
    "fake_char_counts_unicode"
   ]
  },
  {
   "cell_type": "code",
   "execution_count": 15,
   "metadata": {},
   "outputs": [
    {
     "data": {
      "text/plain": [
       "{'é': 94,\n",
       " '£': 57,\n",
       " 'á': 43,\n",
       " '•': 40,\n",
       " 'í': 29,\n",
       " '€': 27,\n",
       " 'ñ': 24,\n",
       " 'ó': 23,\n",
       " '½': 15,\n",
       " 'ü': 14,\n",
       " 'è': 10,\n",
       " '»': 10,\n",
       " 'ö': 9,\n",
       " 'ã': 7,\n",
       " 'ú': 7,\n",
       " '°': 5,\n",
       " 'ï': 5,\n",
       " 'ä': 5,\n",
       " 'ô': 4,\n",
       " '\\xad': 3,\n",
       " 'ø': 3,\n",
       " 'ý': 3,\n",
       " 'č': 2,\n",
       " 'â': 2,\n",
       " 'ð': 2,\n",
       " 'Á': 2,\n",
       " 'š': 2,\n",
       " 'ç': 2,\n",
       " '¥': 2,\n",
       " 'ć': 2,\n",
       " 'ā': 1,\n",
       " 'æ': 1,\n",
       " 'à': 1,\n",
       " 'ë': 1,\n",
       " 'ê': 1,\n",
       " '®': 1,\n",
       " 'ğ': 1,\n",
       " 'Ş': 1,\n",
       " 'É': 1,\n",
       " '’': 1,\n",
       " '–': 1,\n",
       " 'å': 1,\n",
       " 'Ø': 1}"
      ]
     },
     "execution_count": 15,
     "metadata": {},
     "output_type": "execute_result"
    }
   ],
   "source": [
    "# exclude from count all ascii characters, ie. all keys above 128\n",
    "fake_char_counts_special = {k: v for k, v in fake_char_counts_sorted.items() if ord(k) > 128}\n",
    "fake_char_counts_special"
   ]
  },
  {
   "cell_type": "code",
   "execution_count": 19,
   "metadata": {},
   "outputs": [
    {
     "name": "stdout",
     "output_type": "stream",
     "text": [
      "Number of normal apostrophes: 8444\n",
      "Number of special apostrophes: 1\n"
     ]
    }
   ],
   "source": [
    "# count different kind of apostrophes\n",
    "count_apostrophe_type_1 = 0\n",
    "count_apostrophe_type_2 = 0\n",
    "\n",
    "# iterate over fake texts and count occurence of different apostrophes\n",
    "for text in fake_texts_df[\"text\"].apply(lambda x: x[0]):\n",
    "    count_apostrophe_type_1 += text.count(\"'\")\n",
    "    count_apostrophe_type_2 += text.count(\"’\")\n",
    "\n",
    "print(f\"Number of normal apostrophes: {count_apostrophe_type_1}\")\n",
    "print(f\"Number of special apostrophes: {count_apostrophe_type_2}\")"
   ]
  },
  {
   "cell_type": "code",
   "execution_count": 36,
   "metadata": {},
   "outputs": [
    {
     "data": {
      "text/plain": [
       "'—'"
      ]
     },
     "execution_count": 36,
     "metadata": {},
     "output_type": "execute_result"
    }
   ],
   "source": [
    "# convert form unicode to character\n",
    "chr(8212)"
   ]
  },
  {
   "cell_type": "code",
   "execution_count": 38,
   "metadata": {},
   "outputs": [
    {
     "data": {
      "text/plain": [
       "'–'"
      ]
     },
     "execution_count": 38,
     "metadata": {},
     "output_type": "execute_result"
    }
   ],
   "source": [
    "chr(8211)"
   ]
  },
  {
   "cell_type": "code",
   "execution_count": null,
   "metadata": {},
   "outputs": [],
   "source": []
  },
  {
   "cell_type": "code",
   "execution_count": null,
   "metadata": {},
   "outputs": [],
   "source": []
  }
 ],
 "metadata": {
  "kernelspec": {
   "display_name": "llm_detector",
   "language": "python",
   "name": "python3"
  },
  "language_info": {
   "codemirror_mode": {
    "name": "ipython",
    "version": 3
   },
   "file_extension": ".py",
   "mimetype": "text/x-python",
   "name": "python",
   "nbconvert_exporter": "python",
   "pygments_lexer": "ipython3",
   "version": "3.12.2"
  }
 },
 "nbformat": 4,
 "nbformat_minor": 2
}
