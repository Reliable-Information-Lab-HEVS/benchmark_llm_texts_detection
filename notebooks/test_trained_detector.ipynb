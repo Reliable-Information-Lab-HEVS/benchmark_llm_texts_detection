{
 "cells": [
  {
   "cell_type": "code",
   "execution_count": 2,
   "metadata": {},
   "outputs": [],
   "source": [
    "import torch\n",
    "import torch.nn.functional as F\n",
    "import torch.nn as nn\n",
    "import numpy as np\n",
    "from transformers import (AutoModelForCausalLM, AutoTokenizer, BertForSequenceClassification, BertTokenizer, BertModel,\n",
    " RobertaForSequenceClassification, RobertaTokenizer, RobertaModel, TrainingArguments, Trainer, RobertaConfig, pipeline, AutoConfig)\n",
    "import adapters\n",
    "import os\n",
    "os.chdir(\"../\")"
   ]
  },
  {
   "cell_type": "markdown",
   "metadata": {},
   "source": [
    "# Freezing base"
   ]
  },
  {
   "cell_type": "markdown",
   "metadata": {},
   "source": [
    "## Mistral samples"
   ]
  },
  {
   "cell_type": "code",
   "execution_count": 2,
   "metadata": {},
   "outputs": [
    {
     "data": {
      "text/plain": [
       "<All keys matched successfully>"
      ]
     },
     "execution_count": 2,
     "metadata": {},
     "output_type": "execute_result"
    }
   ],
   "source": [
    "config = RobertaConfig.from_pretrained('FacebookAI/roberta-base')\n",
    "model_path = \"best_model_mistral.pt\"\n",
    "state_dict = torch.load(model_path)\n",
    "model = RobertaForSequenceClassification(config)\n",
    "model.load_state_dict(state_dict)\n",
    "\n",
    "tokenizer = RobertaTokenizer.from_pretrained('FacebookAI/roberta-base')\n",
    "pipeline_classif_mistral = pipeline('text-classification', model=model, tokenizer=tokenizer)"
   ]
  },
  {
   "cell_type": "code",
   "execution_count": 5,
   "metadata": {},
   "outputs": [
    {
     "data": {
      "text/plain": [
       "[{'label': 'LABEL_0', 'score': 0.7413396239280701}]"
      ]
     },
     "execution_count": 5,
     "metadata": {},
     "output_type": "execute_result"
    }
   ],
   "source": [
    "sample_text_fake = \"Voters in Japan will turn out for parliamentary elections Sunday in what poll after poll shows will be a historic shift in political power to oust the ruling party. Japanese Prime Minister Taro Aso has approval ratings in the teens. The Liberal Democratic Party has been in nearly continuous control of Japan's parliament for more than five decades. But the country's worst economic crisis since World War II has led a normally sedate electorate to the polls, disgruntled with how slowly the country\"\n",
    "pipeline_classif_mistral(sample_text_fake)"
   ]
  },
  {
   "cell_type": "code",
   "execution_count": 6,
   "metadata": {},
   "outputs": [
    {
     "data": {
      "text/plain": [
       "[{'label': 'LABEL_0', 'score': 0.7499374151229858}]"
      ]
     },
     "execution_count": 6,
     "metadata": {},
     "output_type": "execute_result"
    }
   ],
   "source": [
    "sample_text_true = \"Voters in Japan will turn out for parliamentary elections Sunday , with the ruling Liberal Democratic Party (LDP) and its junior partner Komeito poised to extend their 10-year grip on power.  The LDP is likely to retain a two-thirds majority in the lower house, which would allow it to change the constitution without the cooperation of the opposition.  But the party, which has dominated Japanese politics for most of the post-war era, has failed to persuade voters it can tackle the country’s probl\"\n",
    "pipeline_classif_mistral(sample_text_fake)"
   ]
  },
  {
   "cell_type": "code",
   "execution_count": 9,
   "metadata": {},
   "outputs": [
    {
     "data": {
      "text/plain": [
       "[{'label': 'LABEL_0', 'score': 0.8740516304969788}]"
      ]
     },
     "execution_count": 9,
     "metadata": {},
     "output_type": "execute_result"
    }
   ],
   "source": [
    "sample_text_fake = \"Two of Turkey's main political parties are pushing for a constitutional amendment to lift bans on headscarves at public universities, a move that has caused concern among Turkey's secular population.  The lifting of the ban on headscarves has caused concern among Turkey's secular population. Prime Minister Recep Tayyip Erdogan initiated the move, saying it would create equality in Turkey's higher education. The constitutional commission will discuss the proposal -- submitted by the AKP and MHP pa\"\n",
    "pipeline_classif_mistral(sample_text_fake)"
   ]
  },
  {
   "cell_type": "code",
   "execution_count": 10,
   "metadata": {},
   "outputs": [
    {
     "data": {
      "text/plain": [
       "[{'label': 'LABEL_0', 'score': 0.9280597567558289}]"
      ]
     },
     "execution_count": 10,
     "metadata": {},
     "output_type": "execute_result"
    }
   ],
   "source": [
    "sample_text_fake = \"Two of Turkey's main political parties are pushing for a constitutional amendment to lift bans on headscarves at public universities, a move that has caused concern among Turkey's secular population.  The lifting of the ban on headscarves has caused concern among Turkey's secular population.  Prime Minister Recep Tayyip Erdogan initiated the move, saying it would create equality in Turkey's higher education.  The constitutional commission will discuss the proposal -- submitted by the AKP and MHP pa\"\n",
    "pipeline_classif_mistral(sample_text_fake)"
   ]
  },
  {
   "cell_type": "code",
   "execution_count": 12,
   "metadata": {},
   "outputs": [
    {
     "data": {
      "text/plain": [
       "[{'label': 'LABEL_0', 'score': 0.7246546745300293}]"
      ]
     },
     "execution_count": 12,
     "metadata": {},
     "output_type": "execute_result"
    }
   ],
   "source": [
    "sample_text_fake = \"Two of Turkey's main political parties are pushing for a national referendum on the country's membership of the European Union. The ruling Justice and Development Party (AKP) and the opposition Republican People's Party (CHP) are both planning to submit the proposal to parliament. The AKP says the referendum should be held in 2013, while the CHP favors an earlier date. Turkey's EU accession talks have been stalled since 2007 over a series of disputes Turkish Prime Minister Recep Tayyip Erdo\"\n",
    "pipeline_classif_mistral(sample_text_fake)"
   ]
  },
  {
   "cell_type": "code",
   "execution_count": 14,
   "metadata": {},
   "outputs": [
    {
     "data": {
      "text/plain": [
       "[{'label': 'LABEL_1', 'score': 0.7312844395637512}]"
      ]
     },
     "execution_count": 14,
     "metadata": {},
     "output_type": "execute_result"
    }
   ],
   "source": [
    "sample_text_fake = \"Zimbabwean lawmakers on Monday narrowly voted for Lovemore Moyo as speaker of the parliament making him the first opposition lawmaker to hold the position in the country's history. Morgan Tsvangirai's MDC faction has a slim majority following parliamentary elections. \\\"This is historic as it ceases to be a rubber-stamping house,\\\" Moyo said after winning the position. \\\"It will ensure that progressive laws are passed. I promise to be professional.\\\" Moyo the national chairman of the main Movem\"\n",
    "pipeline_classif_mistral(sample_text_fake)"
   ]
  },
  {
   "cell_type": "markdown",
   "metadata": {},
   "source": [
    "## GPT-2 samples"
   ]
  },
  {
   "cell_type": "code",
   "execution_count": 62,
   "metadata": {},
   "outputs": [],
   "source": [
    "config = RobertaConfig.from_pretrained('FacebookAI/roberta-base')\n",
    "model_path = \"best_model_gpt2.pt\"\n",
    "state_dict = torch.load(model_path)\n",
    "model = RobertaForSequenceClassification(config)\n",
    "model.load_state_dict(state_dict)\n",
    "\n",
    "tokenizer = RobertaTokenizer.from_pretrained('FacebookAI/roberta-base')\n",
    "pipeline_classif_gpt2 = pipeline('text-classification', model=model, tokenizer=tokenizer)"
   ]
  },
  {
   "cell_type": "code",
   "execution_count": 12,
   "metadata": {},
   "outputs": [
    {
     "data": {
      "text/plain": [
       "[{'label': 'LABEL_1', 'score': 0.9197396636009216}]"
      ]
     },
     "execution_count": 12,
     "metadata": {},
     "output_type": "execute_result"
    }
   ],
   "source": [
    "sample_text_fake = \"After weeks of controversy over Michael Mukasey's views on waterboarding, the Obama administration has decided to stop using torture. President Barack H.\\\"s decision will not change any new law that is passed,\\\" said Sen-elect Mike Lee in a statement released Wednesday evening by his campaign and Democratic presidential candidate Hillary Clinton supporters who are trying for president with an \\\"opportunity\\\" at this weekday rally outside New Hampshire.As far as\"\n",
    "\n",
    "pipeline_classif_gpt2(sample_text_fake)"
   ]
  },
  {
   "cell_type": "code",
   "execution_count": 31,
   "metadata": {},
   "outputs": [
    {
     "data": {
      "text/plain": [
       "[{'label': 'LABEL_1', 'score': 0.9603350162506104}]"
      ]
     },
     "execution_count": 31,
     "metadata": {},
     "output_type": "execute_result"
    }
   ],
   "source": [
    "sample_text_fake = \"\\\"Why do only rich kids get good schools?\\\" I was asked this question by a fellow who has been to many of the best public school systems in America. \\\"How does it feel for poor students? If you are lucky, then there is always going be one or two other children that don't know how they can succeed academically,\\\" he told me after we had spent some time together at his home and talked about what life on campus would look like if all those bright young people got their hands dirty with every opportunit\"\n",
    "pipeline_classif_gpt2(sample_text_fake)"
   ]
  },
  {
   "cell_type": "code",
   "execution_count": 35,
   "metadata": {},
   "outputs": [
    {
     "data": {
      "text/plain": [
       "[{'label': 'LABEL_1', 'score': 0.511606752872467}]"
      ]
     },
     "execution_count": 35,
     "metadata": {},
     "output_type": "execute_result"
    }
   ],
   "source": [
    "sample_text_fake = \"\\\"Why do only rich kids get good schools?\\\" I was the founder and director of a part-time out-of-school college preparatory program. The questioner was a parent; herself a victim of a dulled urban education. The statement was more of an indictment than question, and I had no answer. \\\"Well, why can't this program be a school,\\\" she offered. The program sent 100 percent of our graduates to college. We served poor students who were the first generation in their families to attend college. We provided \"\n",
    "pipeline_classif_gpt2(sample_text_fake)"
   ]
  },
  {
   "cell_type": "markdown",
   "metadata": {},
   "source": [
    "## Phi-2 samples"
   ]
  },
  {
   "cell_type": "code",
   "execution_count": 37,
   "metadata": {},
   "outputs": [],
   "source": [
    "config = RobertaConfig.from_pretrained('FacebookAI/roberta-base')\n",
    "model_path = \"best_model_phi2.pt\"\n",
    "state_dict = torch.load(model_path)\n",
    "model = RobertaForSequenceClassification(config)\n",
    "model.load_state_dict(state_dict)\n",
    "\n",
    "tokenizer = RobertaTokenizer.from_pretrained('FacebookAI/roberta-base')\n",
    "pipeline_classif_phi2 = pipeline('text-classification', model=model, tokenizer=tokenizer)"
   ]
  },
  {
   "cell_type": "code",
   "execution_count": 40,
   "metadata": {},
   "outputs": [
    {
     "data": {
      "text/plain": [
       "[{'label': 'LABEL_1', 'score': 0.6936783790588379}]"
      ]
     },
     "execution_count": 40,
     "metadata": {},
     "output_type": "execute_result"
    }
   ],
   "source": [
    "sample_text_fake = \"Brazil have returned to the top of the FIFA world rankings for the first time since the start of the pandemic. It is estimated that around 100,000 football players and coaches are currently self-isolating after testing positive for COVID-19. The government is trying to ensure that all of the country's footballers have been tested for the virus, and those that test positive are being quarantined in a number of specially-built isolation units. The government has been criticised for not doing enoug\"\n",
    "pipeline_classif_phi2(sample_text_fake)"
   ]
  },
  {
   "cell_type": "code",
   "execution_count": 48,
   "metadata": {},
   "outputs": [
    {
     "data": {
      "text/plain": [
       "[{'label': 'LABEL_0', 'score': 0.9688941240310669}]"
      ]
     },
     "execution_count": 48,
     "metadata": {},
     "output_type": "execute_result"
    }
   ],
   "source": [
    "sample_text_true = \"Brazil have returned to the top of the FIFA world rankings after a two-year absence, following their Confederations Cup final victory over the United States in South Africa on Sunday -- FIFA.com have reported. The Brazilian national side top the FIFA world rankings again after an absence of two years. Dunga's side came from behind to defeat the United States 3-2, a result which sees them replace Spain after the European champions were beaten in the semifinals to finish third in the Confederation.\"\n",
    "pipeline_classif_phi2(sample_text_true)"
   ]
  },
  {
   "cell_type": "code",
   "execution_count": 54,
   "metadata": {},
   "outputs": [
    {
     "data": {
      "text/plain": [
       "[{'label': 'LABEL_0', 'score': 0.8942074775695801}]"
      ]
     },
     "execution_count": 54,
     "metadata": {},
     "output_type": "execute_result"
    }
   ],
   "source": [
    "sample_text_true = \"He is iconic, there's no doubt. George Hamilton gets his life story on screen in \\\"My One and Only.\\\" With the elegant suit and tie, the impeccable grooming, the tan (Did I mention the tan?), George Hamilton is still a charmer, and he comes across like a born bon vivant. Sure, his acting may have taken a backseat to his bronzed visage years ago, but what did happen to him years ago? Well, there's a story there, one now coming to the big screen. Hamilton's formative years are loosely depicted in th\"\n",
    "pipeline_classif_phi2(sample_text_true)"
   ]
  },
  {
   "cell_type": "code",
   "execution_count": 58,
   "metadata": {},
   "outputs": [
    {
     "data": {
      "text/plain": [
       "[{'label': 'LABEL_1', 'score': 0.9198764562606812}]"
      ]
     },
     "execution_count": 58,
     "metadata": {},
     "output_type": "execute_result"
    }
   ],
   "source": [
    "sample_text_fake = \"He is iconic, there's no doubt. George Hamilton gets his life story on screen in \\\"My One and Only.\\\", and has become synonymous with a certain kind of masculine manliness. But who is this man? What does it mean to be a George Hamilton? It's difficult to pinpoint exactly what makes a George Hamilton, but there are a few qualities that are common to all. 1. He is physically strong and fit. George Hamilton is a man who takes care of his body. He works out regularly, eats a healthy diet, and gets plenty of rest. He i\"\n",
    "pipeline_classif_phi2(sample_text_fake)"
   ]
  },
  {
   "cell_type": "markdown",
   "metadata": {},
   "source": [
    "## Cross model predictions"
   ]
  },
  {
   "cell_type": "code",
   "execution_count": 59,
   "metadata": {},
   "outputs": [
    {
     "data": {
      "text/plain": [
       "[{'label': 'LABEL_0', 'score': 0.6927809119224548}]"
      ]
     },
     "execution_count": 59,
     "metadata": {},
     "output_type": "execute_result"
    }
   ],
   "source": [
    "sample_text_fake = \"\\\"Why do only rich kids get good schools?\\\" I was asked this question by a fellow who has been to many of the best public school systems in America. \\\"How does it feel for poor students? If you are lucky, then there is always going be one or two other children that don't know how they can succeed academically,\\\" he told me after we had spent some time together at his home and talked about what life on campus would look like if all those bright young people got their hands dirty with every opportunit\"\n",
    "pipeline_classif_phi2(sample_text_fake)"
   ]
  },
  {
   "cell_type": "code",
   "execution_count": 61,
   "metadata": {},
   "outputs": [
    {
     "data": {
      "text/plain": [
       "[{'label': 'LABEL_1', 'score': 0.7440130710601807}]"
      ]
     },
     "execution_count": 61,
     "metadata": {},
     "output_type": "execute_result"
    }
   ],
   "source": [
    "sample_text_fake = \"\\\"Why do only rich kids get good schools?\\\" I was the founder and director of a part-time out-of-school college preparatory program. The questioner was a parent; herself a victim of a dulled urban education. The statement was more of an indictment than question, and I had no answer. \\\"Well, why can't this program be a school,\\\" she offered. The program sent 100 percent of our graduates to college. We served poor students who were the first generation in their families to attend college. We provided \"\n",
    "pipeline_classif_phi2(sample_text_fake)"
   ]
  },
  {
   "cell_type": "code",
   "execution_count": 64,
   "metadata": {},
   "outputs": [
    {
     "data": {
      "text/plain": [
       "[{'label': 'LABEL_0', 'score': 0.9977840781211853}]"
      ]
     },
     "execution_count": 64,
     "metadata": {},
     "output_type": "execute_result"
    }
   ],
   "source": [
    "sample_text_fake = \"Brazil have returned to the top of the FIFA world rankings for the first time since the start of the pandemic. It is estimated that around 100,000 football players and coaches are currently self-isolating after testing positive for COVID-19. The government is trying to ensure that all of the country's footballers have been tested for the virus, and those that test positive are being quarantined in a number of specially-built isolation units. The government has been criticised for not doing enoug\"\n",
    "pipeline_classif_gpt2(sample_text_fake)"
   ]
  },
  {
   "cell_type": "code",
   "execution_count": 65,
   "metadata": {},
   "outputs": [
    {
     "data": {
      "text/plain": [
       "[{'label': 'LABEL_0', 'score': 0.5806064605712891}]"
      ]
     },
     "execution_count": 65,
     "metadata": {},
     "output_type": "execute_result"
    }
   ],
   "source": [
    "sample_text_fake = \"Brazil have returned to the top of the FIFA world rankings for the first time since the start of the pandemic. It is estimated that around 100,000 football players and coaches are currently self-isolating after testing positive for COVID-19. The government is trying to ensure that all of the country's footballers have been tested for the virus, and those that test positive are being quarantined in a number of specially-built isolation units. The government has been criticised for not doing enoug\"\n",
    "pipeline_classif_gpt2(sample_text_fake)"
   ]
  },
  {
   "cell_type": "code",
   "execution_count": null,
   "metadata": {},
   "outputs": [],
   "source": []
  },
  {
   "cell_type": "markdown",
   "metadata": {},
   "source": [
    "# Full finetuning"
   ]
  },
  {
   "cell_type": "markdown",
   "metadata": {},
   "source": [
    "# Adapter training "
   ]
  },
  {
   "cell_type": "code",
   "execution_count": 7,
   "metadata": {},
   "outputs": [],
   "source": [
    "detector_path = \"FacebookAI/roberta-large\"\n",
    "config = AutoConfig.from_pretrained(detector_path)\n",
    "model = RobertaForSequenceClassification(config)\n",
    "bert_tokenizer = RobertaTokenizer.from_pretrained(detector_path)"
   ]
  },
  {
   "cell_type": "code",
   "execution_count": 8,
   "metadata": {},
   "outputs": [],
   "source": [
    "model_path = \"./saved_training_logs/roberta_large/fake_true_dataset_gpt2_10k/26_03_1841/saved_models/best_model.pt\"\n",
    "adapters.init(model)\n",
    "config = adapters.BnConfig(mh_adapter=True, output_adapter=True, reduction_factor=16, non_linearity=\"relu\")\n",
    "model.add_adapter(\"fake_true_detection\", config=config)\n",
    "model.load_state_dict(torch.load(model_path))\n",
    "model = model.to('cuda')"
   ]
  },
  {
   "cell_type": "code",
   "execution_count": 13,
   "metadata": {},
   "outputs": [
    {
     "data": {
      "text/plain": [
       "RobertaLayer(\n",
       "  (attention): RobertaAttention(\n",
       "    (self): RobertaSelfAttentionWithAdapters(\n",
       "      (query): LoRALinear(\n",
       "        in_features=1024, out_features=1024, bias=True\n",
       "        (loras): ModuleDict()\n",
       "      )\n",
       "      (key): LoRALinear(\n",
       "        in_features=1024, out_features=1024, bias=True\n",
       "        (loras): ModuleDict()\n",
       "      )\n",
       "      (value): LoRALinear(\n",
       "        in_features=1024, out_features=1024, bias=True\n",
       "        (loras): ModuleDict()\n",
       "      )\n",
       "      (dropout): Dropout(p=0.1, inplace=False)\n",
       "      (prefix_tuning): PrefixTuningLayer(\n",
       "        (prefix_gates): ModuleDict()\n",
       "        (pool): PrefixTuningPool(\n",
       "          (prefix_tunings): ModuleDict()\n",
       "        )\n",
       "      )\n",
       "    )\n",
       "    (output): RobertaSelfOutputWithAdapters(\n",
       "      (dense): Linear(in_features=1024, out_features=1024, bias=True)\n",
       "      (LayerNorm): LayerNorm((1024,), eps=1e-05, elementwise_affine=True)\n",
       "      (dropout): Dropout(p=0.1, inplace=False)\n",
       "      (adapters): ModuleDict(\n",
       "        (fake_true_detection): Adapter(\n",
       "          (non_linearity): Activation_Function_Class(\n",
       "            (f): ReLU()\n",
       "          )\n",
       "          (adapter_down): Sequential(\n",
       "            (0): Linear(in_features=1024, out_features=64, bias=True)\n",
       "            (1): Activation_Function_Class(\n",
       "              (f): ReLU()\n",
       "            )\n",
       "          )\n",
       "          (adapter_up): Linear(in_features=64, out_features=1024, bias=True)\n",
       "        )\n",
       "      )\n",
       "      (adapter_fusion_layer): ModuleDict()\n",
       "    )\n",
       "  )\n",
       "  (intermediate): RobertaIntermediate(\n",
       "    (dense): LoRALinear(\n",
       "      in_features=1024, out_features=4096, bias=True\n",
       "      (loras): ModuleDict()\n",
       "    )\n",
       "    (intermediate_act_fn): GELUActivation()\n",
       "  )\n",
       "  (output): RobertaOutputWithAdapters(\n",
       "    (dense): LoRALinear(\n",
       "      in_features=4096, out_features=1024, bias=True\n",
       "      (loras): ModuleDict()\n",
       "    )\n",
       "    (LayerNorm): LayerNorm((1024,), eps=1e-05, elementwise_affine=True)\n",
       "    (dropout): Dropout(p=0.1, inplace=False)\n",
       "    (adapters): ModuleDict(\n",
       "      (fake_true_detection): Adapter(\n",
       "        (non_linearity): Activation_Function_Class(\n",
       "          (f): ReLU()\n",
       "        )\n",
       "        (adapter_down): Sequential(\n",
       "          (0): Linear(in_features=1024, out_features=64, bias=True)\n",
       "          (1): Activation_Function_Class(\n",
       "            (f): ReLU()\n",
       "          )\n",
       "        )\n",
       "        (adapter_up): Linear(in_features=64, out_features=1024, bias=True)\n",
       "      )\n",
       "    )\n",
       "    (adapter_fusion_layer): ModuleDict()\n",
       "  )\n",
       ")"
      ]
     },
     "execution_count": 13,
     "metadata": {},
     "output_type": "execute_result"
    }
   ],
   "source": [
    "model.roberta.encoder.layer[0]"
   ]
  },
  {
   "cell_type": "markdown",
   "metadata": {},
   "source": [
    "# Weird results"
   ]
  },
  {
   "cell_type": "code",
   "execution_count": 2,
   "metadata": {},
   "outputs": [],
   "source": [
    "config = RobertaConfig.from_pretrained('distilbert/distilroberta-base')\n",
    "model_path = \"saved_training_logs_experiment_2/distil_roberta-base/freeze_base/fake_true_dataset_gemma_10k/04_04_1004/saved_models/best_model.pt\"\n",
    "state_dict = torch.load(model_path)\n",
    "model = RobertaForSequenceClassification(config)\n",
    "model.load_state_dict(state_dict)\n",
    "\n",
    "tokenizer = RobertaTokenizer.from_pretrained('distilbert/distilroberta-base')\n",
    "pipeline_classif_gemma = pipeline('text-classification', model=model, tokenizer=tokenizer)"
   ]
  },
  {
   "cell_type": "markdown",
   "metadata": {},
   "source": [
    "## Dick Cheney example"
   ]
  },
  {
   "cell_type": "code",
   "execution_count": 12,
   "metadata": {},
   "outputs": [
    {
     "data": {
      "text/plain": [
       "[{'label': 'LABEL_0', 'score': 0.8481298685073853}]"
      ]
     },
     "execution_count": 12,
     "metadata": {},
     "output_type": "execute_result"
    }
   ],
   "source": [
    "sample_text_true = \"Former Vice President Dick Cheney on Sunday defended the Bush administration's economic record, the invasion of Iraq and the treatment of suspected terrorists, warning that reversing its anti-terrorism policies endangers Americans. \\\"We've accomplished nearly everything we set out to do,\\\" ex-Vice President Dick Cheney says Sunday about Iraq. In a wide-ranging interview with CNN's \\\"State of the Union,\\\" Cheney said the harsh interrogations of suspects and the use of warrantless electronic surveilla\"\n",
    "pipeline_classif_gemma(sample_text_true)"
   ]
  },
  {
   "cell_type": "code",
   "execution_count": 13,
   "metadata": {},
   "outputs": [
    {
     "name": "stderr",
     "output_type": "stream",
     "text": [
      "<>:1: SyntaxWarning: invalid escape sequence '\\/'\n",
      "<>:1: SyntaxWarning: invalid escape sequence '\\/'\n",
      "/tmp/ipykernel_190444/3898600602.py:1: SyntaxWarning: invalid escape sequence '\\/'\n",
      "  sample_text_fake = \"Former Vice President Dick Cheney on Sunday defended the Bush administration’s decision to invade Iraq, arguing that the U.S. should have acted against Saddam Hussein in the wake of the 9\\/11 terrorist attacks. “I think there was a good case for action,” Cheney said on NBC’s “Meet the Press.” “I think we did the right thing.” Cheney, who served as Vice President under George W. Bush, was asked about the president’s comments on Thursday, when he said that the U.S. should not have invaded Iraq and \"\n"
     ]
    },
    {
     "data": {
      "text/plain": [
       "[{'label': 'LABEL_1', 'score': 0.9525690674781799}]"
      ]
     },
     "execution_count": 13,
     "metadata": {},
     "output_type": "execute_result"
    }
   ],
   "source": [
    "sample_text_fake_gemma = \"Former Vice President Dick Cheney on Sunday defended the Bush administration’s decision to invade Iraq, arguing that the U.S. should have acted against Saddam Hussein in the wake of the 9\\/11 terrorist attacks. “I think there was a good case for action,” Cheney said on NBC’s “Meet the Press.” “I think we did the right thing.” Cheney, who served as Vice President under George W. Bush, was asked about the president’s comments on Thursday, when he said that the U.S. should not have invaded Iraq and \"\n",
    "pipeline_classif_gemma(sample_text_fake_gemma)"
   ]
  },
  {
   "cell_type": "code",
   "execution_count": 14,
   "metadata": {},
   "outputs": [
    {
     "data": {
      "text/plain": [
       "[{'label': 'LABEL_1', 'score': 0.9780640602111816}]"
      ]
     },
     "execution_count": 14,
     "metadata": {},
     "output_type": "execute_result"
    }
   ],
   "source": [
    "sample_text_fake_phi = \"Former Vice President Dick Cheney on Sunday defended the Bush administration’s energy policy, saying it has “made a big difference.” In an interview with the “CBS Evening News” program, Cheney, who is currently on leave from his post as CEO of Halliburton, the oil and gas services company, said that “the energy policy of the Bush administration has been extremely successful.” The interview aired Sunday morning, but was not aired in its entirety on the CBS Evening News, which aired the interview\"\n",
    "pipeline_classif_gemma(sample_text_fake_phi)"
   ]
  },
  {
   "cell_type": "code",
   "execution_count": 15,
   "metadata": {},
   "outputs": [
    {
     "data": {
      "text/plain": [
       "[{'label': 'LABEL_1', 'score': 0.9946627616882324}]"
      ]
     },
     "execution_count": 15,
     "metadata": {},
     "output_type": "execute_result"
    }
   ],
   "source": [
    "sample_text_fake_mistral = \"Former Vice President Dick Cheney on Sunday defended the Bush administration's decision to close Guantanamo Bay prison after his former boss was accused of ordering an attack against a U.S.-led coalition in Yemen, saying it would be \\\"shameful\\\" if there were no charges brought by that country over its alleged involvement with al Qaeda-linked militants who carried out attacks at US military bases and other places throughout the Middle East last year as well: -The United States has never been invol\"\n",
    "pipeline_classif_gemma(sample_text_fake)"
   ]
  },
  {
   "cell_type": "code",
   "execution_count": 16,
   "metadata": {},
   "outputs": [
    {
     "name": "stderr",
     "output_type": "stream",
     "text": [
      "<>:1: SyntaxWarning: invalid escape sequence '\\/'\n",
      "<>:1: SyntaxWarning: invalid escape sequence '\\/'\n",
      "/tmp/ipykernel_190444/3242459142.py:1: SyntaxWarning: invalid escape sequence '\\/'\n",
      "  sample_text_fake_gpt2 = \"Former Vice President Dick Cheney on Sunday defended the Bush administration's actions in Iraq, saying they did not cause any harm to U.S.-led forces and that there was no need for more airstrikes against Islamic State targets near Baghdad after a series of air strikes over six months ago killed at least 21 Iraqi soldiers who had joined IS or were suspected terrorists by government officials as part (AFP Photo\\/RUFA RUSSELL) A senior US official said Saturday he believes \\\"that it is possible\\\" Was\"\n"
     ]
    },
    {
     "data": {
      "text/plain": [
       "[{'label': 'LABEL_1', 'score': 0.9777976274490356}]"
      ]
     },
     "execution_count": 16,
     "metadata": {},
     "output_type": "execute_result"
    }
   ],
   "source": [
    "sample_text_fake_gpt2 = \"Former Vice President Dick Cheney on Sunday defended the Bush administration's actions in Iraq, saying they did not cause any harm to U.S.-led forces and that there was no need for more airstrikes against Islamic State targets near Baghdad after a series of air strikes over six months ago killed at least 21 Iraqi soldiers who had joined IS or were suspected terrorists by government officials as part (AFP Photo\\/RUFA RUSSELL) A senior US official said Saturday he believes \\\"that it is possible\\\" Was\"\n",
    "pipeline_classif_gemma(sample_text_fake)"
   ]
  },
  {
   "cell_type": "markdown",
   "metadata": {},
   "source": [
    "## Four groups example"
   ]
  },
  {
   "cell_type": "code",
   "execution_count": 117,
   "metadata": {},
   "outputs": [
    {
     "data": {
      "text/plain": [
       "[{'label': 'LABEL_0', 'score': 0.9731037616729736}]"
      ]
     },
     "execution_count": 117,
     "metadata": {},
     "output_type": "execute_result"
    }
   ],
   "source": [
    "sample_text_true = \"Four groups that advocate for immigrant rights said Thursday they will challenge Arizona's new immigration law, which allows police to ask anyone for proof of legal U.S. residency. The Mexican American Legal Defense and Educational Fund, the American Civil Liberties Union, the ACLU of Arizona and the National Immigration Law Center held a news conference Thursday in Phoenix to announce the legal challenge. \\\"The Arizona community can be assured that a vigorous and sophisticated legal challenge wi\"\n",
    "pipeline_classif_gemma(sample_text_true)"
   ]
  },
  {
   "cell_type": "code",
   "execution_count": 94,
   "metadata": {},
   "outputs": [
    {
     "data": {
      "text/plain": [
       "[{'label': 'LABEL_1', 'score': 0.8621445894241333}]"
      ]
     },
     "execution_count": 94,
     "metadata": {},
     "output_type": "execute_result"
    }
   ],
   "source": [
    "sample_text_fake_gemma = \"Four groups that advocate for immigrant rights said Thursday they are suing the Trump administration over its new policy that blocks federal funding for legal representation to immigrants facing deportation. The groups, including the American Civil Liberties Union and the National Immigration Law Center, said they are filing a lawsuit in the U.S. District Court in Los Angeles. The lawsuit alleges that the Trump administration’s policy violates the 14th Amendment, which guarantees equal protectio\"\n",
    "pipeline_classif_gemma(sample_text_fake_gemma)"
   ]
  },
  {
   "cell_type": "code",
   "execution_count": 114,
   "metadata": {},
   "outputs": [
    {
     "data": {
      "text/plain": [
       "[{'label': 'LABEL_1', 'score': 0.7527174353599548}]"
      ]
     },
     "execution_count": 114,
     "metadata": {},
     "output_type": "execute_result"
    }
   ],
   "source": [
    "sample_text_fake_gemma = \"Four groups that advocate for immigrant rights said Thursday they are suing the Trump administration over its new policy that blocks federal funding for legal representation to immigrants facing deportation. The groups, including the American Civil Liberties Union and the National Immigration Law Center, said they are filing a lawsuit in the U.S. District Court in Los Angeles. The lawsuit alleges that the Trump administration's policy violates the 14th Amendment, which guarantees equal protectio\"\n",
    "pipeline_classif_gemma(sample_text_fake_gemma)"
   ]
  },
  {
   "cell_type": "code",
   "execution_count": 156,
   "metadata": {},
   "outputs": [
    {
     "data": {
      "text/plain": [
       "[{'label': 'LABEL_1', 'score': 0.759391188621521}]"
      ]
     },
     "execution_count": 156,
     "metadata": {},
     "output_type": "execute_result"
    }
   ],
   "source": [
    "sample_text_fake_gemma = \"Four groups that advocate for immigrant rights said Thursday they are suing the Trump administration over its new policy. The lawsuit alleges that the Trump administration's policy violates the 14th Amendment, which guarantees equal protection.\"\n",
    "pipeline_classif_gemma(sample_text_fake_gemma)"
   ]
  },
  {
   "cell_type": "code",
   "execution_count": null,
   "metadata": {},
   "outputs": [],
   "source": [
    "sample_text_fake_trivial_true = \"The news shocked the world, he did it again. As Chile celebrated the 100th Anniversary of its independence, the terrorist group attacked the festivities at the capital. The attacker's motive matched the police's investigation.\"\n",
    "pipeline_classif_gemma(sample_text_fake_trivial_true)"
   ]
  },
  {
   "cell_type": "code",
   "execution_count": 62,
   "metadata": {},
   "outputs": [],
   "source": [
    "prob_fake_dict = []\n",
    "all_chars_list = [chr(i) for i in range(128)]\n",
    "for char in all_chars_list:\n",
    "    sample_text_fake_trivial = char\n",
    "\n",
    "    res_scores = []\n",
    "    for i in range(10):\n",
    "        res = pipeline_classif_gemma(sample_text_fake_trivial)[0]\n",
    "        res_label = res[\"label\"]\n",
    "        if res_label == \"LABEL_0\":\n",
    "            res_scores.append(-res[\"score\"])\n",
    "        elif res_label == \"LABEL_1\":\n",
    "            res_scores.append(res[\"score\"])\n",
    "        else:\n",
    "            raise ValueError(\"Error\")\n",
    "    res_score_avg = sum(res_scores) / len(res_scores)\n",
    "    prob_fake_dict.append({\"char\": char, \"score\" : res_score_avg})\n"
   ]
  },
  {
   "cell_type": "code",
   "execution_count": 63,
   "metadata": {},
   "outputs": [],
   "source": [
    "import pandas as pd\n",
    "prob_fake_dict_df = pd.DataFrame(prob_fake_dict)"
   ]
  },
  {
   "cell_type": "code",
   "execution_count": 65,
   "metadata": {},
   "outputs": [
    {
     "data": {
      "text/html": [
       "<div>\n",
       "<style scoped>\n",
       "    .dataframe tbody tr th:only-of-type {\n",
       "        vertical-align: middle;\n",
       "    }\n",
       "\n",
       "    .dataframe tbody tr th {\n",
       "        vertical-align: top;\n",
       "    }\n",
       "\n",
       "    .dataframe thead th {\n",
       "        text-align: right;\n",
       "    }\n",
       "</style>\n",
       "<table border=\"1\" class=\"dataframe\">\n",
       "  <thead>\n",
       "    <tr style=\"text-align: right;\">\n",
       "      <th></th>\n",
       "      <th>char</th>\n",
       "      <th>score</th>\n",
       "    </tr>\n",
       "  </thead>\n",
       "  <tbody>\n",
       "    <tr>\n",
       "      <th>39</th>\n",
       "      <td>'</td>\n",
       "      <td>-0.942340</td>\n",
       "    </tr>\n",
       "    <tr>\n",
       "      <th>46</th>\n",
       "      <td>.</td>\n",
       "      <td>-0.920768</td>\n",
       "    </tr>\n",
       "    <tr>\n",
       "      <th>15</th>\n",
       "      <td>\u000f</td>\n",
       "      <td>-0.825839</td>\n",
       "    </tr>\n",
       "    <tr>\n",
       "      <th>1</th>\n",
       "      <td>\u0001</td>\n",
       "      <td>-0.823418</td>\n",
       "    </tr>\n",
       "    <tr>\n",
       "      <th>18</th>\n",
       "      <td>\u0012</td>\n",
       "      <td>-0.816708</td>\n",
       "    </tr>\n",
       "    <tr>\n",
       "      <th>...</th>\n",
       "      <td>...</td>\n",
       "      <td>...</td>\n",
       "    </tr>\n",
       "    <tr>\n",
       "      <th>43</th>\n",
       "      <td>+</td>\n",
       "      <td>0.491466</td>\n",
       "    </tr>\n",
       "    <tr>\n",
       "      <th>120</th>\n",
       "      <td>x</td>\n",
       "      <td>0.526440</td>\n",
       "    </tr>\n",
       "    <tr>\n",
       "      <th>60</th>\n",
       "      <td>&lt;</td>\n",
       "      <td>0.591004</td>\n",
       "    </tr>\n",
       "    <tr>\n",
       "      <th>94</th>\n",
       "      <td>^</td>\n",
       "      <td>0.643556</td>\n",
       "    </tr>\n",
       "    <tr>\n",
       "      <th>123</th>\n",
       "      <td>{</td>\n",
       "      <td>0.676805</td>\n",
       "    </tr>\n",
       "  </tbody>\n",
       "</table>\n",
       "<p>128 rows × 2 columns</p>\n",
       "</div>"
      ],
      "text/plain": [
       "    char     score\n",
       "39     ' -0.942340\n",
       "46     . -0.920768\n",
       "15     \u000f -0.825839\n",
       "1      \u0001 -0.823418\n",
       "18     \u0012 -0.816708\n",
       "..   ...       ...\n",
       "43     +  0.491466\n",
       "120    x  0.526440\n",
       "60     <  0.591004\n",
       "94     ^  0.643556\n",
       "123    {  0.676805\n",
       "\n",
       "[128 rows x 2 columns]"
      ]
     },
     "execution_count": 65,
     "metadata": {},
     "output_type": "execute_result"
    }
   ],
   "source": [
    "prob_fake_dict_df.sort_values(\"score\", ascending=True)"
   ]
  },
  {
   "cell_type": "code",
   "execution_count": 68,
   "metadata": {},
   "outputs": [
    {
     "data": {
      "text/html": [
       "<div>\n",
       "<style scoped>\n",
       "    .dataframe tbody tr th:only-of-type {\n",
       "        vertical-align: middle;\n",
       "    }\n",
       "\n",
       "    .dataframe tbody tr th {\n",
       "        vertical-align: top;\n",
       "    }\n",
       "\n",
       "    .dataframe thead th {\n",
       "        text-align: right;\n",
       "    }\n",
       "</style>\n",
       "<table border=\"1\" class=\"dataframe\">\n",
       "  <thead>\n",
       "    <tr style=\"text-align: right;\">\n",
       "      <th></th>\n",
       "      <th>char</th>\n",
       "      <th>score</th>\n",
       "    </tr>\n",
       "  </thead>\n",
       "  <tbody>\n",
       "    <tr>\n",
       "      <th>39</th>\n",
       "      <td>'</td>\n",
       "      <td>-0.942340</td>\n",
       "    </tr>\n",
       "    <tr>\n",
       "      <th>46</th>\n",
       "      <td>.</td>\n",
       "      <td>-0.920768</td>\n",
       "    </tr>\n",
       "    <tr>\n",
       "      <th>15</th>\n",
       "      <td>\u000f</td>\n",
       "      <td>-0.825839</td>\n",
       "    </tr>\n",
       "    <tr>\n",
       "      <th>1</th>\n",
       "      <td>\u0001</td>\n",
       "      <td>-0.823418</td>\n",
       "    </tr>\n",
       "    <tr>\n",
       "      <th>18</th>\n",
       "      <td>\u0012</td>\n",
       "      <td>-0.816708</td>\n",
       "    </tr>\n",
       "    <tr>\n",
       "      <th>41</th>\n",
       "      <td>)</td>\n",
       "      <td>-0.808557</td>\n",
       "    </tr>\n",
       "    <tr>\n",
       "      <th>28</th>\n",
       "      <td></td>\n",
       "      <td>-0.774449</td>\n",
       "    </tr>\n",
       "    <tr>\n",
       "      <th>90</th>\n",
       "      <td>Z</td>\n",
       "      <td>-0.746635</td>\n",
       "    </tr>\n",
       "    <tr>\n",
       "      <th>98</th>\n",
       "      <td>b</td>\n",
       "      <td>-0.730442</td>\n",
       "    </tr>\n",
       "    <tr>\n",
       "      <th>63</th>\n",
       "      <td>?</td>\n",
       "      <td>-0.717379</td>\n",
       "    </tr>\n",
       "    <tr>\n",
       "      <th>11</th>\n",
       "      <td></td>\n",
       "      <td>-0.684458</td>\n",
       "    </tr>\n",
       "    <tr>\n",
       "      <th>110</th>\n",
       "      <td>n</td>\n",
       "      <td>-0.680892</td>\n",
       "    </tr>\n",
       "    <tr>\n",
       "      <th>33</th>\n",
       "      <td>!</td>\n",
       "      <td>-0.676907</td>\n",
       "    </tr>\n",
       "    <tr>\n",
       "      <th>8</th>\n",
       "      <td>\b</td>\n",
       "      <td>-0.669831</td>\n",
       "    </tr>\n",
       "    <tr>\n",
       "      <th>116</th>\n",
       "      <td>t</td>\n",
       "      <td>-0.667350</td>\n",
       "    </tr>\n",
       "    <tr>\n",
       "      <th>12</th>\n",
       "      <td></td>\n",
       "      <td>-0.660746</td>\n",
       "    </tr>\n",
       "    <tr>\n",
       "      <th>24</th>\n",
       "      <td>\u0018</td>\n",
       "      <td>-0.658566</td>\n",
       "    </tr>\n",
       "    <tr>\n",
       "      <th>10</th>\n",
       "      <td>\\n</td>\n",
       "      <td>-0.658422</td>\n",
       "    </tr>\n",
       "    <tr>\n",
       "      <th>102</th>\n",
       "      <td>f</td>\n",
       "      <td>-0.649994</td>\n",
       "    </tr>\n",
       "    <tr>\n",
       "      <th>40</th>\n",
       "      <td>(</td>\n",
       "      <td>-0.647241</td>\n",
       "    </tr>\n",
       "  </tbody>\n",
       "</table>\n",
       "</div>"
      ],
      "text/plain": [
       "    char     score\n",
       "39     ' -0.942340\n",
       "46     . -0.920768\n",
       "15     \u000f -0.825839\n",
       "1      \u0001 -0.823418\n",
       "18     \u0012 -0.816708\n",
       "41     ) -0.808557\n",
       "28     \n",
       " -0.774449\n",
       "90     Z -0.746635\n",
       "98     b -0.730442\n",
       "63     ? -0.717379\n",
       "11     \n",
       " -0.684458\n",
       "110    n -0.680892\n",
       "33     ! -0.676907\n",
       "8      \b -0.669831\n",
       "116    t -0.667350\n",
       "12     \n",
       " -0.660746\n",
       "24     \u0018 -0.658566\n",
       "10    \\n -0.658422\n",
       "102    f -0.649994\n",
       "40     ( -0.647241"
      ]
     },
     "execution_count": 68,
     "metadata": {},
     "output_type": "execute_result"
    }
   ],
   "source": [
    "top_20 = prob_fake_dict_df.sort_values(\"score\", ascending=True)[:20]\n",
    "top_20"
   ]
  },
  {
   "cell_type": "code",
   "execution_count": 92,
   "metadata": {},
   "outputs": [],
   "source": [
    "all_words_list = []\n",
    "with open(\"word_list.txt\", \"r\") as f:\n",
    "    words = f.readlines()\n",
    "    words = [word.strip() for word in words]\n",
    "    all_words_list.extend(words)  "
   ]
  },
  {
   "cell_type": "code",
   "execution_count": 93,
   "metadata": {},
   "outputs": [
    {
     "data": {
      "text/plain": [
       "['a',\n",
       " 'AAA',\n",
       " 'AAAS',\n",
       " 'aardvark',\n",
       " 'Aarhus',\n",
       " 'Aaron',\n",
       " 'ABA',\n",
       " 'Ababa',\n",
       " 'aback',\n",
       " 'abacus',\n",
       " 'abalone',\n",
       " 'abandon',\n",
       " 'abase',\n",
       " 'abash',\n",
       " 'abate',\n",
       " 'abbas',\n",
       " 'abbe',\n",
       " 'abbey',\n",
       " 'abbot',\n",
       " 'Abbott',\n",
       " 'abbreviate',\n",
       " 'abc',\n",
       " 'abdicate',\n",
       " 'abdomen',\n",
       " 'abdominal',\n",
       " 'abduct',\n",
       " 'Abe',\n",
       " 'abed',\n",
       " 'Abel',\n",
       " 'Abelian',\n",
       " 'Abelson',\n",
       " 'Aberdeen',\n",
       " 'Abernathy',\n",
       " 'aberrant',\n",
       " 'aberrate',\n",
       " 'abet',\n",
       " 'abetted',\n",
       " 'abetting',\n",
       " 'abeyance',\n",
       " 'abeyant',\n",
       " 'abhor',\n",
       " 'abhorred',\n",
       " 'abhorrent',\n",
       " 'abide',\n",
       " 'Abidjan',\n",
       " 'Abigail',\n",
       " 'abject',\n",
       " 'abjure',\n",
       " 'ablate',\n",
       " 'ablaze',\n",
       " 'able',\n",
       " 'ablution',\n",
       " 'abnegation',\n",
       " 'Abner',\n",
       " 'abnormal',\n",
       " 'Abo',\n",
       " 'aboard',\n",
       " 'abode',\n",
       " 'abolish',\n",
       " 'abolition',\n",
       " 'abominable',\n",
       " 'abominate',\n",
       " 'aboriginal',\n",
       " 'aborigine',\n",
       " 'aborning',\n",
       " 'abort',\n",
       " 'abound',\n",
       " 'about',\n",
       " 'above',\n",
       " 'aboveboard',\n",
       " 'aboveground',\n",
       " 'abovementioned',\n",
       " 'abrade',\n",
       " 'Abraham',\n",
       " 'Abram',\n",
       " 'Abramson',\n",
       " 'abrasion',\n",
       " 'abrasive',\n",
       " 'abreact',\n",
       " 'abreast',\n",
       " 'abridge',\n",
       " 'abridgment',\n",
       " 'abroad',\n",
       " 'abrogate',\n",
       " 'abrupt',\n",
       " 'abscess',\n",
       " 'abscissa',\n",
       " 'abscissae',\n",
       " 'abscond',\n",
       " 'absent',\n",
       " 'absentee',\n",
       " 'absenteeism',\n",
       " 'absentia',\n",
       " 'absentminded',\n",
       " 'absinthe',\n",
       " 'absolute',\n",
       " 'absolution',\n",
       " 'absolve',\n",
       " 'absorb',\n",
       " 'absorbent',\n",
       " 'absorption',\n",
       " 'absorptive',\n",
       " 'abstain',\n",
       " 'abstention',\n",
       " 'abstinent',\n",
       " 'abstract',\n",
       " 'abstractor',\n",
       " 'abstruse',\n",
       " 'absurd',\n",
       " 'absurdum',\n",
       " 'abuilding',\n",
       " 'abundant',\n",
       " 'abusable',\n",
       " 'abuse',\n",
       " 'abusive',\n",
       " 'abut',\n",
       " 'abutted',\n",
       " 'abutting',\n",
       " 'abysmal',\n",
       " 'abyss',\n",
       " 'Abyssinia',\n",
       " 'AC',\n",
       " 'acacia',\n",
       " 'academia',\n",
       " 'academic',\n",
       " 'academician',\n",
       " 'academy',\n",
       " 'Acadia',\n",
       " 'acanthus',\n",
       " 'Acapulco',\n",
       " 'accede',\n",
       " 'accelerate',\n",
       " 'accelerometer',\n",
       " 'accent',\n",
       " 'accentual',\n",
       " 'accentuate',\n",
       " 'accept',\n",
       " 'acceptant',\n",
       " 'acceptor',\n",
       " 'access',\n",
       " 'accessible',\n",
       " 'accession',\n",
       " 'accessory',\n",
       " 'accident',\n",
       " 'accidental',\n",
       " 'accipiter',\n",
       " 'acclaim',\n",
       " 'acclamation',\n",
       " 'acclimate',\n",
       " 'accolade',\n",
       " 'accommodate',\n",
       " 'accompaniment',\n",
       " 'accompanist',\n",
       " 'accompany',\n",
       " 'accomplice',\n",
       " 'accomplish',\n",
       " 'accord',\n",
       " 'accordant',\n",
       " 'accordion',\n",
       " 'accost',\n",
       " 'account',\n",
       " 'accountant',\n",
       " 'accouter',\n",
       " 'Accra',\n",
       " 'accredit',\n",
       " 'accreditation',\n",
       " 'accretion',\n",
       " 'accrual',\n",
       " 'accrue',\n",
       " 'acculturate',\n",
       " 'accumulate',\n",
       " 'accuracy',\n",
       " 'accurate',\n",
       " 'accusation',\n",
       " 'accusative',\n",
       " 'accusatory',\n",
       " 'accuse',\n",
       " 'accustom',\n",
       " 'ace',\n",
       " 'acerbic',\n",
       " 'acerbity',\n",
       " 'acetaminophen',\n",
       " 'acetate',\n",
       " 'acetic',\n",
       " 'acetone',\n",
       " 'acetylene',\n",
       " 'Achaean',\n",
       " 'ache',\n",
       " 'achieve',\n",
       " 'Achilles',\n",
       " 'aching',\n",
       " 'achromatic',\n",
       " 'acid',\n",
       " 'acidic',\n",
       " 'acidify',\n",
       " 'acidulate',\n",
       " 'acidulous',\n",
       " 'Ackerman',\n",
       " 'Ackley',\n",
       " 'acknowledge',\n",
       " 'acknowledgeable',\n",
       " 'ACM',\n",
       " 'acme',\n",
       " 'acolyte',\n",
       " 'acorn',\n",
       " 'acoustic',\n",
       " 'acquaint',\n",
       " 'acquaintance',\n",
       " 'acquiesce',\n",
       " 'acquiescent',\n",
       " 'acquire',\n",
       " 'acquisition',\n",
       " 'acquisitive',\n",
       " 'acquit',\n",
       " 'acquittal',\n",
       " 'acquitting',\n",
       " 'acre',\n",
       " 'acreage',\n",
       " 'acrid',\n",
       " 'acrimonious',\n",
       " 'acrimony',\n",
       " 'acrobacy',\n",
       " 'acrobat',\n",
       " 'acrobatic',\n",
       " 'acronym',\n",
       " 'acrophobia',\n",
       " 'acrophobic',\n",
       " 'acropolis',\n",
       " 'across',\n",
       " 'acrylate',\n",
       " 'acrylic',\n",
       " 'act',\n",
       " 'Actaeon',\n",
       " 'actinic',\n",
       " 'actinide',\n",
       " 'actinium',\n",
       " 'actinolite',\n",
       " 'actinometer',\n",
       " 'activate',\n",
       " 'Acton',\n",
       " 'actor',\n",
       " 'actress',\n",
       " 'actual',\n",
       " 'actuarial',\n",
       " 'actuate',\n",
       " 'acuity',\n",
       " 'acumen',\n",
       " 'acupuncture',\n",
       " 'acute',\n",
       " 'acyclic',\n",
       " 'ad',\n",
       " 'Ada',\n",
       " 'adage',\n",
       " 'adagio',\n",
       " 'Adair',\n",
       " 'Adam',\n",
       " 'adamant',\n",
       " 'Adamson',\n",
       " 'adapt',\n",
       " 'adaptation',\n",
       " 'adaptive',\n",
       " 'add',\n",
       " 'addend',\n",
       " 'addenda',\n",
       " 'addendum',\n",
       " 'addict',\n",
       " 'Addis',\n",
       " 'Addison',\n",
       " 'addition',\n",
       " 'additive',\n",
       " 'addle',\n",
       " 'address',\n",
       " 'addressee',\n",
       " 'Addressograph',\n",
       " 'adduce',\n",
       " 'Adelaide',\n",
       " 'Adele',\n",
       " 'Adelia',\n",
       " 'Aden',\n",
       " 'adenine',\n",
       " 'adenoma',\n",
       " 'adenosine',\n",
       " 'adept',\n",
       " 'adequacy',\n",
       " 'adequate',\n",
       " 'adhere',\n",
       " 'adherent',\n",
       " 'adhesion',\n",
       " 'adhesive',\n",
       " 'adiabatic',\n",
       " 'adieu',\n",
       " 'adipic',\n",
       " 'Adirondack',\n",
       " 'adjacent',\n",
       " 'adject',\n",
       " 'adjectival',\n",
       " 'adjoin',\n",
       " 'adjoint',\n",
       " 'adjourn',\n",
       " 'adjudge',\n",
       " 'adjudicate',\n",
       " 'adjunct',\n",
       " 'adjust',\n",
       " 'adjutant',\n",
       " 'Adkins',\n",
       " 'Adler',\n",
       " 'Adlerian',\n",
       " 'administer',\n",
       " 'administrable',\n",
       " 'administrate',\n",
       " 'administratrix',\n",
       " 'admiral',\n",
       " 'admiralty',\n",
       " 'admiration',\n",
       " 'admire',\n",
       " 'admissible',\n",
       " 'admission',\n",
       " 'admit',\n",
       " 'admittance',\n",
       " 'admitted',\n",
       " 'admitting',\n",
       " 'admix',\n",
       " 'admixture',\n",
       " 'admonish',\n",
       " 'admonition',\n",
       " 'ado',\n",
       " 'adobe',\n",
       " 'adolescent',\n",
       " 'Adolph',\n",
       " 'Adolphus',\n",
       " 'Adonis',\n",
       " 'adopt',\n",
       " 'adoption',\n",
       " 'adoptive',\n",
       " 'adoration',\n",
       " 'adore',\n",
       " 'adorn',\n",
       " 'adposition',\n",
       " 'adrenal',\n",
       " 'adrenalin',\n",
       " 'adrenaline',\n",
       " 'Adrian',\n",
       " 'Adriatic',\n",
       " 'Adrienne',\n",
       " 'adrift',\n",
       " 'adroit',\n",
       " 'adsorb',\n",
       " 'adsorbate',\n",
       " 'adsorption',\n",
       " 'adsorptive',\n",
       " 'adulate',\n",
       " 'adult',\n",
       " 'adulterate',\n",
       " 'adulterous',\n",
       " 'adultery',\n",
       " 'advance',\n",
       " 'advantage',\n",
       " 'advantageous',\n",
       " 'advent',\n",
       " 'adventitious',\n",
       " 'adventure',\n",
       " 'adventurous',\n",
       " 'adverb',\n",
       " 'adverbial',\n",
       " 'adversary',\n",
       " 'adverse',\n",
       " 'advert',\n",
       " 'advertise',\n",
       " 'advice',\n",
       " 'advisable',\n",
       " 'advise',\n",
       " 'advisee',\n",
       " 'advisor',\n",
       " 'advisory',\n",
       " 'advocacy',\n",
       " 'advocate',\n",
       " 'Aegean',\n",
       " 'aegis',\n",
       " 'Aeneas',\n",
       " 'Aeneid',\n",
       " 'aeolian',\n",
       " 'Aeolus',\n",
       " 'aerate',\n",
       " 'aerial',\n",
       " 'aerie',\n",
       " 'Aerobacter',\n",
       " 'aerobic',\n",
       " 'aerodynamic',\n",
       " 'aerofoil',\n",
       " 'aerogene',\n",
       " 'aeronautic',\n",
       " 'aerosol',\n",
       " 'aerospace',\n",
       " 'Aeschylus',\n",
       " 'Aesop',\n",
       " 'aesthete',\n",
       " 'aesthetic',\n",
       " 'afar',\n",
       " 'affable',\n",
       " 'affair',\n",
       " 'affect',\n",
       " 'affectate',\n",
       " 'affectionate',\n",
       " 'afferent',\n",
       " 'affiance',\n",
       " 'affidavit',\n",
       " 'affiliate',\n",
       " 'affine',\n",
       " 'affirm',\n",
       " 'affirmation',\n",
       " 'affirmative',\n",
       " 'affix',\n",
       " 'afflict',\n",
       " 'affluent',\n",
       " 'afford',\n",
       " 'afforest',\n",
       " 'afforestation',\n",
       " 'affricate',\n",
       " 'affront',\n",
       " 'Afghan',\n",
       " 'Afghanistan',\n",
       " 'aficionado',\n",
       " 'afield',\n",
       " 'afire',\n",
       " 'aflame',\n",
       " 'afloat',\n",
       " 'afoot',\n",
       " 'aforementioned',\n",
       " 'aforesaid',\n",
       " 'aforethought',\n",
       " 'afraid',\n",
       " 'afreet',\n",
       " 'afresh',\n",
       " 'Africa',\n",
       " 'Afrikaans',\n",
       " 'Afrikaner',\n",
       " 'afro',\n",
       " 'aft',\n",
       " 'afterbirth',\n",
       " 'aftereffect',\n",
       " 'afterglow',\n",
       " 'afterimage',\n",
       " 'afterlife',\n",
       " 'aftermath',\n",
       " 'afternoon',\n",
       " 'afterthought',\n",
       " 'afterward',\n",
       " 'afterword',\n",
       " 'again',\n",
       " 'against',\n",
       " 'Agamemnon',\n",
       " 'agar',\n",
       " 'agate',\n",
       " 'Agatha',\n",
       " 'agave',\n",
       " 'age',\n",
       " 'Agee',\n",
       " 'agenda',\n",
       " 'agent',\n",
       " 'agglomerate',\n",
       " 'agglutinate',\n",
       " 'agglutinin',\n",
       " 'aggravate',\n",
       " 'aggregate',\n",
       " 'aggression',\n",
       " 'aggressive',\n",
       " 'aggressor',\n",
       " 'aggrieve',\n",
       " 'aghast',\n",
       " 'agile',\n",
       " 'agitate',\n",
       " 'agleam',\n",
       " 'Agnes',\n",
       " 'Agnew',\n",
       " 'agnomen',\n",
       " 'agnostic',\n",
       " 'ago',\n",
       " 'agog',\n",
       " 'agone',\n",
       " 'agony',\n",
       " 'agouti',\n",
       " 'agrarian',\n",
       " 'agree',\n",
       " 'agreeable',\n",
       " 'agreeing',\n",
       " 'agribusiness',\n",
       " 'Agricola',\n",
       " 'agricultural',\n",
       " 'agriculture',\n",
       " 'agrimony',\n",
       " 'agronomist',\n",
       " 'agronomy',\n",
       " 'ague',\n",
       " 'Agway',\n",
       " 'ah',\n",
       " 'ahead',\n",
       " 'ahem',\n",
       " 'Ahmedabad',\n",
       " 'ahoy',\n",
       " 'aid',\n",
       " 'Aida',\n",
       " 'aide',\n",
       " 'Aides',\n",
       " 'Aiken',\n",
       " 'ail',\n",
       " 'ailanthus',\n",
       " 'aile',\n",
       " 'aileron',\n",
       " 'aim',\n",
       " \"ain't\",\n",
       " 'Ainu',\n",
       " 'air',\n",
       " 'airborne',\n",
       " 'airbrush',\n",
       " 'aircraft',\n",
       " 'airdrop',\n",
       " 'airedale',\n",
       " 'Aires',\n",
       " 'airfare',\n",
       " 'airfield',\n",
       " 'airflow',\n",
       " 'airframe',\n",
       " 'airlift',\n",
       " 'airline',\n",
       " 'airlock',\n",
       " 'airmail',\n",
       " 'airman',\n",
       " 'airmass',\n",
       " 'airmen',\n",
       " 'airpark',\n",
       " 'airplane',\n",
       " 'airport',\n",
       " 'airspeed',\n",
       " 'airstrip',\n",
       " 'airtight',\n",
       " 'airway',\n",
       " 'airy',\n",
       " 'aisle',\n",
       " 'Aitken',\n",
       " 'ajar',\n",
       " 'Ajax',\n",
       " 'AK',\n",
       " 'Akers',\n",
       " 'akin',\n",
       " 'Akron',\n",
       " 'AL',\n",
       " 'ala',\n",
       " 'Alabama',\n",
       " 'Alabamian',\n",
       " 'alabaster',\n",
       " 'alacrity',\n",
       " 'Aladdin',\n",
       " 'alai',\n",
       " 'Alameda',\n",
       " 'Alamo',\n",
       " 'alan',\n",
       " 'alarm',\n",
       " 'Alasdair',\n",
       " 'Alaska',\n",
       " 'Alastair',\n",
       " 'alb',\n",
       " 'alba',\n",
       " 'albacore',\n",
       " 'Albania',\n",
       " 'Albany',\n",
       " 'albatross',\n",
       " 'albeit',\n",
       " 'Alberich',\n",
       " 'Albert',\n",
       " 'Alberta',\n",
       " 'Alberto',\n",
       " 'albino',\n",
       " 'Albrecht',\n",
       " 'Albright',\n",
       " 'album',\n",
       " 'albumin',\n",
       " 'Albuquerque',\n",
       " 'Alcestis',\n",
       " 'alchemist',\n",
       " 'alchemy',\n",
       " 'Alcmena',\n",
       " 'Alcoa',\n",
       " 'alcohol',\n",
       " 'alcoholic',\n",
       " 'Alcott',\n",
       " 'alcove',\n",
       " 'Aldebaran',\n",
       " 'aldehyde',\n",
       " 'Alden',\n",
       " 'alder',\n",
       " 'alderman',\n",
       " 'aldermen',\n",
       " 'Aldrich',\n",
       " 'aldrin',\n",
       " 'ale',\n",
       " 'Alec',\n",
       " 'Aleck',\n",
       " 'aleph',\n",
       " 'alert',\n",
       " 'Aleutian',\n",
       " 'alewife',\n",
       " 'Alex',\n",
       " 'Alexander',\n",
       " 'Alexandra',\n",
       " 'Alexandre',\n",
       " 'Alexandria',\n",
       " 'Alexei',\n",
       " 'Alexis',\n",
       " 'alfalfa',\n",
       " 'alfonso',\n",
       " 'Alfred',\n",
       " 'Alfredo',\n",
       " 'alfresco',\n",
       " 'alga',\n",
       " 'algae',\n",
       " 'algaecide',\n",
       " 'algal',\n",
       " 'algebra',\n",
       " 'algebraic',\n",
       " 'Algenib',\n",
       " 'Alger',\n",
       " 'Algeria',\n",
       " 'Algiers',\n",
       " 'alginate',\n",
       " 'Algol',\n",
       " 'Algonquian',\n",
       " 'Algonquin',\n",
       " 'algorithm',\n",
       " 'algorithmic',\n",
       " 'Alhambra',\n",
       " 'Ali',\n",
       " 'alia',\n",
       " 'alias',\n",
       " 'alibi',\n",
       " 'Alice',\n",
       " 'Alicia',\n",
       " 'alien',\n",
       " 'alienate',\n",
       " 'alight',\n",
       " 'align',\n",
       " 'alike',\n",
       " 'alimentary',\n",
       " 'alimony',\n",
       " 'aliphatic',\n",
       " 'aliquot',\n",
       " 'Alison',\n",
       " 'Alistair',\n",
       " 'alive',\n",
       " 'alizarin',\n",
       " 'alkali',\n",
       " 'alkaline',\n",
       " 'alkaloid',\n",
       " 'all',\n",
       " 'Allah',\n",
       " 'Allan',\n",
       " 'allay',\n",
       " 'allegate',\n",
       " 'allege',\n",
       " 'Allegheny',\n",
       " 'allegiant',\n",
       " 'allegoric',\n",
       " 'allegory',\n",
       " 'Allegra',\n",
       " 'allegro',\n",
       " 'allele',\n",
       " 'allemand',\n",
       " 'Allen',\n",
       " 'Allentown',\n",
       " 'allergic',\n",
       " 'allergy',\n",
       " 'alleviate',\n",
       " 'alley',\n",
       " 'alleyway',\n",
       " 'alliance',\n",
       " 'alligator',\n",
       " 'Allis',\n",
       " 'Allison',\n",
       " 'alliterate',\n",
       " 'allmsgs',\n",
       " 'allocable',\n",
       " 'allocate',\n",
       " 'allot',\n",
       " 'allotropic',\n",
       " 'allotted',\n",
       " 'allotting',\n",
       " 'allow',\n",
       " 'allowance',\n",
       " 'alloy',\n",
       " 'allspice',\n",
       " 'Allstate',\n",
       " 'allude',\n",
       " 'allure',\n",
       " 'allusion',\n",
       " 'allusive',\n",
       " 'alluvial',\n",
       " 'alluvium',\n",
       " 'ally',\n",
       " 'allyl',\n",
       " 'Allyn',\n",
       " 'alma',\n",
       " 'Almaden',\n",
       " 'almagest',\n",
       " 'almanac',\n",
       " 'almighty',\n",
       " 'almond',\n",
       " 'almost',\n",
       " 'aloe',\n",
       " 'aloft',\n",
       " 'aloha',\n",
       " 'alone',\n",
       " 'along',\n",
       " 'alongside',\n",
       " 'aloof',\n",
       " 'aloud',\n",
       " 'alp',\n",
       " 'alpaca',\n",
       " 'alpenstock',\n",
       " 'Alpert',\n",
       " 'alpha',\n",
       " 'alphabet',\n",
       " 'alphabetic',\n",
       " 'alphanumeric',\n",
       " 'Alpheratz',\n",
       " 'Alphonse',\n",
       " 'alpine',\n",
       " 'already',\n",
       " 'Alsatian',\n",
       " 'also',\n",
       " 'Alsop',\n",
       " 'Altair',\n",
       " 'altar',\n",
       " 'alter',\n",
       " 'alterate',\n",
       " 'altercate',\n",
       " 'altern',\n",
       " 'alternate',\n",
       " 'althea',\n",
       " 'although',\n",
       " 'altimeter',\n",
       " 'altitude',\n",
       " 'alto',\n",
       " 'altogether',\n",
       " 'Alton',\n",
       " 'altruism',\n",
       " 'altruist',\n",
       " 'alum',\n",
       " 'alumina',\n",
       " 'aluminate',\n",
       " 'alumna',\n",
       " 'alumnae',\n",
       " 'alumni',\n",
       " 'alumnus',\n",
       " 'alundum',\n",
       " 'Alva',\n",
       " 'Alvarez',\n",
       " 'alveolar',\n",
       " 'alveoli',\n",
       " 'alveolus',\n",
       " 'Alvin',\n",
       " 'always',\n",
       " 'alyssum',\n",
       " 'A&M',\n",
       " 'am',\n",
       " 'AMA',\n",
       " 'Amadeus',\n",
       " 'amalgam',\n",
       " 'amalgamate',\n",
       " 'amanita',\n",
       " 'amanuensis',\n",
       " 'amaranth',\n",
       " 'Amarillo',\n",
       " 'amass',\n",
       " 'amateur',\n",
       " 'amateurish',\n",
       " 'amatory',\n",
       " 'amaze',\n",
       " 'Amazon',\n",
       " 'ambassador',\n",
       " 'amber',\n",
       " 'ambiance',\n",
       " 'ambidextrous',\n",
       " 'ambient',\n",
       " 'ambiguity',\n",
       " 'ambiguous',\n",
       " 'ambition',\n",
       " 'ambitious',\n",
       " 'ambivalent',\n",
       " 'amble',\n",
       " 'ambrose',\n",
       " 'ambrosia',\n",
       " 'ambrosial',\n",
       " 'ambulant',\n",
       " 'ambulatory',\n",
       " 'ambuscade',\n",
       " 'ambush',\n",
       " 'Amelia',\n",
       " 'ameliorate',\n",
       " 'amen',\n",
       " 'amend',\n",
       " 'amende',\n",
       " 'Amerada',\n",
       " 'America',\n",
       " 'Americana',\n",
       " 'americium',\n",
       " 'Ames',\n",
       " 'amethyst',\n",
       " 'amethystine',\n",
       " 'Amharic',\n",
       " 'Amherst',\n",
       " 'ami',\n",
       " 'amicable',\n",
       " 'amid',\n",
       " 'amide',\n",
       " 'amidst',\n",
       " 'amigo',\n",
       " 'amino',\n",
       " 'aminobenzoic',\n",
       " 'amiss',\n",
       " 'amity',\n",
       " 'Amman',\n",
       " 'Ammerman',\n",
       " 'ammeter',\n",
       " 'ammo',\n",
       " 'ammonia',\n",
       " 'ammoniac',\n",
       " 'ammonite',\n",
       " 'ammonium',\n",
       " 'ammunition',\n",
       " 'amnesia',\n",
       " 'amnesiac',\n",
       " 'amnesty',\n",
       " 'amniocentesis',\n",
       " 'amniotic',\n",
       " 'Amoco',\n",
       " 'amoeba',\n",
       " 'amoebae',\n",
       " 'amoeboid',\n",
       " 'amok',\n",
       " 'among',\n",
       " 'amongst',\n",
       " 'amoral',\n",
       " 'amorphous',\n",
       " 'amort',\n",
       " 'Amos',\n",
       " 'amount',\n",
       " 'amp',\n",
       " 'amperage',\n",
       " 'ampere',\n",
       " 'ampersand',\n",
       " 'Ampex',\n",
       " 'amphetamine',\n",
       " 'amphibian',\n",
       " 'amphibious',\n",
       " 'amphibole',\n",
       " 'amphibology',\n",
       " 'amphioxis',\n",
       " 'ample',\n",
       " 'amplify',\n",
       " 'amplitude',\n",
       " 'amply',\n",
       " 'amputate',\n",
       " 'amra',\n",
       " 'Amsterdam',\n",
       " 'Amtrak',\n",
       " 'amulet',\n",
       " 'amuse',\n",
       " 'amy',\n",
       " 'amygdaloid',\n",
       " 'an',\n",
       " 'ana',\n",
       " 'Anabaptist',\n",
       " 'Anabel',\n",
       " 'anachronism',\n",
       " 'anachronistic',\n",
       " 'anaconda',\n",
       " 'Anacreon',\n",
       " 'anaerobic',\n",
       " 'anaglyph',\n",
       " 'anagram',\n",
       " 'Anaheim',\n",
       " 'Analects',\n",
       " 'analeptic',\n",
       " 'analgesic',\n",
       " 'analogous',\n",
       " 'analogue',\n",
       " 'analogy',\n",
       " 'analyses',\n",
       " 'analysis',\n",
       " 'analyst',\n",
       " 'analytic',\n",
       " 'anamorphic',\n",
       " 'anaphora',\n",
       " 'anaphoric',\n",
       " 'anaplasmosis',\n",
       " 'anarch',\n",
       " 'anarchic',\n",
       " 'anarchy',\n",
       " 'Anastasia',\n",
       " 'anastigmat',\n",
       " 'anastigmatic',\n",
       " 'anastomosis',\n",
       " 'anastomotic',\n",
       " 'anathema',\n",
       " 'Anatole',\n",
       " 'anatomic',\n",
       " 'anatomist',\n",
       " 'anatomy',\n",
       " 'ancestor',\n",
       " 'ancestral',\n",
       " 'ancestry',\n",
       " 'anchor',\n",
       " 'anchorage',\n",
       " 'anchorite',\n",
       " 'anchovy',\n",
       " 'ancient',\n",
       " 'ancillary',\n",
       " 'and',\n",
       " 'Andalusia',\n",
       " 'Andean',\n",
       " 'Andersen',\n",
       " 'Anderson',\n",
       " 'Andes',\n",
       " 'andesine',\n",
       " 'andesite',\n",
       " 'Andorra',\n",
       " 'Andover',\n",
       " 'Andre',\n",
       " 'Andrea',\n",
       " 'Andrei',\n",
       " 'Andrew',\n",
       " 'androgen',\n",
       " 'Andromache',\n",
       " 'Andromeda',\n",
       " 'Andy',\n",
       " 'anecdotal',\n",
       " 'anecdote',\n",
       " 'anemone',\n",
       " 'anent',\n",
       " 'anew',\n",
       " 'angel',\n",
       " 'Angela',\n",
       " 'Angeles',\n",
       " 'angelfish',\n",
       " 'angelic',\n",
       " 'Angelica',\n",
       " 'Angelina',\n",
       " 'Angeline',\n",
       " 'Angelo',\n",
       " 'anger',\n",
       " 'Angie',\n",
       " 'angiosperm',\n",
       " 'angle',\n",
       " 'Angles',\n",
       " 'Anglican',\n",
       " 'Anglo',\n",
       " 'Anglophobia',\n",
       " 'Angola',\n",
       " 'Angora',\n",
       " 'angry',\n",
       " 'angst',\n",
       " 'angstrom',\n",
       " 'anguish',\n",
       " 'angular',\n",
       " 'Angus',\n",
       " 'anharmonic',\n",
       " 'Anheuser',\n",
       " 'anhydride',\n",
       " 'anhydrite',\n",
       " 'anhydrous',\n",
       " 'ani',\n",
       " 'aniline',\n",
       " 'animadversion',\n",
       " 'animadvert',\n",
       " 'animal',\n",
       " 'animate',\n",
       " 'animism',\n",
       " 'animist',\n",
       " 'animosity',\n",
       " 'anion',\n",
       " 'anionic',\n",
       " 'anise',\n",
       " 'aniseikonic',\n",
       " 'anisotropic',\n",
       " 'anisotropy',\n",
       " 'Anita',\n",
       " 'Ankara',\n",
       " 'ankle',\n",
       " 'Ann',\n",
       " 'Anna',\n",
       " 'annal',\n",
       " 'Annale',\n",
       " 'Annalen',\n",
       " 'Annapolis',\n",
       " 'Anne',\n",
       " 'anneal',\n",
       " 'annelid',\n",
       " 'Annette',\n",
       " 'annex',\n",
       " 'Annie',\n",
       " 'annihilate',\n",
       " ...]"
      ]
     },
     "execution_count": 93,
     "metadata": {},
     "output_type": "execute_result"
    }
   ],
   "source": [
    "all_words_list"
   ]
  },
  {
   "cell_type": "code",
   "execution_count": 96,
   "metadata": {},
   "outputs": [
    {
     "name": "stderr",
     "output_type": "stream",
     "text": [
      "  0%|          | 1/25487 [00:00<49:43,  8.54it/s]"
     ]
    },
    {
     "name": "stderr",
     "output_type": "stream",
     "text": [
      "100%|██████████| 25487/25487 [38:25<00:00, 11.06it/s] \n"
     ]
    }
   ],
   "source": [
    "from tqdm import tqdm\n",
    "prob_fake_dict = []\n",
    "for word in tqdm(all_words_list):\n",
    "    sample_text_fake_trivial = word\n",
    "    res_scores = []\n",
    "    for i in range(5):\n",
    "        res = pipeline_classif_gemma(sample_text_fake_trivial)[0]\n",
    "        res_label = res[\"label\"]\n",
    "        if res_label == \"LABEL_0\":\n",
    "            res_scores.append(-res[\"score\"])\n",
    "        elif res_label == \"LABEL_1\":\n",
    "            res_scores.append(res[\"score\"])\n",
    "        else:\n",
    "            raise ValueError(\"Error\")\n",
    "    res_score_avg = sum(res_scores) / len(res_scores)\n",
    "    prob_fake_dict.append({\"word\": word, \"score\" : res_score_avg})"
   ]
  },
  {
   "cell_type": "code",
   "execution_count": 97,
   "metadata": {},
   "outputs": [
    {
     "data": {
      "text/html": [
       "<div>\n",
       "<style scoped>\n",
       "    .dataframe tbody tr th:only-of-type {\n",
       "        vertical-align: middle;\n",
       "    }\n",
       "\n",
       "    .dataframe tbody tr th {\n",
       "        vertical-align: top;\n",
       "    }\n",
       "\n",
       "    .dataframe thead th {\n",
       "        text-align: right;\n",
       "    }\n",
       "</style>\n",
       "<table border=\"1\" class=\"dataframe\">\n",
       "  <thead>\n",
       "    <tr style=\"text-align: right;\">\n",
       "      <th></th>\n",
       "      <th>word</th>\n",
       "      <th>score</th>\n",
       "    </tr>\n",
       "  </thead>\n",
       "  <tbody>\n",
       "    <tr>\n",
       "      <th>7427</th>\n",
       "      <td>eavesdropping</td>\n",
       "      <td>-0.989576</td>\n",
       "    </tr>\n",
       "    <tr>\n",
       "      <th>13462</th>\n",
       "      <td>leapt</td>\n",
       "      <td>-0.967688</td>\n",
       "    </tr>\n",
       "    <tr>\n",
       "      <th>24903</th>\n",
       "      <td>where're</td>\n",
       "      <td>-0.957969</td>\n",
       "    </tr>\n",
       "    <tr>\n",
       "      <th>2051</th>\n",
       "      <td>basketry</td>\n",
       "      <td>-0.954982</td>\n",
       "    </tr>\n",
       "    <tr>\n",
       "      <th>509</th>\n",
       "      <td>ain't</td>\n",
       "      <td>-0.954606</td>\n",
       "    </tr>\n",
       "    <tr>\n",
       "      <th>188</th>\n",
       "      <td>achieve</td>\n",
       "      <td>-0.954331</td>\n",
       "    </tr>\n",
       "    <tr>\n",
       "      <th>10832</th>\n",
       "      <td>he'll</td>\n",
       "      <td>-0.954186</td>\n",
       "    </tr>\n",
       "    <tr>\n",
       "      <th>5847</th>\n",
       "      <td>c's</td>\n",
       "      <td>-0.950743</td>\n",
       "    </tr>\n",
       "    <tr>\n",
       "      <th>18663</th>\n",
       "      <td>q's</td>\n",
       "      <td>-0.950241</td>\n",
       "    </tr>\n",
       "    <tr>\n",
       "      <th>16900</th>\n",
       "      <td>parry</td>\n",
       "      <td>-0.950173</td>\n",
       "    </tr>\n",
       "    <tr>\n",
       "      <th>10299</th>\n",
       "      <td>g's</td>\n",
       "      <td>-0.949121</td>\n",
       "    </tr>\n",
       "    <tr>\n",
       "      <th>16097</th>\n",
       "      <td>n's</td>\n",
       "      <td>-0.948692</td>\n",
       "    </tr>\n",
       "    <tr>\n",
       "      <th>11358</th>\n",
       "      <td>h's</td>\n",
       "      <td>-0.947207</td>\n",
       "    </tr>\n",
       "    <tr>\n",
       "      <th>16973</th>\n",
       "      <td>paternal</td>\n",
       "      <td>-0.943579</td>\n",
       "    </tr>\n",
       "    <tr>\n",
       "      <th>10697</th>\n",
       "      <td>haven't</td>\n",
       "      <td>-0.942866</td>\n",
       "    </tr>\n",
       "    <tr>\n",
       "      <th>21671</th>\n",
       "      <td>spun</td>\n",
       "      <td>-0.940063</td>\n",
       "    </tr>\n",
       "    <tr>\n",
       "      <th>2798</th>\n",
       "      <td>bolometer</td>\n",
       "      <td>-0.936944</td>\n",
       "    </tr>\n",
       "    <tr>\n",
       "      <th>1240</th>\n",
       "      <td>arborescent</td>\n",
       "      <td>-0.933258</td>\n",
       "    </tr>\n",
       "    <tr>\n",
       "      <th>13734</th>\n",
       "      <td>linger</td>\n",
       "      <td>-0.931451</td>\n",
       "    </tr>\n",
       "    <tr>\n",
       "      <th>12658</th>\n",
       "      <td>jay</td>\n",
       "      <td>-0.931395</td>\n",
       "    </tr>\n",
       "  </tbody>\n",
       "</table>\n",
       "</div>"
      ],
      "text/plain": [
       "                word     score\n",
       "7427   eavesdropping -0.989576\n",
       "13462          leapt -0.967688\n",
       "24903       where're -0.957969\n",
       "2051        basketry -0.954982\n",
       "509            ain't -0.954606\n",
       "188          achieve -0.954331\n",
       "10832          he'll -0.954186\n",
       "5847             c's -0.950743\n",
       "18663            q's -0.950241\n",
       "16900          parry -0.950173\n",
       "10299            g's -0.949121\n",
       "16097            n's -0.948692\n",
       "11358            h's -0.947207\n",
       "16973       paternal -0.943579\n",
       "10697        haven't -0.942866\n",
       "21671           spun -0.940063\n",
       "2798       bolometer -0.936944\n",
       "1240     arborescent -0.933258\n",
       "13734         linger -0.931451\n",
       "12658            jay -0.931395"
      ]
     },
     "execution_count": 97,
     "metadata": {},
     "output_type": "execute_result"
    }
   ],
   "source": [
    "prob_fake_dict_df = pd.DataFrame(prob_fake_dict)\n",
    "top_20_true = prob_fake_dict_df.sort_values(\"score\", ascending=True)[:20]\n",
    "top_20_true"
   ]
  },
  {
   "cell_type": "code",
   "execution_count": 112,
   "metadata": {},
   "outputs": [
    {
     "data": {
      "text/html": [
       "<div>\n",
       "<style scoped>\n",
       "    .dataframe tbody tr th:only-of-type {\n",
       "        vertical-align: middle;\n",
       "    }\n",
       "\n",
       "    .dataframe tbody tr th {\n",
       "        vertical-align: top;\n",
       "    }\n",
       "\n",
       "    .dataframe thead th {\n",
       "        text-align: right;\n",
       "    }\n",
       "</style>\n",
       "<table border=\"1\" class=\"dataframe\">\n",
       "  <thead>\n",
       "    <tr style=\"text-align: right;\">\n",
       "      <th></th>\n",
       "      <th>word</th>\n",
       "      <th>score</th>\n",
       "    </tr>\n",
       "  </thead>\n",
       "  <tbody>\n",
       "    <tr>\n",
       "      <th>12485</th>\n",
       "      <td>irreclaimable</td>\n",
       "      <td>0.867342</td>\n",
       "    </tr>\n",
       "    <tr>\n",
       "      <th>13679</th>\n",
       "      <td>lightweight</td>\n",
       "      <td>0.826113</td>\n",
       "    </tr>\n",
       "    <tr>\n",
       "      <th>22736</th>\n",
       "      <td>Taurus</td>\n",
       "      <td>0.823779</td>\n",
       "    </tr>\n",
       "    <tr>\n",
       "      <th>3925</th>\n",
       "      <td>Caucasus</td>\n",
       "      <td>0.802326</td>\n",
       "    </tr>\n",
       "    <tr>\n",
       "      <th>24663</th>\n",
       "      <td>Warburton</td>\n",
       "      <td>0.789884</td>\n",
       "    </tr>\n",
       "    <tr>\n",
       "      <th>16077</th>\n",
       "      <td>nouveau</td>\n",
       "      <td>0.786104</td>\n",
       "    </tr>\n",
       "    <tr>\n",
       "      <th>23443</th>\n",
       "      <td>toxin</td>\n",
       "      <td>0.768726</td>\n",
       "    </tr>\n",
       "    <tr>\n",
       "      <th>21780</th>\n",
       "      <td>Stanford</td>\n",
       "      <td>0.764462</td>\n",
       "    </tr>\n",
       "    <tr>\n",
       "      <th>1110</th>\n",
       "      <td>A&amp;P</td>\n",
       "      <td>0.763143</td>\n",
       "    </tr>\n",
       "    <tr>\n",
       "      <th>24507</th>\n",
       "      <td>Vladimir</td>\n",
       "      <td>0.762693</td>\n",
       "    </tr>\n",
       "    <tr>\n",
       "      <th>21125</th>\n",
       "      <td>Slovakia</td>\n",
       "      <td>0.762572</td>\n",
       "    </tr>\n",
       "    <tr>\n",
       "      <th>10656</th>\n",
       "      <td>Harvard</td>\n",
       "      <td>0.761609</td>\n",
       "    </tr>\n",
       "    <tr>\n",
       "      <th>10784</th>\n",
       "      <td>heavyweight</td>\n",
       "      <td>0.759147</td>\n",
       "    </tr>\n",
       "    <tr>\n",
       "      <th>626</th>\n",
       "      <td>Algonquin</td>\n",
       "      <td>0.752539</td>\n",
       "    </tr>\n",
       "    <tr>\n",
       "      <th>25421</th>\n",
       "      <td>Yves</td>\n",
       "      <td>0.751066</td>\n",
       "    </tr>\n",
       "    <tr>\n",
       "      <th>14973</th>\n",
       "      <td>middleweight</td>\n",
       "      <td>0.749375</td>\n",
       "    </tr>\n",
       "    <tr>\n",
       "      <th>2605</th>\n",
       "      <td>blackjack</td>\n",
       "      <td>0.746576</td>\n",
       "    </tr>\n",
       "    <tr>\n",
       "      <th>751</th>\n",
       "      <td>alumnus</td>\n",
       "      <td>0.745812</td>\n",
       "    </tr>\n",
       "    <tr>\n",
       "      <th>12894</th>\n",
       "      <td>Kabuki</td>\n",
       "      <td>0.742422</td>\n",
       "    </tr>\n",
       "    <tr>\n",
       "      <th>11889</th>\n",
       "      <td>inconsistent</td>\n",
       "      <td>0.726409</td>\n",
       "    </tr>\n",
       "  </tbody>\n",
       "</table>\n",
       "</div>"
      ],
      "text/plain": [
       "                word     score\n",
       "12485  irreclaimable  0.867342\n",
       "13679    lightweight  0.826113\n",
       "22736         Taurus  0.823779\n",
       "3925        Caucasus  0.802326\n",
       "24663      Warburton  0.789884\n",
       "16077        nouveau  0.786104\n",
       "23443          toxin  0.768726\n",
       "21780       Stanford  0.764462\n",
       "1110             A&P  0.763143\n",
       "24507       Vladimir  0.762693\n",
       "21125       Slovakia  0.762572\n",
       "10656        Harvard  0.761609\n",
       "10784    heavyweight  0.759147\n",
       "626        Algonquin  0.752539\n",
       "25421           Yves  0.751066\n",
       "14973   middleweight  0.749375\n",
       "2605       blackjack  0.746576\n",
       "751          alumnus  0.745812\n",
       "12894         Kabuki  0.742422\n",
       "11889   inconsistent  0.726409"
      ]
     },
     "execution_count": 112,
     "metadata": {},
     "output_type": "execute_result"
    }
   ],
   "source": [
    "top_20_fake = prob_fake_dict_df.sort_values(\"score\", ascending=False)[:20]\n",
    "top_20_fake"
   ]
  },
  {
   "cell_type": "code",
   "execution_count": 7,
   "metadata": {},
   "outputs": [
    {
     "data": {
      "text/plain": [
       "[{'label': 'LABEL_0', 'score': 0.5188333988189697}]"
      ]
     },
     "execution_count": 7,
     "metadata": {},
     "output_type": "execute_result"
    }
   ],
   "source": [
    "sample_text_fake_trivial_fake = \"The news shocked the world, he did it again. As Chile celebrated the 100th Anniversary of its independence, the terrorist group attacked the festivities at the capital. The attacker’s motive matched the police’s investigation.\"\n",
    "pipeline_classif_gemma(sample_text_fake_trivial_fake)"
   ]
  },
  {
   "cell_type": "code",
   "execution_count": 117,
   "metadata": {},
   "outputs": [
    {
     "data": {
      "text/plain": [
       "[{'label': 'LABEL_0', 'score': 0.7145633697509766}]"
      ]
     },
     "execution_count": 117,
     "metadata": {},
     "output_type": "execute_result"
    }
   ],
   "source": [
    "sample_text_fake_trivial_true = \"The news shocked the world. He did it again. As Chile celebrated the 100th Anniversary of its independence, the terrorist group attacked the festivities at the capital. Truely shocking. I am speacheless. It is said that many of those killed were from rich countries. \"\n",
    "pipeline_classif_gemma(sample_text_fake_trivial_true)"
   ]
  },
  {
   "cell_type": "code",
   "execution_count": 114,
   "metadata": {},
   "outputs": [
    {
     "data": {
      "text/plain": [
       "[{'label': 'LABEL_1', 'score': 0.6598275303840637}]"
      ]
     },
     "execution_count": 114,
     "metadata": {},
     "output_type": "execute_result"
    }
   ],
   "source": [
    "sample_text_fake_trivial_true = \"irreclaimable\"\n",
    "pipeline_classif_gemma(sample_text_fake_trivial_true)"
   ]
  },
  {
   "cell_type": "code",
   "execution_count": 128,
   "metadata": {},
   "outputs": [
    {
     "data": {
      "text/plain": [
       "[{'label': 'LABEL_0', 'score': 0.5859024524688721}]"
      ]
     },
     "execution_count": 128,
     "metadata": {},
     "output_type": "execute_result"
    }
   ],
   "source": [
    "sample_text_fake_phi = \"Four groups that advocate for immigrant rights said Thursday they are working on a new bill that would give undocumented immigrants a path to citizenship, but they said they are still waiting for a final version of the immigration bill passed by the House in November. The bill, known as the American Dream and Promise Act, would allow undocumented immigrants who have lived in the United States for five years and meet other requirements to apply for temporary legal status, followed by a path to ci\"\n",
    "pipeline_classif_gemma(sample_text_fake_phi)"
   ]
  },
  {
   "cell_type": "code",
   "execution_count": 129,
   "metadata": {},
   "outputs": [
    {
     "data": {
      "text/plain": [
       "[{'label': 'LABEL_0', 'score': 0.9476719498634338}]"
      ]
     },
     "execution_count": 129,
     "metadata": {},
     "output_type": "execute_result"
    }
   ],
   "source": [
    "sample_text_fake_mistral = \"Four groups that advocate for immigrant rights said Thursday they will fight to prevent a new law from being enacted. (Published Wednesday, June 18th 2017) — A group of four activists is asking the Supreme Court in an appeal filed on behalf and against one other court case involving undocumented immigrants who have been denied visas because their families are U-Hauled at home or if there's no way around it: The Immigrant Law Enforcement Coalition has requested this week $10 million dollars more \"\n",
    "pipeline_classif_gemma(sample_text_fake_mistral)"
   ]
  },
  {
   "cell_type": "code",
   "execution_count": 19,
   "metadata": {},
   "outputs": [
    {
     "name": "stderr",
     "output_type": "stream",
     "text": [
      "<>:1: SyntaxWarning: invalid escape sequence '\\/'\n",
      "<>:1: SyntaxWarning: invalid escape sequence '\\/'\n",
      "/tmp/ipykernel_190444/298238890.py:1: SyntaxWarning: invalid escape sequence '\\/'\n",
      "  sample_text_fake_gpt2 = \"Four groups that advocate for immigrant rights said Thursday they will hold a rally on Oct. 26 in Washington, D-C., to protest President Trump's executive order barring entry into the United States of citizens and residents from seven predominantly Muslim countries—Iran, Iraq\\/ Syria & Yemen. (Jenny Starrs \\/ The Seattle Times) More than 2 million people have signed an online petition calling attention against \\\"Trumpism\\\" at home by highlighting how America has been so divided since Donald J.(L.) t\"\n"
     ]
    },
    {
     "data": {
      "text/plain": [
       "[{'label': 'LABEL_0', 'score': 0.9917388558387756}]"
      ]
     },
     "execution_count": 19,
     "metadata": {},
     "output_type": "execute_result"
    }
   ],
   "source": [
    "sample_text_fake_gpt2 = \"Four groups that advocate for immigrant rights said Thursday they will hold a rally on Oct. 26 in Washington, D-C., to protest President Trump's executive order barring entry into the United States of citizens and residents from seven predominantly Muslim countries—Iran, Iraq\\/ Syria & Yemen. (Jenny Starrs \\/ The Seattle Times) More than 2 million people have signed an online petition calling attention against \\\"Trumpism\\\" at home by highlighting how America has been so divided since Donald J.(L.) t\"\n",
    "pipeline_classif_gemma(sample_text_fake_gpt2)"
   ]
  },
  {
   "cell_type": "markdown",
   "metadata": {},
   "source": [
    "# Test phi detector with prompt"
   ]
  },
  {
   "cell_type": "code",
   "execution_count": 23,
   "metadata": {},
   "outputs": [
    {
     "name": "stderr",
     "output_type": "stream",
     "text": [
      "Special tokens have been added in the vocabulary, make sure the associated word embeddings are fine-tuned or trained.\n"
     ]
    }
   ],
   "source": [
    "from transformers import AutoTokenizer, AutoModelForCausalLM\n",
    "import torch\n",
    "\n",
    "model_id = \"meta-llama/Meta-Llama-3-8B-Instruct\"\n",
    "\n",
    "tokenizer = AutoTokenizer.from_pretrained(model_id)"
   ]
  },
  {
   "cell_type": "code",
   "execution_count": 19,
   "metadata": {},
   "outputs": [
    {
     "data": {
      "text/plain": [
       "[128000, 8085, 329, 29]"
      ]
     },
     "execution_count": 19,
     "metadata": {},
     "output_type": "execute_result"
    }
   ],
   "source": [
    "tokenizer.encode(\"<pad>\")"
   ]
  },
  {
   "cell_type": "code",
   "execution_count": 25,
   "metadata": {},
   "outputs": [
    {
     "data": {
      "text/plain": [
       "'<|begin_of_text|><|begin_of_text|><|start_header_id|>system<|end_header_id|>\\n\\nYou are a helpful assistant.<|eot_id|><|start_header_id|>user<|end_header_id|>\\n\\nContinue to write this news article: Harry Potter star Daniel Radcliffe gains access to a reported<|eot_id|><|start_header_id|>assistant<|end_header_id|>\\n\\n\\nHarry Potter star Daniel Radcliffe gains access to a reported<|eot_id|><|eot_id|><|eot_id|><|eot_id|><|eot_id|><|eot_id|><|eot_id|><|eot_id|><|eot_id|><|eot_id|><|eot_id|><|eot_id|><|eot_id|><|eot_id|>'"
      ]
     },
     "execution_count": 25,
     "metadata": {},
     "output_type": "execute_result"
    }
   ],
   "source": [
    "tokenizer.decode([128000, 128000, 128006,   9125, 128007,    271,   2675,    527,    264,\n",
    "         11190,  18328,     13, 128009, 128006,    882, 128007,    271,  24433,\n",
    "           311,   3350,    420,   3754,   4652,     25,  14253,  30427,   6917,\n",
    "         15469,  21254,  80556,  20192,   2680,    311,    264,   5068, 128009,\n",
    "        128006,  78191, 128007,   1432,  42398,  30427,   6917,  15469,  21254,\n",
    "         80556,  20192,   2680,    311,    264,   5068, 128009, 128009, 128009,\n",
    "        128009, 128009, 128009, 128009, 128009, 128009, 128009, 128009, 128009,\n",
    "        128009, 128009])"
   ]
  },
  {
   "cell_type": "code",
   "execution_count": 27,
   "metadata": {},
   "outputs": [
    {
     "data": {
      "text/plain": [
       "'<|begin_of_text|><|begin_of_text|><|start_header_id|>system<|end_header_id|>\\n\\nYou are a helpful assistant.<|eot_id|><|start_header_id|>user<|end_header_id|>\\n\\nContinue to write this news article: Harry Potter star Daniel Radcliffe gains access to a reported<|eot_id|><|start_header_id|>assistant<|end_header_id|>\\n\\n\\nHarry Potter star Daniel Radcliffe gains access to a reported<|eot_id|><|eot_id|><|eot_id|><|eot_id|>'"
      ]
     },
     "execution_count": 27,
     "metadata": {},
     "output_type": "execute_result"
    }
   ],
   "source": [
    "tokenizer.decode([128000, 128000, 128006,   9125, 128007,    271,   2675,    527,    264,\n",
    "         11190,  18328,     13, 128009, 128006,    882, 128007,    271,  24433,\n",
    "           311,   3350,    420,   3754,   4652,     25,  14253,  30427,   6917,\n",
    "         15469,  21254,  80556,  20192,   2680,    311,    264,   5068, 128009,\n",
    "        128006,  78191, 128007,   1432,  42398,  30427,   6917,  15469,  21254,\n",
    "         80556,  20192,   2680,    311,    264,   5068, 128009, 128009, 128009,\n",
    "        128009])"
   ]
  },
  {
   "cell_type": "code",
   "execution_count": 28,
   "metadata": {},
   "outputs": [],
   "source": [
    "text_test = \"As he awaits a crucial progress report on Iraq, President Bush will try to put a twist on comparisons of the war to Vietnam by invoking the historical lessons of that conflict to argue against pulling out. President Bush pauses Tuesday during a news conference at the North American Leaders summit in Canada. On Wednesday in Kansas City, Missouri, Bush will tell members of the Veterans of Foreign Wars that \\\"then, as now, people argued that the real problem was America's presence and that if we wou\"\n",
    "tokenizer(text_test)"
   ]
  },
  {
   "cell_type": "code",
   "execution_count": null,
   "metadata": {},
   "outputs": [],
   "source": []
  }
 ],
 "metadata": {
  "kernelspec": {
   "display_name": "llm_detector",
   "language": "python",
   "name": "python3"
  },
  "language_info": {
   "codemirror_mode": {
    "name": "ipython",
    "version": 3
   },
   "file_extension": ".py",
   "mimetype": "text/x-python",
   "name": "python",
   "nbconvert_exporter": "python",
   "pygments_lexer": "ipython3",
   "version": "3.12.2"
  }
 },
 "nbformat": 4,
 "nbformat_minor": 2
}
