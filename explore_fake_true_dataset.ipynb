{
 "cells": [
  {
   "cell_type": "code",
   "execution_count": 34,
   "metadata": {},
   "outputs": [],
   "source": [
    "from datasets import load_dataset, load_from_disk, Dataset, DatasetDict, concatenate_datasets\n",
    "import numpy as np\n",
    "import pandas as pd"
   ]
  },
  {
   "cell_type": "code",
   "execution_count": 35,
   "metadata": {},
   "outputs": [],
   "source": [
    "# label: true = 0, fake = 1"
   ]
  },
  {
   "cell_type": "code",
   "execution_count": 36,
   "metadata": {},
   "outputs": [],
   "source": [
    "fake_train_dataset = load_from_disk(\"fake_true_dataset\")"
   ]
  },
  {
   "cell_type": "code",
   "execution_count": 37,
   "metadata": {},
   "outputs": [
    {
     "data": {
      "text/plain": [
       "DatasetDict({\n",
       "    train: Dataset({\n",
       "        features: ['text', 'label'],\n",
       "        num_rows: 16\n",
       "    })\n",
       "    test: Dataset({\n",
       "        features: ['text', 'label'],\n",
       "        num_rows: 2\n",
       "    })\n",
       "    valid: Dataset({\n",
       "        features: ['text', 'label'],\n",
       "        num_rows: 2\n",
       "    })\n",
       "})"
      ]
     },
     "execution_count": 37,
     "metadata": {},
     "output_type": "execute_result"
    }
   ],
   "source": [
    "fake_train_dataset"
   ]
  },
  {
   "cell_type": "code",
   "execution_count": 38,
   "metadata": {},
   "outputs": [
    {
     "data": {
      "text/plain": [
       "{'text': \"Context:  \\n Can you tell me about the Chicago Bears? \\n Answer: The Chicago Bears are a professional football team based in Chicago, Illinois. They are one of the most successful and storied teams in NFL history, having won numerous championship titles, league championships, and multiple Super Bowls. The Bears have a rich history dating back to the team's founding in 1924. The team has also been known for its deep and competitive teams, as well as its innovative and unique coaching staff. In recent years, the Bears have made several moves to improve their performance and attract new players, including a team rebuild in 2016 and a signing of defensive tackle Patrick White to the team in 2021.<|im_end|>\",\n",
       " 'label': 1}"
      ]
     },
     "execution_count": 38,
     "metadata": {},
     "output_type": "execute_result"
    }
   ],
   "source": [
    "fake_train_dataset['train'][0]"
   ]
  },
  {
   "cell_type": "code",
   "execution_count": 39,
   "metadata": {},
   "outputs": [
    {
     "name": "stdout",
     "output_type": "stream",
     "text": [
      "Context:  \n",
      " Can you tell me about the Chicago Bears? \n",
      " Answer: The Chicago Bears are a professional football team based in Chicago, Illinois. They are one of the most successful and storied teams in NFL history, having won numerous championship titles, league championships, and multiple Super Bowls. The Bears have a rich history dating back to the team's founding in 1924. The team has also been known for its deep and competitive teams, as well as its innovative and unique coaching staff. In recent years, the Bears have made several moves to improve their performance and attract new players, including a team rebuild in 2016 and a signing of defensive tackle Patrick White to the team in 2021.<|im_end|>\n"
     ]
    }
   ],
   "source": [
    "print(fake_train_dataset['train'][0]['text'])"
   ]
  },
  {
   "cell_type": "code",
   "execution_count": 40,
   "metadata": {},
   "outputs": [
    {
     "data": {
      "text/plain": [
       "{'text': \"Context:  \\n Where is the best place to go to relax? \\n Answer: There are many places around the world that are great places to relax, but one place that is often considered to be the best is the beach. Beaches offer a variety of activities and amenities, such as sunbathing, swimming, surfing, and hiking, to help you unwind and relax. Additionally, beaches can be beautiful and stunning, with sand and waves crashing against the shore, providing a sense of calm and tranquility. Many people prefer to take a beach vacation and spend their days lounging on the sand, building sandcastles, or swimming in the ocean. Whether you're a seasoned traveler or simply looking for a relaxing escape, the beach is a great place to unwind and rejuvenate.<|im_end|>\",\n",
       " 'label': 1}"
      ]
     },
     "execution_count": 40,
     "metadata": {},
     "output_type": "execute_result"
    }
   ],
   "source": [
    "fake_train_dataset['train'][6]"
   ]
  },
  {
   "cell_type": "code",
   "execution_count": 41,
   "metadata": {},
   "outputs": [
    {
     "name": "stdout",
     "output_type": "stream",
     "text": [
      "Context:  \n",
      " Where is the best place to go to relax? \n",
      " Answer: There are many places around the world that are great places to relax, but one place that is often considered to be the best is the beach. Beaches offer a variety of activities and amenities, such as sunbathing, swimming, surfing, and hiking, to help you unwind and relax. Additionally, beaches can be beautiful and stunning, with sand and waves crashing against the shore, providing a sense of calm and tranquility. Many people prefer to take a beach vacation and spend their days lounging on the sand, building sandcastles, or swimming in the ocean. Whether you're a seasoned traveler or simply looking for a relaxing escape, the beach is a great place to unwind and rejuvenate.<|im_end|>\n"
     ]
    }
   ],
   "source": [
    "print(fake_train_dataset['train'][6][\"text\"])"
   ]
  },
  {
   "cell_type": "code",
   "execution_count": null,
   "metadata": {},
   "outputs": [],
   "source": []
  },
  {
   "cell_type": "code",
   "execution_count": 42,
   "metadata": {},
   "outputs": [
    {
     "data": {
      "text/html": [
       "<div>\n",
       "<style scoped>\n",
       "    .dataframe tbody tr th:only-of-type {\n",
       "        vertical-align: middle;\n",
       "    }\n",
       "\n",
       "    .dataframe tbody tr th {\n",
       "        vertical-align: top;\n",
       "    }\n",
       "\n",
       "    .dataframe thead th {\n",
       "        text-align: right;\n",
       "    }\n",
       "</style>\n",
       "<table border=\"1\" class=\"dataframe\">\n",
       "  <thead>\n",
       "    <tr style=\"text-align: right;\">\n",
       "      <th></th>\n",
       "      <th>text</th>\n",
       "      <th>label</th>\n",
       "    </tr>\n",
       "  </thead>\n",
       "  <tbody>\n",
       "    <tr>\n",
       "      <th>0</th>\n",
       "      <td>Context:  \\n Can you tell me about the Chicago...</td>\n",
       "      <td>1</td>\n",
       "    </tr>\n",
       "    <tr>\n",
       "      <th>1</th>\n",
       "      <td>Context:  \\n In music theory, what is the circ...</td>\n",
       "      <td>0</td>\n",
       "    </tr>\n",
       "    <tr>\n",
       "      <th>2</th>\n",
       "      <td>Context: In 1871, at the age of eight, Narendr...</td>\n",
       "      <td>0</td>\n",
       "    </tr>\n",
       "    <tr>\n",
       "      <th>3</th>\n",
       "      <td>Context:  \\n What causes an airplane wing to f...</td>\n",
       "      <td>0</td>\n",
       "    </tr>\n",
       "    <tr>\n",
       "      <th>4</th>\n",
       "      <td>Context:  \\n What changes needs to be done in ...</td>\n",
       "      <td>1</td>\n",
       "    </tr>\n",
       "  </tbody>\n",
       "</table>\n",
       "</div>"
      ],
      "text/plain": [
       "                                                text  label\n",
       "0  Context:  \\n Can you tell me about the Chicago...      1\n",
       "1  Context:  \\n In music theory, what is the circ...      0\n",
       "2  Context: In 1871, at the age of eight, Narendr...      0\n",
       "3  Context:  \\n What causes an airplane wing to f...      0\n",
       "4  Context:  \\n What changes needs to be done in ...      1"
      ]
     },
     "execution_count": 42,
     "metadata": {},
     "output_type": "execute_result"
    }
   ],
   "source": [
    "# transform dataset to pandas dataframe\n",
    "fake_train_df = pd.DataFrame(fake_train_dataset['train'])\n",
    "fake_train_df.head()"
   ]
  },
  {
   "cell_type": "code",
   "execution_count": 43,
   "metadata": {},
   "outputs": [
    {
     "name": "stdout",
     "output_type": "stream",
     "text": [
      "Average size of text with label 0 (=True text): 523.75\n",
      "Average size of text with label 1 (=Fake text): 973.625\n"
     ]
    }
   ],
   "source": [
    "print(\"Average size of text with label 0 (=True text):\", np.mean(fake_train_df[fake_train_df['label'] == 0]['text'].apply(len)))\n",
    "print(\"Average size of text with label 1 (=Fake text):\", np.mean(fake_train_df[fake_train_df['label'] == 1]['text'].apply(len)))"
   ]
  },
  {
   "cell_type": "code",
   "execution_count": 44,
   "metadata": {},
   "outputs": [
    {
     "name": "stdout",
     "output_type": "stream",
     "text": [
      "Average number of newlines in text with label 0 (=True text): 2.0\n",
      "Average number of newlines in text with label 1 (=Fake text): 2.0\n"
     ]
    }
   ],
   "source": [
    "print(\"Average number of newlines in text with label 0 (=True text):\", np.mean(fake_train_df[fake_train_df['label'] == 0]['text'].apply(lambda x: x.count(\"\\n\"))))\n",
    "print(\"Average number of newlines in text with label 1 (=Fake text):\", np.mean(fake_train_df[fake_train_df['label'] == 1]['text'].apply(lambda x: x.count(\"\\n\"))))"
   ]
  },
  {
   "cell_type": "code",
   "execution_count": null,
   "metadata": {},
   "outputs": [],
   "source": []
  },
  {
   "cell_type": "code",
   "execution_count": null,
   "metadata": {},
   "outputs": [],
   "source": []
  }
 ],
 "metadata": {
  "kernelspec": {
   "display_name": "llm_detector",
   "language": "python",
   "name": "python3"
  },
  "language_info": {
   "codemirror_mode": {
    "name": "ipython",
    "version": 3
   },
   "file_extension": ".py",
   "mimetype": "text/x-python",
   "name": "python",
   "nbconvert_exporter": "python",
   "pygments_lexer": "ipython3",
   "version": "3.12.2"
  }
 },
 "nbformat": 4,
 "nbformat_minor": 2
}
