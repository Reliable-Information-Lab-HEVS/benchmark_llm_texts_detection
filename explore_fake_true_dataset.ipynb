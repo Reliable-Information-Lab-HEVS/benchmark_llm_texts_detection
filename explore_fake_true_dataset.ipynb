{
 "cells": [
  {
   "cell_type": "code",
   "execution_count": 85,
   "metadata": {},
   "outputs": [],
   "source": [
    "from datasets import load_dataset, load_from_disk, Dataset, DatasetDict, concatenate_datasets\n",
    "import numpy as np\n",
    "import pandas as pd\n",
    "\n",
    "import json"
   ]
  },
  {
   "cell_type": "code",
   "execution_count": 86,
   "metadata": {},
   "outputs": [],
   "source": [
    "# label: true = 0, fake = 1"
   ]
  },
  {
   "cell_type": "code",
   "execution_count": 87,
   "metadata": {},
   "outputs": [],
   "source": [
    "experiment_name = \"qwen_test\"\n",
    "fake_train_dataset = load_from_disk(f\"fake_true_dataset_{experiment_name}\")"
   ]
  },
  {
   "cell_type": "code",
   "execution_count": 88,
   "metadata": {},
   "outputs": [],
   "source": [
    "# save to json\n",
    "#fake_train_dataset[\"train\"].to_json(\"fake_true_dataset.json\", force_ascii=True)\n",
    "\n",
    "# load to pandas\n",
    "df = pd.DataFrame(fake_train_dataset['train'])\n",
    "\n",
    "# transform text to list by splitting on \\n\n",
    "df[\"text\"] = df[\"text\"].apply(lambda x: x.split(\"\\n\"))\n",
    "\n",
    "# dump to json\n",
    "df.to_json(f\"fake_true_dataset_{experiment_name}.json\", force_ascii=False, indent=4)\n",
    "\n"
   ]
  },
  {
   "cell_type": "code",
   "execution_count": 89,
   "metadata": {},
   "outputs": [
    {
     "data": {
      "text/plain": [
       "DatasetDict({\n",
       "    train: Dataset({\n",
       "        features: ['text', 'label'],\n",
       "        num_rows: 16\n",
       "    })\n",
       "    test: Dataset({\n",
       "        features: ['text', 'label'],\n",
       "        num_rows: 2\n",
       "    })\n",
       "    valid: Dataset({\n",
       "        features: ['text', 'label'],\n",
       "        num_rows: 2\n",
       "    })\n",
       "})"
      ]
     },
     "execution_count": 89,
     "metadata": {},
     "output_type": "execute_result"
    }
   ],
   "source": [
    "fake_train_dataset"
   ]
  },
  {
   "cell_type": "code",
   "execution_count": 90,
   "metadata": {},
   "outputs": [
    {
     "data": {
      "text/plain": [
       "{'text': 'Instruction:  \\n Who was the first person to do spacewalk? \\n Answer: Alexei Leonov, a soviet cosmonaut was the first person to do spacewalk',\n",
       " 'label': 0}"
      ]
     },
     "execution_count": 90,
     "metadata": {},
     "output_type": "execute_result"
    }
   ],
   "source": [
    "fake_train_dataset['train'][0]"
   ]
  },
  {
   "cell_type": "code",
   "execution_count": 91,
   "metadata": {},
   "outputs": [
    {
     "name": "stdout",
     "output_type": "stream",
     "text": [
      "Instruction:  \n",
      " Who was the first person to do spacewalk? \n",
      " Answer: Alexei Leonov, a soviet cosmonaut was the first person to do spacewalk\n"
     ]
    }
   ],
   "source": [
    "print(fake_train_dataset['train'][0]['text'])"
   ]
  },
  {
   "cell_type": "code",
   "execution_count": 92,
   "metadata": {},
   "outputs": [
    {
     "data": {
      "text/plain": [
       "{'text': \"Instruction:  \\n What are the different methods to open a pomegranate? \\n Answer: Open a pomegranate involves a few different methods, including:  1. Hand-picking: This is the most traditional method of opening a pomegranate. It involves removing the pomegranate from its shell and gently turning it inside out to make sure it is properly open.   2. Robbing: Another method of opening a pomegranate is by scraping the seeds out with your fingers and using your tongue to help them release. This method is more gentle and easier to use, but it may not produce the same pomegranate flavor.  3. Cutting: If you prefer a more现代 method, you can use a sharp knife to cut the pomegranate open. This method may produce a slightly smoother opening than hand-picking or scraping, but it may not produce the same pomegranate flavor.  4. Using a spoon: Another method of opening a pomegranate is by using a spoon to carefully insert the seeds and pomegranate inside. This method may produce a slightly smoother opening than hand-picking or scraping, but it may not produce the same pomegranate flavor.  Regardless of which method you use, it's important to handle the pomegranate carefully and not to overuse the seeds or pomegranate in your recipes.\",\n",
       " 'label': 1}"
      ]
     },
     "execution_count": 92,
     "metadata": {},
     "output_type": "execute_result"
    }
   ],
   "source": [
    "fake_train_dataset['train'][2]"
   ]
  },
  {
   "cell_type": "code",
   "execution_count": 93,
   "metadata": {},
   "outputs": [
    {
     "name": "stdout",
     "output_type": "stream",
     "text": [
      "Instruction:  \n",
      " What are the different methods to open a pomegranate? \n",
      " Answer: Open a pomegranate involves a few different methods, including:  1. Hand-picking: This is the most traditional method of opening a pomegranate. It involves removing the pomegranate from its shell and gently turning it inside out to make sure it is properly open.   2. Robbing: Another method of opening a pomegranate is by scraping the seeds out with your fingers and using your tongue to help them release. This method is more gentle and easier to use, but it may not produce the same pomegranate flavor.  3. Cutting: If you prefer a more现代 method, you can use a sharp knife to cut the pomegranate open. This method may produce a slightly smoother opening than hand-picking or scraping, but it may not produce the same pomegranate flavor.  4. Using a spoon: Another method of opening a pomegranate is by using a spoon to carefully insert the seeds and pomegranate inside. This method may produce a slightly smoother opening than hand-picking or scraping, but it may not produce the same pomegranate flavor.  Regardless of which method you use, it's important to handle the pomegranate carefully and not to overuse the seeds or pomegranate in your recipes.\n"
     ]
    }
   ],
   "source": [
    "print(fake_train_dataset['train'][2][\"text\"])"
   ]
  },
  {
   "cell_type": "code",
   "execution_count": null,
   "metadata": {},
   "outputs": [],
   "source": []
  },
  {
   "cell_type": "code",
   "execution_count": 94,
   "metadata": {},
   "outputs": [
    {
     "data": {
      "text/html": [
       "<div>\n",
       "<style scoped>\n",
       "    .dataframe tbody tr th:only-of-type {\n",
       "        vertical-align: middle;\n",
       "    }\n",
       "\n",
       "    .dataframe tbody tr th {\n",
       "        vertical-align: top;\n",
       "    }\n",
       "\n",
       "    .dataframe thead th {\n",
       "        text-align: right;\n",
       "    }\n",
       "</style>\n",
       "<table border=\"1\" class=\"dataframe\">\n",
       "  <thead>\n",
       "    <tr style=\"text-align: right;\">\n",
       "      <th></th>\n",
       "      <th>text</th>\n",
       "      <th>label</th>\n",
       "    </tr>\n",
       "  </thead>\n",
       "  <tbody>\n",
       "    <tr>\n",
       "      <th>0</th>\n",
       "      <td>Instruction:  \\n Who was the first person to d...</td>\n",
       "      <td>0</td>\n",
       "    </tr>\n",
       "    <tr>\n",
       "      <th>1</th>\n",
       "      <td>Instruction:  \\n Could a nuclear explosion cha...</td>\n",
       "      <td>0</td>\n",
       "    </tr>\n",
       "    <tr>\n",
       "      <th>2</th>\n",
       "      <td>Instruction:  \\n What are the different method...</td>\n",
       "      <td>1</td>\n",
       "    </tr>\n",
       "    <tr>\n",
       "      <th>3</th>\n",
       "      <td>Instruction:  \\n Who were the children of the ...</td>\n",
       "      <td>0</td>\n",
       "    </tr>\n",
       "    <tr>\n",
       "      <th>4</th>\n",
       "      <td>Instruction:  \\n Why do I have a belly button?...</td>\n",
       "      <td>1</td>\n",
       "    </tr>\n",
       "  </tbody>\n",
       "</table>\n",
       "</div>"
      ],
      "text/plain": [
       "                                                text  label\n",
       "0  Instruction:  \\n Who was the first person to d...      0\n",
       "1  Instruction:  \\n Could a nuclear explosion cha...      0\n",
       "2  Instruction:  \\n What are the different method...      1\n",
       "3  Instruction:  \\n Who were the children of the ...      0\n",
       "4  Instruction:  \\n Why do I have a belly button?...      1"
      ]
     },
     "execution_count": 94,
     "metadata": {},
     "output_type": "execute_result"
    }
   ],
   "source": [
    "# transform dataset to pandas dataframe\n",
    "fake_train_df = pd.DataFrame(fake_train_dataset['train'])\n",
    "fake_train_df.head()"
   ]
  },
  {
   "cell_type": "code",
   "execution_count": 95,
   "metadata": {},
   "outputs": [
    {
     "name": "stdout",
     "output_type": "stream",
     "text": [
      "Average size of text with label 0 (=True text): 545.625\n",
      "Average size of text with label 1 (=Fake text): 715.125\n"
     ]
    }
   ],
   "source": [
    "print(\"Average size of text with label 0 (=True text):\", np.mean(fake_train_df[fake_train_df['label'] == 0]['text'].apply(len)))\n",
    "print(\"Average size of text with label 1 (=Fake text):\", np.mean(fake_train_df[fake_train_df['label'] == 1]['text'].apply(len)))"
   ]
  },
  {
   "cell_type": "markdown",
   "metadata": {},
   "source": []
  },
  {
   "cell_type": "code",
   "execution_count": 96,
   "metadata": {},
   "outputs": [
    {
     "name": "stdout",
     "output_type": "stream",
     "text": [
      "Average number of newlines in text with label 0 (=True text): 2.0\n",
      "Average number of newlines in text with label 1 (=Fake text): 2.125\n"
     ]
    }
   ],
   "source": [
    "print(\"Average number of newlines in text with label 0 (=True text):\", np.mean(fake_train_df[fake_train_df['label'] == 0]['text'].apply(lambda x: x.count(\"\\n\"))))\n",
    "print(\"Average number of newlines in text with label 1 (=Fake text):\", np.mean(fake_train_df[fake_train_df['label'] == 1]['text'].apply(lambda x: x.count(\"\\n\"))))"
   ]
  },
  {
   "cell_type": "code",
   "execution_count": 83,
   "metadata": {},
   "outputs": [
    {
     "data": {
      "text/html": [
       "<div>\n",
       "<style scoped>\n",
       "    .dataframe tbody tr th:only-of-type {\n",
       "        vertical-align: middle;\n",
       "    }\n",
       "\n",
       "    .dataframe tbody tr th {\n",
       "        vertical-align: top;\n",
       "    }\n",
       "\n",
       "    .dataframe thead th {\n",
       "        text-align: right;\n",
       "    }\n",
       "</style>\n",
       "<table border=\"1\" class=\"dataframe\">\n",
       "  <thead>\n",
       "    <tr style=\"text-align: right;\">\n",
       "      <th></th>\n",
       "      <th>label</th>\n",
       "    </tr>\n",
       "  </thead>\n",
       "  <tbody>\n",
       "    <tr>\n",
       "      <th>count</th>\n",
       "      <td>16.000000</td>\n",
       "    </tr>\n",
       "    <tr>\n",
       "      <th>mean</th>\n",
       "      <td>0.500000</td>\n",
       "    </tr>\n",
       "    <tr>\n",
       "      <th>std</th>\n",
       "      <td>0.516398</td>\n",
       "    </tr>\n",
       "    <tr>\n",
       "      <th>min</th>\n",
       "      <td>0.000000</td>\n",
       "    </tr>\n",
       "    <tr>\n",
       "      <th>25%</th>\n",
       "      <td>0.000000</td>\n",
       "    </tr>\n",
       "    <tr>\n",
       "      <th>50%</th>\n",
       "      <td>0.500000</td>\n",
       "    </tr>\n",
       "    <tr>\n",
       "      <th>75%</th>\n",
       "      <td>1.000000</td>\n",
       "    </tr>\n",
       "    <tr>\n",
       "      <th>max</th>\n",
       "      <td>1.000000</td>\n",
       "    </tr>\n",
       "  </tbody>\n",
       "</table>\n",
       "</div>"
      ],
      "text/plain": [
       "           label\n",
       "count  16.000000\n",
       "mean    0.500000\n",
       "std     0.516398\n",
       "min     0.000000\n",
       "25%     0.000000\n",
       "50%     0.500000\n",
       "75%     1.000000\n",
       "max     1.000000"
      ]
     },
     "execution_count": 83,
     "metadata": {},
     "output_type": "execute_result"
    }
   ],
   "source": [
    "fake_train_df.describe()"
   ]
  },
  {
   "cell_type": "code",
   "execution_count": 84,
   "metadata": {},
   "outputs": [
    {
     "data": {
      "text/html": [
       "<div>\n",
       "<style scoped>\n",
       "    .dataframe tbody tr th:only-of-type {\n",
       "        vertical-align: middle;\n",
       "    }\n",
       "\n",
       "    .dataframe tbody tr th {\n",
       "        vertical-align: top;\n",
       "    }\n",
       "\n",
       "    .dataframe thead th {\n",
       "        text-align: right;\n",
       "    }\n",
       "</style>\n",
       "<table border=\"1\" class=\"dataframe\">\n",
       "  <thead>\n",
       "    <tr style=\"text-align: right;\">\n",
       "      <th></th>\n",
       "      <th>label</th>\n",
       "    </tr>\n",
       "  </thead>\n",
       "  <tbody>\n",
       "    <tr>\n",
       "      <th>count</th>\n",
       "      <td>8.0</td>\n",
       "    </tr>\n",
       "    <tr>\n",
       "      <th>mean</th>\n",
       "      <td>1.0</td>\n",
       "    </tr>\n",
       "    <tr>\n",
       "      <th>std</th>\n",
       "      <td>0.0</td>\n",
       "    </tr>\n",
       "    <tr>\n",
       "      <th>min</th>\n",
       "      <td>1.0</td>\n",
       "    </tr>\n",
       "    <tr>\n",
       "      <th>25%</th>\n",
       "      <td>1.0</td>\n",
       "    </tr>\n",
       "    <tr>\n",
       "      <th>50%</th>\n",
       "      <td>1.0</td>\n",
       "    </tr>\n",
       "    <tr>\n",
       "      <th>75%</th>\n",
       "      <td>1.0</td>\n",
       "    </tr>\n",
       "    <tr>\n",
       "      <th>max</th>\n",
       "      <td>1.0</td>\n",
       "    </tr>\n",
       "  </tbody>\n",
       "</table>\n",
       "</div>"
      ],
      "text/plain": [
       "       label\n",
       "count    8.0\n",
       "mean     1.0\n",
       "std      0.0\n",
       "min      1.0\n",
       "25%      1.0\n",
       "50%      1.0\n",
       "75%      1.0\n",
       "max      1.0"
      ]
     },
     "execution_count": 84,
     "metadata": {},
     "output_type": "execute_result"
    }
   ],
   "source": [
    "fake_train_df[fake_train_df[\"label\"] == 1].describe()"
   ]
  },
  {
   "cell_type": "code",
   "execution_count": 62,
   "metadata": {},
   "outputs": [
    {
     "data": {
      "text/html": [
       "<div>\n",
       "<style scoped>\n",
       "    .dataframe tbody tr th:only-of-type {\n",
       "        vertical-align: middle;\n",
       "    }\n",
       "\n",
       "    .dataframe tbody tr th {\n",
       "        vertical-align: top;\n",
       "    }\n",
       "\n",
       "    .dataframe thead th {\n",
       "        text-align: right;\n",
       "    }\n",
       "</style>\n",
       "<table border=\"1\" class=\"dataframe\">\n",
       "  <thead>\n",
       "    <tr style=\"text-align: right;\">\n",
       "      <th></th>\n",
       "      <th>text</th>\n",
       "      <th>label</th>\n",
       "    </tr>\n",
       "  </thead>\n",
       "  <tbody>\n",
       "    <tr>\n",
       "      <th>0</th>\n",
       "      <td>Instruction:  \\n Write a funny and whimsical h...</td>\n",
       "      <td>0</td>\n",
       "    </tr>\n",
       "    <tr>\n",
       "      <th>1</th>\n",
       "      <td>Instruction:  \\n If McDonald’s were to go out ...</td>\n",
       "      <td>1</td>\n",
       "    </tr>\n",
       "    <tr>\n",
       "      <th>2</th>\n",
       "      <td>Instruction:  \\n what is the difference betwee...</td>\n",
       "      <td>1</td>\n",
       "    </tr>\n",
       "    <tr>\n",
       "      <th>3</th>\n",
       "      <td>Instruction:  \\n Who were the children of the ...</td>\n",
       "      <td>0</td>\n",
       "    </tr>\n",
       "    <tr>\n",
       "      <th>4</th>\n",
       "      <td>Instruction:  \\n Who was the first person to d...</td>\n",
       "      <td>0</td>\n",
       "    </tr>\n",
       "    <tr>\n",
       "      <th>5</th>\n",
       "      <td>Instruction:  \\n What was most important inven...</td>\n",
       "      <td>1</td>\n",
       "    </tr>\n",
       "  </tbody>\n",
       "</table>\n",
       "</div>"
      ],
      "text/plain": [
       "                                                text  label\n",
       "0  Instruction:  \\n Write a funny and whimsical h...      0\n",
       "1  Instruction:  \\n If McDonald’s were to go out ...      1\n",
       "2  Instruction:  \\n what is the difference betwee...      1\n",
       "3  Instruction:  \\n Who were the children of the ...      0\n",
       "4  Instruction:  \\n Who was the first person to d...      0\n",
       "5  Instruction:  \\n What was most important inven...      1"
      ]
     },
     "execution_count": 62,
     "metadata": {},
     "output_type": "execute_result"
    }
   ],
   "source": [
    "fake_train_df.head(20)"
   ]
  },
  {
   "cell_type": "code",
   "execution_count": null,
   "metadata": {},
   "outputs": [],
   "source": []
  }
 ],
 "metadata": {
  "kernelspec": {
   "display_name": "llm_detector",
   "language": "python",
   "name": "python3"
  },
  "language_info": {
   "codemirror_mode": {
    "name": "ipython",
    "version": 3
   },
   "file_extension": ".py",
   "mimetype": "text/x-python",
   "name": "python",
   "nbconvert_exporter": "python",
   "pygments_lexer": "ipython3",
   "version": "3.12.2"
  }
 },
 "nbformat": 4,
 "nbformat_minor": 2
}
