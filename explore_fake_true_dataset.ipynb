{
 "cells": [
  {
   "cell_type": "code",
   "execution_count": 58,
   "metadata": {},
   "outputs": [],
   "source": [
    "from datasets import load_dataset, load_from_disk, Dataset, DatasetDict, concatenate_datasets\n",
    "import numpy as np\n",
    "import pandas as pd\n",
    "from scipy.stats import wasserstein_distance\n",
    "\n",
    "\n",
    "import json\n",
    "import matplotlib.pyplot as plt"
   ]
  },
  {
   "cell_type": "code",
   "execution_count": 59,
   "metadata": {},
   "outputs": [],
   "source": [
    "# label: true = 0, fake = 1"
   ]
  },
  {
   "cell_type": "code",
   "execution_count": 60,
   "metadata": {},
   "outputs": [],
   "source": [
    "experiment_name = \"mistral_10k\"\n",
    "fake_train_dataset = load_from_disk(f\"fake_true_dataset_{experiment_name}\")"
   ]
  },
  {
   "cell_type": "code",
   "execution_count": 61,
   "metadata": {},
   "outputs": [],
   "source": [
    "# save to json\n",
    "#fake_train_dataset[\"train\"].to_json(\"fake_true_dataset.json\", force_ascii=True)\n",
    "\n",
    "# load to pandas\n",
    "df = pd.DataFrame(fake_train_dataset['train'])\n",
    "\n",
    "# transform text to list by splitting on \\n\n",
    "df[\"text\"] = df[\"text\"].apply(lambda x: x.split(\"\\n\"))\n",
    "\n",
    "# dump to json\n",
    "df.to_json(f\"fake_true_dataset_{experiment_name}.json\", force_ascii=False, indent=4)\n",
    "\n"
   ]
  },
  {
   "cell_type": "code",
   "execution_count": 62,
   "metadata": {},
   "outputs": [
    {
     "data": {
      "text/plain": [
       "DatasetDict({\n",
       "    train: Dataset({\n",
       "        features: ['text', 'label'],\n",
       "        num_rows: 13232\n",
       "    })\n",
       "    valid: Dataset({\n",
       "        features: ['text', 'label'],\n",
       "        num_rows: 1653\n",
       "    })\n",
       "    test: Dataset({\n",
       "        features: ['text', 'label'],\n",
       "        num_rows: 1653\n",
       "    })\n",
       "})"
      ]
     },
     "execution_count": 62,
     "metadata": {},
     "output_type": "execute_result"
    }
   ],
   "source": [
    "fake_train_dataset"
   ]
  },
  {
   "cell_type": "code",
   "execution_count": 63,
   "metadata": {},
   "outputs": [
    {
     "data": {
      "text/plain": [
       "{'text': 'Former Vice President Dick Cheney on Sunday defended the Bush administration\\'s economic record, the invasion of Iraq and the treatment of suspected terrorists, warning that reversing its anti-terrorism policies endangers Americans. \"We\\'ve accomplished nearly everything we set out to do,\" ex-Vice President Dick Cheney says Sunday about Iraq. In a wide-ranging interview with CNN\\'s \"State of the Union,\" Cheney said the harsh interrogations of suspects and the use of warrantless electronic surveilla',\n",
       " 'label': 0}"
      ]
     },
     "execution_count": 63,
     "metadata": {},
     "output_type": "execute_result"
    }
   ],
   "source": [
    "fake_train_dataset['train'][0]"
   ]
  },
  {
   "cell_type": "code",
   "execution_count": 64,
   "metadata": {},
   "outputs": [
    {
     "name": "stdout",
     "output_type": "stream",
     "text": [
      "Former Vice President Dick Cheney on Sunday defended the Bush administration's economic record, the invasion of Iraq and the treatment of suspected terrorists, warning that reversing its anti-terrorism policies endangers Americans. \"We've accomplished nearly everything we set out to do,\" ex-Vice President Dick Cheney says Sunday about Iraq. In a wide-ranging interview with CNN's \"State of the Union,\" Cheney said the harsh interrogations of suspects and the use of warrantless electronic surveilla\n"
     ]
    }
   ],
   "source": [
    "print(fake_train_dataset['train'][0]['text'])"
   ]
  },
  {
   "cell_type": "code",
   "execution_count": 65,
   "metadata": {},
   "outputs": [
    {
     "data": {
      "text/plain": [
       "{'text': 'Space shuttle Discovery launched just before midnight Friday on a mission to the international space station. Space shuttle Discovery lifts off late Friday from Kennedy Space Center in a photo from iReporter Alan Walters. The crew of seven astronauts includes one from Mexico and another from Sweden. One of those seven, Nicole Stott, will remain on the station as a flight engineer, while astronaut Timothy Kopra is to return home aboard the shuttle. Also on board: The Leonardo logistics module, sc',\n",
       " 'label': 0}"
      ]
     },
     "execution_count": 65,
     "metadata": {},
     "output_type": "execute_result"
    }
   ],
   "source": [
    "fake_train_dataset['train'][2]"
   ]
  },
  {
   "cell_type": "code",
   "execution_count": 66,
   "metadata": {},
   "outputs": [
    {
     "name": "stdout",
     "output_type": "stream",
     "text": [
      "Space shuttle Discovery launched just before midnight Friday on a mission to the international space station. Space shuttle Discovery lifts off late Friday from Kennedy Space Center in a photo from iReporter Alan Walters. The crew of seven astronauts includes one from Mexico and another from Sweden. One of those seven, Nicole Stott, will remain on the station as a flight engineer, while astronaut Timothy Kopra is to return home aboard the shuttle. Also on board: The Leonardo logistics module, sc\n"
     ]
    }
   ],
   "source": [
    "print(fake_train_dataset['train'][2][\"text\"])"
   ]
  },
  {
   "cell_type": "code",
   "execution_count": 85,
   "metadata": {},
   "outputs": [
    {
     "data": {
      "text/html": [
       "<div>\n",
       "<style scoped>\n",
       "    .dataframe tbody tr th:only-of-type {\n",
       "        vertical-align: middle;\n",
       "    }\n",
       "\n",
       "    .dataframe tbody tr th {\n",
       "        vertical-align: top;\n",
       "    }\n",
       "\n",
       "    .dataframe thead th {\n",
       "        text-align: right;\n",
       "    }\n",
       "</style>\n",
       "<table border=\"1\" class=\"dataframe\">\n",
       "  <thead>\n",
       "    <tr style=\"text-align: right;\">\n",
       "      <th></th>\n",
       "      <th>text</th>\n",
       "      <th>label</th>\n",
       "    </tr>\n",
       "  </thead>\n",
       "  <tbody>\n",
       "    <tr>\n",
       "      <th>0</th>\n",
       "      <td>Former Vice President Dick Cheney on Sunday de...</td>\n",
       "      <td>0</td>\n",
       "    </tr>\n",
       "    <tr>\n",
       "      <th>1</th>\n",
       "      <td>Former Vice President Dick Cheney on Sunday de...</td>\n",
       "      <td>1</td>\n",
       "    </tr>\n",
       "    <tr>\n",
       "      <th>2</th>\n",
       "      <td>Space shuttle Discovery launched just before m...</td>\n",
       "      <td>0</td>\n",
       "    </tr>\n",
       "    <tr>\n",
       "      <th>3</th>\n",
       "      <td>Space shuttle Discovery launched just before m...</td>\n",
       "      <td>1</td>\n",
       "    </tr>\n",
       "    <tr>\n",
       "      <th>4</th>\n",
       "      <td>When Eileen Mather lands in Mexico City on her...</td>\n",
       "      <td>0</td>\n",
       "    </tr>\n",
       "  </tbody>\n",
       "</table>\n",
       "</div>"
      ],
      "text/plain": [
       "                                                text  label\n",
       "0  Former Vice President Dick Cheney on Sunday de...      0\n",
       "1  Former Vice President Dick Cheney on Sunday de...      1\n",
       "2  Space shuttle Discovery launched just before m...      0\n",
       "3  Space shuttle Discovery launched just before m...      1\n",
       "4  When Eileen Mather lands in Mexico City on her...      0"
      ]
     },
     "execution_count": 85,
     "metadata": {},
     "output_type": "execute_result"
    }
   ],
   "source": [
    "# transform dataset to pandas dataframe\n",
    "fake_train_df = pd.DataFrame(fake_train_dataset['train'])\n",
    "fake_test_df = pd.DataFrame(fake_train_dataset['test'])\n",
    "fake_valid_df = pd.DataFrame(fake_train_dataset['valid'])\n",
    "fake_train_df.head()"
   ]
  },
  {
   "cell_type": "code",
   "execution_count": 68,
   "metadata": {},
   "outputs": [
    {
     "name": "stdout",
     "output_type": "stream",
     "text": [
      "Average size of text with label 0 (=True text): 500.0\n",
      "Average size of text with label 1 (=Fake text): 500.0\n"
     ]
    }
   ],
   "source": [
    "print(\"Average size of text with label 0 (=True text):\", np.mean(fake_train_df[fake_train_df['label'] == 0]['text'].apply(len)))\n",
    "print(\"Average size of text with label 1 (=Fake text):\", np.mean(fake_train_df[fake_train_df['label'] == 1]['text'].apply(len)))"
   ]
  },
  {
   "cell_type": "code",
   "execution_count": 69,
   "metadata": {},
   "outputs": [
    {
     "data": {
      "text/plain": [
       "<matplotlib.legend.Legend at 0x7ffa378d9610>"
      ]
     },
     "execution_count": 69,
     "metadata": {},
     "output_type": "execute_result"
    },
    {
     "data": {
      "image/png": "[encoded data removed]",
      "text/plain": [
       "<Figure size 640x480 with 1 Axes>"
      ]
     },
     "metadata": {},
     "output_type": "display_data"
    }
   ],
   "source": [
    "# show histogram of text length for true and fake text\n",
    "plt.hist(fake_train_df[fake_train_df['label'] == 0]['text'].apply(len), bins=30, alpha=0.5, label='True text')\n",
    "plt.hist(fake_train_df[fake_train_df['label'] == 1]['text'].apply(len), bins=30, alpha=0.5, label='Fake text')\n",
    "\n",
    "# add x and y axis labels\n",
    "plt.xlabel('Text length')\n",
    "plt.ylabel('Number of texts')\n",
    "\n",
    "plt.title(\"Histogram of text length for true and fake text\")\n",
    "\n",
    "plt.legend(loc='upper right')"
   ]
  },
  {
   "cell_type": "markdown",
   "metadata": {},
   "source": []
  },
  {
   "cell_type": "code",
   "execution_count": 70,
   "metadata": {},
   "outputs": [
    {
     "name": "stdout",
     "output_type": "stream",
     "text": [
      "Average number of newlines in text with label 0 (=True text): 0.0\n",
      "Average number of newlines in text with label 1 (=Fake text): 0.0\n"
     ]
    }
   ],
   "source": [
    "print(\"Average number of newlines in text with label 0 (=True text):\", np.mean(fake_train_df[fake_train_df['label'] == 0]['text'].apply(lambda x: x.count(\"\\n\"))))\n",
    "print(\"Average number of newlines in text with label 1 (=Fake text):\", np.mean(fake_train_df[fake_train_df['label'] == 1]['text'].apply(lambda x: x.count(\"\\n\"))))"
   ]
  },
  {
   "cell_type": "code",
   "execution_count": 71,
   "metadata": {},
   "outputs": [
    {
     "data": {
      "text/html": [
       "<div>\n",
       "<style scoped>\n",
       "    .dataframe tbody tr th:only-of-type {\n",
       "        vertical-align: middle;\n",
       "    }\n",
       "\n",
       "    .dataframe tbody tr th {\n",
       "        vertical-align: top;\n",
       "    }\n",
       "\n",
       "    .dataframe thead th {\n",
       "        text-align: right;\n",
       "    }\n",
       "</style>\n",
       "<table border=\"1\" class=\"dataframe\">\n",
       "  <thead>\n",
       "    <tr style=\"text-align: right;\">\n",
       "      <th></th>\n",
       "      <th>label</th>\n",
       "    </tr>\n",
       "  </thead>\n",
       "  <tbody>\n",
       "    <tr>\n",
       "      <th>count</th>\n",
       "      <td>13232.000000</td>\n",
       "    </tr>\n",
       "    <tr>\n",
       "      <th>mean</th>\n",
       "      <td>0.485565</td>\n",
       "    </tr>\n",
       "    <tr>\n",
       "      <th>std</th>\n",
       "      <td>0.499810</td>\n",
       "    </tr>\n",
       "    <tr>\n",
       "      <th>min</th>\n",
       "      <td>0.000000</td>\n",
       "    </tr>\n",
       "    <tr>\n",
       "      <th>25%</th>\n",
       "      <td>0.000000</td>\n",
       "    </tr>\n",
       "    <tr>\n",
       "      <th>50%</th>\n",
       "      <td>0.000000</td>\n",
       "    </tr>\n",
       "    <tr>\n",
       "      <th>75%</th>\n",
       "      <td>1.000000</td>\n",
       "    </tr>\n",
       "    <tr>\n",
       "      <th>max</th>\n",
       "      <td>1.000000</td>\n",
       "    </tr>\n",
       "  </tbody>\n",
       "</table>\n",
       "</div>"
      ],
      "text/plain": [
       "              label\n",
       "count  13232.000000\n",
       "mean       0.485565\n",
       "std        0.499810\n",
       "min        0.000000\n",
       "25%        0.000000\n",
       "50%        0.000000\n",
       "75%        1.000000\n",
       "max        1.000000"
      ]
     },
     "execution_count": 71,
     "metadata": {},
     "output_type": "execute_result"
    }
   ],
   "source": [
    "fake_train_df.describe()"
   ]
  },
  {
   "cell_type": "code",
   "execution_count": 72,
   "metadata": {},
   "outputs": [
    {
     "data": {
      "text/html": [
       "<div>\n",
       "<style scoped>\n",
       "    .dataframe tbody tr th:only-of-type {\n",
       "        vertical-align: middle;\n",
       "    }\n",
       "\n",
       "    .dataframe tbody tr th {\n",
       "        vertical-align: top;\n",
       "    }\n",
       "\n",
       "    .dataframe thead th {\n",
       "        text-align: right;\n",
       "    }\n",
       "</style>\n",
       "<table border=\"1\" class=\"dataframe\">\n",
       "  <thead>\n",
       "    <tr style=\"text-align: right;\">\n",
       "      <th></th>\n",
       "      <th>label</th>\n",
       "    </tr>\n",
       "  </thead>\n",
       "  <tbody>\n",
       "    <tr>\n",
       "      <th>count</th>\n",
       "      <td>6425.0</td>\n",
       "    </tr>\n",
       "    <tr>\n",
       "      <th>mean</th>\n",
       "      <td>1.0</td>\n",
       "    </tr>\n",
       "    <tr>\n",
       "      <th>std</th>\n",
       "      <td>0.0</td>\n",
       "    </tr>\n",
       "    <tr>\n",
       "      <th>min</th>\n",
       "      <td>1.0</td>\n",
       "    </tr>\n",
       "    <tr>\n",
       "      <th>25%</th>\n",
       "      <td>1.0</td>\n",
       "    </tr>\n",
       "    <tr>\n",
       "      <th>50%</th>\n",
       "      <td>1.0</td>\n",
       "    </tr>\n",
       "    <tr>\n",
       "      <th>75%</th>\n",
       "      <td>1.0</td>\n",
       "    </tr>\n",
       "    <tr>\n",
       "      <th>max</th>\n",
       "      <td>1.0</td>\n",
       "    </tr>\n",
       "  </tbody>\n",
       "</table>\n",
       "</div>"
      ],
      "text/plain": [
       "        label\n",
       "count  6425.0\n",
       "mean      1.0\n",
       "std       0.0\n",
       "min       1.0\n",
       "25%       1.0\n",
       "50%       1.0\n",
       "75%       1.0\n",
       "max       1.0"
      ]
     },
     "execution_count": 72,
     "metadata": {},
     "output_type": "execute_result"
    }
   ],
   "source": [
    "fake_train_df[fake_train_df[\"label\"] == 1].describe()"
   ]
  },
  {
   "cell_type": "code",
   "execution_count": 73,
   "metadata": {},
   "outputs": [
    {
     "data": {
      "text/html": [
       "<div>\n",
       "<style scoped>\n",
       "    .dataframe tbody tr th:only-of-type {\n",
       "        vertical-align: middle;\n",
       "    }\n",
       "\n",
       "    .dataframe tbody tr th {\n",
       "        vertical-align: top;\n",
       "    }\n",
       "\n",
       "    .dataframe thead th {\n",
       "        text-align: right;\n",
       "    }\n",
       "</style>\n",
       "<table border=\"1\" class=\"dataframe\">\n",
       "  <thead>\n",
       "    <tr style=\"text-align: right;\">\n",
       "      <th></th>\n",
       "      <th>text</th>\n",
       "      <th>label</th>\n",
       "    </tr>\n",
       "  </thead>\n",
       "  <tbody>\n",
       "    <tr>\n",
       "      <th>0</th>\n",
       "      <td>Former Vice President Dick Cheney on Sunday de...</td>\n",
       "      <td>0</td>\n",
       "    </tr>\n",
       "    <tr>\n",
       "      <th>1</th>\n",
       "      <td>Former Vice President Dick Cheney on Sunday de...</td>\n",
       "      <td>1</td>\n",
       "    </tr>\n",
       "    <tr>\n",
       "      <th>2</th>\n",
       "      <td>Space shuttle Discovery launched just before m...</td>\n",
       "      <td>0</td>\n",
       "    </tr>\n",
       "    <tr>\n",
       "      <th>3</th>\n",
       "      <td>Space shuttle Discovery launched just before m...</td>\n",
       "      <td>1</td>\n",
       "    </tr>\n",
       "    <tr>\n",
       "      <th>4</th>\n",
       "      <td>When Eileen Mather lands in Mexico City on her...</td>\n",
       "      <td>0</td>\n",
       "    </tr>\n",
       "    <tr>\n",
       "      <th>5</th>\n",
       "      <td>Zimbabwean lawmakers on Monday narrowly voted ...</td>\n",
       "      <td>0</td>\n",
       "    </tr>\n",
       "    <tr>\n",
       "      <th>6</th>\n",
       "      <td>Zimbabwean lawmakers on Monday narrowly voted ...</td>\n",
       "      <td>1</td>\n",
       "    </tr>\n",
       "    <tr>\n",
       "      <th>7</th>\n",
       "      <td>Former detainees of Immigration and Customs En...</td>\n",
       "      <td>0</td>\n",
       "    </tr>\n",
       "    <tr>\n",
       "      <th>8</th>\n",
       "      <td>Former detainees of Immigration and Customs En...</td>\n",
       "      <td>1</td>\n",
       "    </tr>\n",
       "    <tr>\n",
       "      <th>9</th>\n",
       "      <td>A memorial cruise is scheduled to set sail 100...</td>\n",
       "      <td>0</td>\n",
       "    </tr>\n",
       "    <tr>\n",
       "      <th>10</th>\n",
       "      <td>The number of confirmed swine flu cases across...</td>\n",
       "      <td>0</td>\n",
       "    </tr>\n",
       "    <tr>\n",
       "      <th>11</th>\n",
       "      <td>The number of confirmed swine flu cases across...</td>\n",
       "      <td>1</td>\n",
       "    </tr>\n",
       "    <tr>\n",
       "      <th>12</th>\n",
       "      <td>A rebel group in the Democratic Republic of Co...</td>\n",
       "      <td>0</td>\n",
       "    </tr>\n",
       "    <tr>\n",
       "      <th>13</th>\n",
       "      <td>A rebel group in the Democratic Republic of Co...</td>\n",
       "      <td>1</td>\n",
       "    </tr>\n",
       "    <tr>\n",
       "      <th>14</th>\n",
       "      <td>Ryan Alexander Jenkins, a reality TV contestan...</td>\n",
       "      <td>0</td>\n",
       "    </tr>\n",
       "    <tr>\n",
       "      <th>15</th>\n",
       "      <td>Ryan Alexander Jenkins, a reality TV contestan...</td>\n",
       "      <td>1</td>\n",
       "    </tr>\n",
       "    <tr>\n",
       "      <th>16</th>\n",
       "      <td>An ex-convict, a mobster, a serial killer -- a...</td>\n",
       "      <td>0</td>\n",
       "    </tr>\n",
       "    <tr>\n",
       "      <th>17</th>\n",
       "      <td>An ex-convict, a mobster, a serial killer -- a...</td>\n",
       "      <td>1</td>\n",
       "    </tr>\n",
       "    <tr>\n",
       "      <th>18</th>\n",
       "      <td>London commuters crammed onto buses, scrambled...</td>\n",
       "      <td>0</td>\n",
       "    </tr>\n",
       "    <tr>\n",
       "      <th>19</th>\n",
       "      <td>London commuters crammed onto buses, scrambled...</td>\n",
       "      <td>1</td>\n",
       "    </tr>\n",
       "  </tbody>\n",
       "</table>\n",
       "</div>"
      ],
      "text/plain": [
       "                                                 text  label\n",
       "0   Former Vice President Dick Cheney on Sunday de...      0\n",
       "1   Former Vice President Dick Cheney on Sunday de...      1\n",
       "2   Space shuttle Discovery launched just before m...      0\n",
       "3   Space shuttle Discovery launched just before m...      1\n",
       "4   When Eileen Mather lands in Mexico City on her...      0\n",
       "5   Zimbabwean lawmakers on Monday narrowly voted ...      0\n",
       "6   Zimbabwean lawmakers on Monday narrowly voted ...      1\n",
       "7   Former detainees of Immigration and Customs En...      0\n",
       "8   Former detainees of Immigration and Customs En...      1\n",
       "9   A memorial cruise is scheduled to set sail 100...      0\n",
       "10  The number of confirmed swine flu cases across...      0\n",
       "11  The number of confirmed swine flu cases across...      1\n",
       "12  A rebel group in the Democratic Republic of Co...      0\n",
       "13  A rebel group in the Democratic Republic of Co...      1\n",
       "14  Ryan Alexander Jenkins, a reality TV contestan...      0\n",
       "15  Ryan Alexander Jenkins, a reality TV contestan...      1\n",
       "16  An ex-convict, a mobster, a serial killer -- a...      0\n",
       "17  An ex-convict, a mobster, a serial killer -- a...      1\n",
       "18  London commuters crammed onto buses, scrambled...      0\n",
       "19  London commuters crammed onto buses, scrambled...      1"
      ]
     },
     "execution_count": 73,
     "metadata": {},
     "output_type": "execute_result"
    }
   ],
   "source": [
    "fake_train_df.head(20)"
   ]
  },
  {
   "cell_type": "code",
   "execution_count": 74,
   "metadata": {},
   "outputs": [
    {
     "name": "stdout",
     "output_type": "stream",
     "text": [
      "Average size of text with label 0 (=True text): 500.0\n",
      "Average size of text with label 1 (=Fake text): 500.0\n"
     ]
    }
   ],
   "source": [
    "# filter out texts with length greater than 1000\n",
    "fake_train_df_filtered = fake_train_df[fake_train_df[\"text\"].apply(len) < 1000]\n",
    "print(\"Average size of text with label 0 (=True text):\", np.mean(fake_train_df_filtered[fake_train_df_filtered['label'] == 0]['text'].apply(len)))\n",
    "print(\"Average size of text with label 1 (=Fake text):\", np.mean(fake_train_df_filtered[fake_train_df_filtered['label'] == 1]['text'].apply(len)))\n"
   ]
  },
  {
   "cell_type": "code",
   "execution_count": 75,
   "metadata": {},
   "outputs": [
    {
     "data": {
      "text/plain": [
       "0.0"
      ]
     },
     "execution_count": 75,
     "metadata": {},
     "output_type": "execute_result"
    }
   ],
   "source": [
    "# compute wasserstein distance between true and fake text lengths\n",
    "true_text_lengths = fake_train_df[fake_train_df['label'] == 0]['text'].apply(len)\n",
    "fake_text_lengths = fake_train_df[fake_train_df['label'] == 1]['text'].apply(len)\n",
    "\n",
    "wasserstein_distance(true_text_lengths, fake_text_lengths)\n"
   ]
  },
  {
   "cell_type": "code",
   "execution_count": 76,
   "metadata": {},
   "outputs": [
    {
     "data": {
      "text/plain": [
       "'This a test text. It is not very long. It'"
      ]
     },
     "execution_count": 76,
     "metadata": {},
     "output_type": "execute_result"
    }
   ],
   "source": [
    "test_text = \"This a test text. It is not very long. It is just a test.\"\n",
    "\n",
    "\" \".join(test_text.split()[:10])"
   ]
  },
  {
   "cell_type": "markdown",
   "metadata": {},
   "source": [
    "# Test set"
   ]
  },
  {
   "cell_type": "code",
   "execution_count": 77,
   "metadata": {},
   "outputs": [
    {
     "data": {
      "text/plain": [
       "{'text': ['Space shuttle Discovery launched just before midnight Friday on a mission to the international space station. Space shuttle Discovery lifts off late Friday from Kennedy Space Center in a photo from iReporter Alan Walters. The crew of seven astronauts includes one from Mexico and another from Sweden. One of those seven, Nicole Stott, will remain on the station as a flight engineer, while astronaut Timothy Kopra is to return home aboard the shuttle. Also on board: The Leonardo logistics module, sc',\n",
       "  'Space shuttle Discovery launched just before midnight Friday on a missing Malaysian jet has been widened, with the focus now on the southern Indian Ocean. The Australian Maritime Safety Authority said on Tuesday it had been notified of a “number of possible satellite sightings” of floating objects by a French satellite. “These objects are within the area being searched by the Australian Maritime Safety Authority, but they are not consistent with the two objects previously reported,” it said. “As',\n",
       "  \"When Eileen Mather lands in Mexico City on her way to Tapachula, Mexico, she learns her airline ticket isn't valid. Her airline forces her to buy a new one. Mather asks her online agency, Cheapoair.com, for a refund, but more than six months later, she's still out $879. Is she also out of options? Q: I need your help getting my money back for a plane ticket I had to pay for twice. Here's my story: I bought tickets online through Cheapoair.com from Philadelphia to Tapachula, Mexico. When we arriv\",\n",
       "  'Zimbabwean lawmakers on Monday narrowly voted for Lovemore Moyo as speaker of the parliament -- making him the first opposition lawmaker to hold the position in the country\\'s history. Morgan Tsvangirai\\'s MDC faction has a slim majority following parliamentary elections. \"This is historic as it ceases to be a rubber-stamping house,\" Moyo said after winning the position. \"It will ensure that progressive laws are passed. I promise to be professional.\" Moyo -- the national chairman of the main Movem'],\n",
       " 'label': [0, 1, 0, 0]}"
      ]
     },
     "execution_count": 77,
     "metadata": {},
     "output_type": "execute_result"
    }
   ],
   "source": [
    "fake_train_dataset[\"train\"][2:6]"
   ]
  },
  {
   "cell_type": "code",
   "execution_count": 78,
   "metadata": {},
   "outputs": [
    {
     "data": {
      "text/html": [
       "<div>\n",
       "<style scoped>\n",
       "    .dataframe tbody tr th:only-of-type {\n",
       "        vertical-align: middle;\n",
       "    }\n",
       "\n",
       "    .dataframe tbody tr th {\n",
       "        vertical-align: top;\n",
       "    }\n",
       "\n",
       "    .dataframe thead th {\n",
       "        text-align: right;\n",
       "    }\n",
       "</style>\n",
       "<table border=\"1\" class=\"dataframe\">\n",
       "  <thead>\n",
       "    <tr style=\"text-align: right;\">\n",
       "      <th></th>\n",
       "      <th>text</th>\n",
       "      <th>label</th>\n",
       "    </tr>\n",
       "  </thead>\n",
       "  <tbody>\n",
       "    <tr>\n",
       "      <th>0</th>\n",
       "      <td>[A former astronaut who was accused of assault...</td>\n",
       "      <td>0</td>\n",
       "    </tr>\n",
       "    <tr>\n",
       "      <th>1</th>\n",
       "      <td>[A former astronaut who was accused of assault...</td>\n",
       "      <td>1</td>\n",
       "    </tr>\n",
       "    <tr>\n",
       "      <th>2</th>\n",
       "      <td>[Misdemeanor assault charges have been dropped...</td>\n",
       "      <td>0</td>\n",
       "    </tr>\n",
       "    <tr>\n",
       "      <th>3</th>\n",
       "      <td>[Misdemeanor assault charges have been dropped...</td>\n",
       "      <td>1</td>\n",
       "    </tr>\n",
       "    <tr>\n",
       "      <th>4</th>\n",
       "      <td>[Six men, including a police officer, are faci...</td>\n",
       "      <td>0</td>\n",
       "    </tr>\n",
       "  </tbody>\n",
       "</table>\n",
       "</div>"
      ],
      "text/plain": [
       "                                                text  label\n",
       "0  [A former astronaut who was accused of assault...      0\n",
       "1  [A former astronaut who was accused of assault...      1\n",
       "2  [Misdemeanor assault charges have been dropped...      0\n",
       "3  [Misdemeanor assault charges have been dropped...      1\n",
       "4  [Six men, including a police officer, are faci...      0"
      ]
     },
     "execution_count": 78,
     "metadata": {},
     "output_type": "execute_result"
    }
   ],
   "source": [
    "fake_test_df = pd.read_json(\"fake_true_dataset_mistral_10k_test.json\")\n",
    "fake_test_df.head()"
   ]
  },
  {
   "cell_type": "code",
   "execution_count": 79,
   "metadata": {},
   "outputs": [
    {
     "data": {
      "text/html": [
       "<div>\n",
       "<style scoped>\n",
       "    .dataframe tbody tr th:only-of-type {\n",
       "        vertical-align: middle;\n",
       "    }\n",
       "\n",
       "    .dataframe tbody tr th {\n",
       "        vertical-align: top;\n",
       "    }\n",
       "\n",
       "    .dataframe thead th {\n",
       "        text-align: right;\n",
       "    }\n",
       "</style>\n",
       "<table border=\"1\" class=\"dataframe\">\n",
       "  <thead>\n",
       "    <tr style=\"text-align: right;\">\n",
       "      <th></th>\n",
       "      <th>text</th>\n",
       "      <th>label</th>\n",
       "    </tr>\n",
       "  </thead>\n",
       "  <tbody>\n",
       "    <tr>\n",
       "      <th>0</th>\n",
       "      <td>A former astronaut who was accused of assaulti...</td>\n",
       "      <td>0</td>\n",
       "    </tr>\n",
       "    <tr>\n",
       "      <th>1</th>\n",
       "      <td>A former astronaut who was accused of assaulti...</td>\n",
       "      <td>1</td>\n",
       "    </tr>\n",
       "    <tr>\n",
       "      <th>2</th>\n",
       "      <td>Misdemeanor assault charges have been dropped ...</td>\n",
       "      <td>0</td>\n",
       "    </tr>\n",
       "    <tr>\n",
       "      <th>3</th>\n",
       "      <td>Misdemeanor assault charges have been dropped ...</td>\n",
       "      <td>1</td>\n",
       "    </tr>\n",
       "    <tr>\n",
       "      <th>4</th>\n",
       "      <td>Six men, including a police officer, are facin...</td>\n",
       "      <td>0</td>\n",
       "    </tr>\n",
       "    <tr>\n",
       "      <th>5</th>\n",
       "      <td>Six men, including a police officer, are facin...</td>\n",
       "      <td>1</td>\n",
       "    </tr>\n",
       "    <tr>\n",
       "      <th>6</th>\n",
       "      <td>British boxer Amir Khan has retained his WBA l...</td>\n",
       "      <td>0</td>\n",
       "    </tr>\n",
       "    <tr>\n",
       "      <th>7</th>\n",
       "      <td>British boxer Amir Khan has retained his WBA l...</td>\n",
       "      <td>1</td>\n",
       "    </tr>\n",
       "    <tr>\n",
       "      <th>8</th>\n",
       "      <td>How are the elements of the charming, traditio...</td>\n",
       "      <td>0</td>\n",
       "    </tr>\n",
       "    <tr>\n",
       "      <th>9</th>\n",
       "      <td>How are the elements of the charming, traditio...</td>\n",
       "      <td>1</td>\n",
       "    </tr>\n",
       "  </tbody>\n",
       "</table>\n",
       "</div>"
      ],
      "text/plain": [
       "                                                text  label\n",
       "0  A former astronaut who was accused of assaulti...      0\n",
       "1  A former astronaut who was accused of assaulti...      1\n",
       "2  Misdemeanor assault charges have been dropped ...      0\n",
       "3  Misdemeanor assault charges have been dropped ...      1\n",
       "4  Six men, including a police officer, are facin...      0\n",
       "5  Six men, including a police officer, are facin...      1\n",
       "6  British boxer Amir Khan has retained his WBA l...      0\n",
       "7  British boxer Amir Khan has retained his WBA l...      1\n",
       "8  How are the elements of the charming, traditio...      0\n",
       "9  How are the elements of the charming, traditio...      1"
      ]
     },
     "execution_count": 79,
     "metadata": {},
     "output_type": "execute_result"
    }
   ],
   "source": [
    "fake_test_df = pd.DataFrame(fake_train_dataset['test'])\n",
    "fake_test_df.head(10)"
   ]
  },
  {
   "cell_type": "code",
   "execution_count": 80,
   "metadata": {},
   "outputs": [
    {
     "data": {
      "text/plain": [
       "'Misdemeanor assault charges have been dropped against \"24\" star Kiefer Sutherland in a head-butting incident at a New York City nightclub, according to Alicia Maxey Greene, spokeswoman for the Manhattan District Attorney\\'s office. Kiefer Sutherland turns himself in to the NYPD on May 7. Charges against him have been dropped. \"We decided to drop the charge after a full investigation, including after speaking to a complaining witness, who was uncooperative,\" Greene told CNN Tuesday. The charges st'"
      ]
     },
     "execution_count": 80,
     "metadata": {},
     "output_type": "execute_result"
    }
   ],
   "source": [
    "fake_test_df[\"text\"][2]"
   ]
  },
  {
   "cell_type": "code",
   "execution_count": 81,
   "metadata": {},
   "outputs": [
    {
     "data": {
      "text/plain": [
       "(1653,)"
      ]
     },
     "execution_count": 81,
     "metadata": {},
     "output_type": "execute_result"
    }
   ],
   "source": [
    "fake_test_df[\"text\"].unique().shape"
   ]
  },
  {
   "cell_type": "code",
   "execution_count": 82,
   "metadata": {},
   "outputs": [
    {
     "data": {
      "text/plain": [
       "(13232,)"
      ]
     },
     "execution_count": 82,
     "metadata": {},
     "output_type": "execute_result"
    }
   ],
   "source": [
    "#num_rows: 13377\n",
    "fake_train_df[\"text\"].unique().shape"
   ]
  },
  {
   "cell_type": "code",
   "execution_count": 86,
   "metadata": {},
   "outputs": [
    {
     "name": "stdout",
     "output_type": "stream",
     "text": [
      "Number of samples with label 0 in the training dataset: 6807\n",
      "Number of samples with label 1 in the training dataset: 6425\n",
      "Number of samples with label 0 in the test dataset: 857\n",
      "Number of samples with label 1 in the test dataset: 796\n",
      "Number of samples with label 0 in the validation dataset: 858\n",
      "Number of samples with label 1 in the validation dataset: 795\n"
     ]
    }
   ],
   "source": [
    "# number of samples with label 0 and label 1 in the training dataset and the test dataset\n",
    "print(\"Number of samples with label 0 in the training dataset:\", fake_train_df[fake_train_df[\"label\"] == 0].shape[0])\n",
    "print(\"Number of samples with label 1 in the training dataset:\", fake_train_df[fake_train_df[\"label\"] == 1].shape[0])\n",
    "\n",
    "print(\"Number of samples with label 0 in the test dataset:\", fake_test_df[fake_test_df[\"label\"] == 0].shape[0])\n",
    "print(\"Number of samples with label 1 in the test dataset:\", fake_test_df[fake_test_df[\"label\"] == 1].shape[0])\n",
    "\n",
    "print(\"Number of samples with label 0 in the validation dataset:\", fake_valid_df[fake_valid_df[\"label\"] == 0].shape[0])\n",
    "print(\"Number of samples with label 1 in the validation dataset:\", fake_valid_df[fake_valid_df[\"label\"] == 1].shape[0])"
   ]
  },
  {
   "cell_type": "code",
   "execution_count": null,
   "metadata": {},
   "outputs": [],
   "source": []
  },
  {
   "cell_type": "code",
   "execution_count": null,
   "metadata": {},
   "outputs": [],
   "source": []
  }
 ],
 "metadata": {
  "kernelspec": {
   "display_name": "llm_detector",
   "language": "python",
   "name": "python3"
  },
  "language_info": {
   "codemirror_mode": {
    "name": "ipython",
    "version": 3
   },
   "file_extension": ".py",
   "mimetype": "text/x-python",
   "name": "python",
   "nbconvert_exporter": "python",
   "pygments_lexer": "ipython3",
   "version": "3.12.2"
  }
 },
 "nbformat": 4,
 "nbformat_minor": 2
}
