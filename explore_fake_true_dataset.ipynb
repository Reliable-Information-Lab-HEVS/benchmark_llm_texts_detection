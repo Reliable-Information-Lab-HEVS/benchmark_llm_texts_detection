{
 "cells": [
  {
   "cell_type": "code",
   "execution_count": 240,
   "metadata": {},
   "outputs": [],
   "source": [
    "from datasets import load_dataset, load_from_disk, Dataset, DatasetDict, concatenate_datasets\n",
    "import numpy as np\n",
    "import pandas as pd\n",
    "\n",
    "import json"
   ]
  },
  {
   "cell_type": "code",
   "execution_count": 241,
   "metadata": {},
   "outputs": [],
   "source": [
    "# label: true = 0, fake = 1"
   ]
  },
  {
   "cell_type": "code",
   "execution_count": 242,
   "metadata": {},
   "outputs": [],
   "source": [
    "fake_train_dataset = load_from_disk(\"fake_true_dataset\")"
   ]
  },
  {
   "cell_type": "code",
   "execution_count": 243,
   "metadata": {},
   "outputs": [],
   "source": [
    "# save to json\n",
    "#fake_train_dataset[\"train\"].to_json(\"fake_true_dataset.json\", force_ascii=True)\n",
    "\n",
    "# load to pandas\n",
    "df = pd.DataFrame(fake_train_dataset['train'])\n",
    "\n",
    "# transform text to list by splitting on \\n\n",
    "df[\"text\"] = df[\"text\"].apply(lambda x: x.split(\"\\n\"))\n",
    "\n",
    "# dump to json\n",
    "df.to_json(\"fake_true_dataset.json\", force_ascii=False, indent=4)\n",
    "\n"
   ]
  },
  {
   "cell_type": "code",
   "execution_count": 244,
   "metadata": {},
   "outputs": [
    {
     "data": {
      "text/plain": [
       "DatasetDict({\n",
       "    train: Dataset({\n",
       "        features: ['text', 'label'],\n",
       "        num_rows: 1600\n",
       "    })\n",
       "    test: Dataset({\n",
       "        features: ['text', 'label'],\n",
       "        num_rows: 200\n",
       "    })\n",
       "    valid: Dataset({\n",
       "        features: ['text', 'label'],\n",
       "        num_rows: 200\n",
       "    })\n",
       "})"
      ]
     },
     "execution_count": 244,
     "metadata": {},
     "output_type": "execute_result"
    }
   ],
   "source": [
    "fake_train_dataset"
   ]
  },
  {
   "cell_type": "code",
   "execution_count": 245,
   "metadata": {},
   "outputs": [
    {
     "data": {
      "text/plain": [
       "{'text': 'Instruction:  \\n How did the Royal Navy Protect the British Task Force from Argentine air attacks during the Falklands War? \\n Answer: The Royal Navy\\'s strategy for protecting the British Task Force from Argentine air attacks during the Falklands War included a variety of tactics, including the use of aircraft and ground support, air-raid operations, and the development of the \"TNT\" device. Here is a brief overview of some of these tactics used by the Royal Navy:    1. Air-raid operations: Air-raid operations were used to take out the Argentine forces from the air and force them back to their own bases.',\n",
       " 'label': 1}"
      ]
     },
     "execution_count": 245,
     "metadata": {},
     "output_type": "execute_result"
    }
   ],
   "source": [
    "fake_train_dataset['train'][0]"
   ]
  },
  {
   "cell_type": "code",
   "execution_count": 246,
   "metadata": {},
   "outputs": [
    {
     "name": "stdout",
     "output_type": "stream",
     "text": [
      "Instruction:  \n",
      " How did the Royal Navy Protect the British Task Force from Argentine air attacks during the Falklands War? \n",
      " Answer: The Royal Navy's strategy for protecting the British Task Force from Argentine air attacks during the Falklands War included a variety of tactics, including the use of aircraft and ground support, air-raid operations, and the development of the \"TNT\" device. Here is a brief overview of some of these tactics used by the Royal Navy:    1. Air-raid operations: Air-raid operations were used to take out the Argentine forces from the air and force them back to their own bases.\n"
     ]
    }
   ],
   "source": [
    "print(fake_train_dataset['train'][0]['text'])"
   ]
  },
  {
   "cell_type": "code",
   "execution_count": 247,
   "metadata": {},
   "outputs": [
    {
     "data": {
      "text/plain": [
       "{'text': 'Instruction: Larry Joe Bird (born December 7, 1956) is an American former professional basketball player, coach, and executive in the National Basketball Association (NBA). Nicknamed \"the Hick from French Lick\" and \"Larry Legend\", Bird is widely regarded as one of the greatest basketball players of all time. He is the only person in NBA history to be named Rookie of the Year, Most Valuable Player, Finals MVP, All-Star MVP, Coach of the Year, and Executive of the Year. Growing up in French Lick, Indiana, he was a local basketball star. Highly recruited, he initially signed to play college basketball for coach Bob Knight of the Indiana Hoosiers, but Bird dropped out after one month and returned to French Lick to attend a local community college. The next year he attended the smaller Indiana State University, ultimately playing three years for the Sycamores. Drafted by the Boston Celtics with the sixth overall pick in the 1978 NBA draft after his second year at Indiana State, Bird elected to stay in college and returned for the 1978–1979 season. He then led his team to an undefeated regular season. The season finished with a national championship game match-up of Indiana State against Michigan State and featured a highly anticipated match-up of Bird against Michigan State great Magic Johnson, thus beginning a career-long rivalry that the two shared for over a decade.\\nhttps://en.wikipedia.org/wiki/Larry_Bird \\n Given the reference text below about Larry Bird, tell me where he was born, what he did for a living, and who his greatest professional rival was. \\n Answer: Larry Bird was born in French Lick. He played and coached basketball for a living, and his main rival was Magic Johnson.',\n",
       " 'label': 0}"
      ]
     },
     "execution_count": 247,
     "metadata": {},
     "output_type": "execute_result"
    }
   ],
   "source": [
    "fake_train_dataset['train'][2]"
   ]
  },
  {
   "cell_type": "code",
   "execution_count": 248,
   "metadata": {},
   "outputs": [
    {
     "name": "stdout",
     "output_type": "stream",
     "text": [
      "Instruction: Larry Joe Bird (born December 7, 1956) is an American former professional basketball player, coach, and executive in the National Basketball Association (NBA). Nicknamed \"the Hick from French Lick\" and \"Larry Legend\", Bird is widely regarded as one of the greatest basketball players of all time. He is the only person in NBA history to be named Rookie of the Year, Most Valuable Player, Finals MVP, All-Star MVP, Coach of the Year, and Executive of the Year. Growing up in French Lick, Indiana, he was a local basketball star. Highly recruited, he initially signed to play college basketball for coach Bob Knight of the Indiana Hoosiers, but Bird dropped out after one month and returned to French Lick to attend a local community college. The next year he attended the smaller Indiana State University, ultimately playing three years for the Sycamores. Drafted by the Boston Celtics with the sixth overall pick in the 1978 NBA draft after his second year at Indiana State, Bird elected to stay in college and returned for the 1978–1979 season. He then led his team to an undefeated regular season. The season finished with a national championship game match-up of Indiana State against Michigan State and featured a highly anticipated match-up of Bird against Michigan State great Magic Johnson, thus beginning a career-long rivalry that the two shared for over a decade.\n",
      "https://en.wikipedia.org/wiki/Larry_Bird \n",
      " Given the reference text below about Larry Bird, tell me where he was born, what he did for a living, and who his greatest professional rival was. \n",
      " Answer: Larry Bird was born in French Lick. He played and coached basketball for a living, and his main rival was Magic Johnson.\n"
     ]
    }
   ],
   "source": [
    "print(fake_train_dataset['train'][2][\"text\"])"
   ]
  },
  {
   "cell_type": "code",
   "execution_count": null,
   "metadata": {},
   "outputs": [],
   "source": []
  },
  {
   "cell_type": "code",
   "execution_count": 249,
   "metadata": {},
   "outputs": [
    {
     "data": {
      "text/html": [
       "<div>\n",
       "<style scoped>\n",
       "    .dataframe tbody tr th:only-of-type {\n",
       "        vertical-align: middle;\n",
       "    }\n",
       "\n",
       "    .dataframe tbody tr th {\n",
       "        vertical-align: top;\n",
       "    }\n",
       "\n",
       "    .dataframe thead th {\n",
       "        text-align: right;\n",
       "    }\n",
       "</style>\n",
       "<table border=\"1\" class=\"dataframe\">\n",
       "  <thead>\n",
       "    <tr style=\"text-align: right;\">\n",
       "      <th></th>\n",
       "      <th>text</th>\n",
       "      <th>label</th>\n",
       "    </tr>\n",
       "  </thead>\n",
       "  <tbody>\n",
       "    <tr>\n",
       "      <th>0</th>\n",
       "      <td>Instruction:  \\n How did the Royal Navy Protec...</td>\n",
       "      <td>1</td>\n",
       "    </tr>\n",
       "    <tr>\n",
       "      <th>1</th>\n",
       "      <td>Instruction:  \\n Could you please describe the...</td>\n",
       "      <td>1</td>\n",
       "    </tr>\n",
       "    <tr>\n",
       "      <th>2</th>\n",
       "      <td>Instruction: Larry Joe Bird (born December 7, ...</td>\n",
       "      <td>0</td>\n",
       "    </tr>\n",
       "    <tr>\n",
       "      <th>3</th>\n",
       "      <td>Instruction:  \\n What is freedom? \\n Answer: F...</td>\n",
       "      <td>0</td>\n",
       "    </tr>\n",
       "    <tr>\n",
       "      <th>4</th>\n",
       "      <td>Instruction:  \\n Write a creative writing prom...</td>\n",
       "      <td>0</td>\n",
       "    </tr>\n",
       "  </tbody>\n",
       "</table>\n",
       "</div>"
      ],
      "text/plain": [
       "                                                text  label\n",
       "0  Instruction:  \\n How did the Royal Navy Protec...      1\n",
       "1  Instruction:  \\n Could you please describe the...      1\n",
       "2  Instruction: Larry Joe Bird (born December 7, ...      0\n",
       "3  Instruction:  \\n What is freedom? \\n Answer: F...      0\n",
       "4  Instruction:  \\n Write a creative writing prom...      0"
      ]
     },
     "execution_count": 249,
     "metadata": {},
     "output_type": "execute_result"
    }
   ],
   "source": [
    "# transform dataset to pandas dataframe\n",
    "fake_train_df = pd.DataFrame(fake_train_dataset['train'])\n",
    "fake_train_df.head()"
   ]
  },
  {
   "cell_type": "code",
   "execution_count": 250,
   "metadata": {},
   "outputs": [
    {
     "name": "stdout",
     "output_type": "stream",
     "text": [
      "Average size of text with label 0 (=True text): 859.613184079602\n",
      "Average size of text with label 1 (=Fake text): 345.33040201005025\n"
     ]
    }
   ],
   "source": [
    "print(\"Average size of text with label 0 (=True text):\", np.mean(fake_train_df[fake_train_df['label'] == 0]['text'].apply(len)))\n",
    "print(\"Average size of text with label 1 (=Fake text):\", np.mean(fake_train_df[fake_train_df['label'] == 1]['text'].apply(len)))"
   ]
  },
  {
   "cell_type": "markdown",
   "metadata": {},
   "source": []
  },
  {
   "cell_type": "code",
   "execution_count": 239,
   "metadata": {},
   "outputs": [
    {
     "name": "stdout",
     "output_type": "stream",
     "text": [
      "Average number of newlines in text with label 0 (=True text): 2.111111111111111\n",
      "Average number of newlines in text with label 1 (=Fake text): 2.0714285714285716\n"
     ]
    }
   ],
   "source": [
    "print(\"Average number of newlines in text with label 0 (=True text):\", np.mean(fake_train_df[fake_train_df['label'] == 0]['text'].apply(lambda x: x.count(\"\\n\"))))\n",
    "print(\"Average number of newlines in text with label 1 (=Fake text):\", np.mean(fake_train_df[fake_train_df['label'] == 1]['text'].apply(lambda x: x.count(\"\\n\"))))"
   ]
  },
  {
   "cell_type": "code",
   "execution_count": null,
   "metadata": {},
   "outputs": [],
   "source": []
  },
  {
   "cell_type": "code",
   "execution_count": null,
   "metadata": {},
   "outputs": [],
   "source": []
  }
 ],
 "metadata": {
  "kernelspec": {
   "display_name": "llm_detector",
   "language": "python",
   "name": "python3"
  },
  "language_info": {
   "codemirror_mode": {
    "name": "ipython",
    "version": 3
   },
   "file_extension": ".py",
   "mimetype": "text/x-python",
   "name": "python",
   "nbconvert_exporter": "python",
   "pygments_lexer": "ipython3",
   "version": "3.12.2"
  }
 },
 "nbformat": 4,
 "nbformat_minor": 2
}
