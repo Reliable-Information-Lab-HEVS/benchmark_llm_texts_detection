{
 "cells": [
  {
   "cell_type": "code",
   "execution_count": 182,
   "metadata": {},
   "outputs": [],
   "source": [
    "from datasets import load_dataset, load_from_disk, Dataset, DatasetDict, concatenate_datasets\n",
    "import numpy as np\n",
    "import pandas as pd\n",
    "\n",
    "import json"
   ]
  },
  {
   "cell_type": "code",
   "execution_count": 183,
   "metadata": {},
   "outputs": [],
   "source": [
    "# label: true = 0, fake = 1"
   ]
  },
  {
   "cell_type": "code",
   "execution_count": 184,
   "metadata": {},
   "outputs": [],
   "source": [
    "fake_train_dataset = load_from_disk(\"fake_true_dataset\")"
   ]
  },
  {
   "cell_type": "code",
   "execution_count": 185,
   "metadata": {},
   "outputs": [],
   "source": [
    "# save to json\n",
    "#fake_train_dataset[\"train\"].to_json(\"fake_true_dataset.json\", force_ascii=True)\n",
    "\n",
    "# load to pandas\n",
    "df = pd.DataFrame(fake_train_dataset['train'])\n",
    "\n",
    "# transform text to list by splitting on \\n\n",
    "df[\"text\"] = df[\"text\"].apply(lambda x: x.split(\"\\n\"))\n",
    "\n",
    "# dump to json\n",
    "df.to_json(\"fake_true_dataset.json\", force_ascii=False, indent=4)\n",
    "\n"
   ]
  },
  {
   "cell_type": "code",
   "execution_count": 186,
   "metadata": {},
   "outputs": [
    {
     "data": {
      "text/plain": [
       "DatasetDict({\n",
       "    train: Dataset({\n",
       "        features: ['text', 'label'],\n",
       "        num_rows: 8\n",
       "    })\n",
       "    test: Dataset({\n",
       "        features: ['text', 'label'],\n",
       "        num_rows: 1\n",
       "    })\n",
       "    valid: Dataset({\n",
       "        features: ['text', 'label'],\n",
       "        num_rows: 1\n",
       "    })\n",
       "})"
      ]
     },
     "execution_count": 186,
     "metadata": {},
     "output_type": "execute_result"
    }
   ],
   "source": [
    "fake_train_dataset"
   ]
  },
  {
   "cell_type": "code",
   "execution_count": 187,
   "metadata": {},
   "outputs": [
    {
     "data": {
      "text/plain": [
       "{'text': \"Instruction:  \\n What causes an airplane wing to fly? \\n Answer: As Bernoulli's principal explains, because of the shape, air moving across the curved upper surface on top of the wing will travel faster and thus produce less pressure than the air moving more slowly along the flatter bottom of the wing's surface. This imbalance of high and low pressures results in a force called lift which is applied in the direction of the lower pressure.\",\n",
       " 'label': 0}"
      ]
     },
     "execution_count": 187,
     "metadata": {},
     "output_type": "execute_result"
    }
   ],
   "source": [
    "fake_train_dataset['train'][0]"
   ]
  },
  {
   "cell_type": "code",
   "execution_count": 188,
   "metadata": {},
   "outputs": [
    {
     "name": "stdout",
     "output_type": "stream",
     "text": [
      "Instruction:  \n",
      " What causes an airplane wing to fly? \n",
      " Answer: As Bernoulli's principal explains, because of the shape, air moving across the curved upper surface on top of the wing will travel faster and thus produce less pressure than the air moving more slowly along the flatter bottom of the wing's surface. This imbalance of high and low pressures results in a force called lift which is applied in the direction of the lower pressure.\n"
     ]
    }
   ],
   "source": [
    "print(fake_train_dataset['train'][0]['text'])"
   ]
  },
  {
   "cell_type": "code",
   "execution_count": 189,
   "metadata": {},
   "outputs": [
    {
     "data": {
      "text/plain": [
       "{'text': 'Instruction:  \\n Classify each of these car manufacturers as either French, German, American, Japanese, or other: Lexus, Hyundai, Alfa Romeo, VW, Honda, GM, Citroen \\n Answer: 1',\n",
       " 'label': 1}"
      ]
     },
     "execution_count": 189,
     "metadata": {},
     "output_type": "execute_result"
    }
   ],
   "source": [
    "fake_train_dataset['train'][2]"
   ]
  },
  {
   "cell_type": "code",
   "execution_count": 190,
   "metadata": {},
   "outputs": [
    {
     "name": "stdout",
     "output_type": "stream",
     "text": [
      "Instruction:  \n",
      " Classify each of these car manufacturers as either French, German, American, Japanese, or other: Lexus, Hyundai, Alfa Romeo, VW, Honda, GM, Citroen \n",
      " Answer: 1\n"
     ]
    }
   ],
   "source": [
    "print(fake_train_dataset['train'][2][\"text\"])"
   ]
  },
  {
   "cell_type": "code",
   "execution_count": null,
   "metadata": {},
   "outputs": [],
   "source": []
  },
  {
   "cell_type": "code",
   "execution_count": 191,
   "metadata": {},
   "outputs": [
    {
     "data": {
      "text/html": [
       "<div>\n",
       "<style scoped>\n",
       "    .dataframe tbody tr th:only-of-type {\n",
       "        vertical-align: middle;\n",
       "    }\n",
       "\n",
       "    .dataframe tbody tr th {\n",
       "        vertical-align: top;\n",
       "    }\n",
       "\n",
       "    .dataframe thead th {\n",
       "        text-align: right;\n",
       "    }\n",
       "</style>\n",
       "<table border=\"1\" class=\"dataframe\">\n",
       "  <thead>\n",
       "    <tr style=\"text-align: right;\">\n",
       "      <th></th>\n",
       "      <th>text</th>\n",
       "      <th>label</th>\n",
       "    </tr>\n",
       "  </thead>\n",
       "  <tbody>\n",
       "    <tr>\n",
       "      <th>0</th>\n",
       "      <td>Instruction:  \\n What causes an airplane wing ...</td>\n",
       "      <td>0</td>\n",
       "    </tr>\n",
       "    <tr>\n",
       "      <th>1</th>\n",
       "      <td>Instruction:  \\n Why do I have a belly button?...</td>\n",
       "      <td>1</td>\n",
       "    </tr>\n",
       "    <tr>\n",
       "      <th>2</th>\n",
       "      <td>Instruction:  \\n Classify each of these car ma...</td>\n",
       "      <td>1</td>\n",
       "    </tr>\n",
       "    <tr>\n",
       "      <th>3</th>\n",
       "      <td>Instruction:  \\n Who was the first person to d...</td>\n",
       "      <td>0</td>\n",
       "    </tr>\n",
       "    <tr>\n",
       "      <th>4</th>\n",
       "      <td>Instruction:  \\n Give me a list of basic ingre...</td>\n",
       "      <td>0</td>\n",
       "    </tr>\n",
       "  </tbody>\n",
       "</table>\n",
       "</div>"
      ],
      "text/plain": [
       "                                                text  label\n",
       "0  Instruction:  \\n What causes an airplane wing ...      0\n",
       "1  Instruction:  \\n Why do I have a belly button?...      1\n",
       "2  Instruction:  \\n Classify each of these car ma...      1\n",
       "3  Instruction:  \\n Who was the first person to d...      0\n",
       "4  Instruction:  \\n Give me a list of basic ingre...      0"
      ]
     },
     "execution_count": 191,
     "metadata": {},
     "output_type": "execute_result"
    }
   ],
   "source": [
    "# transform dataset to pandas dataframe\n",
    "fake_train_df = pd.DataFrame(fake_train_dataset['train'])\n",
    "fake_train_df.head()"
   ]
  },
  {
   "cell_type": "code",
   "execution_count": 192,
   "metadata": {},
   "outputs": [
    {
     "name": "stdout",
     "output_type": "stream",
     "text": [
      "Average size of text with label 0 (=True text): 346.75\n",
      "Average size of text with label 1 (=Fake text): 127.75\n"
     ]
    }
   ],
   "source": [
    "print(\"Average size of text with label 0 (=True text):\", np.mean(fake_train_df[fake_train_df['label'] == 0]['text'].apply(len)))\n",
    "print(\"Average size of text with label 1 (=Fake text):\", np.mean(fake_train_df[fake_train_df['label'] == 1]['text'].apply(len)))"
   ]
  },
  {
   "cell_type": "markdown",
   "metadata": {},
   "source": []
  },
  {
   "cell_type": "code",
   "execution_count": 193,
   "metadata": {},
   "outputs": [
    {
     "name": "stdout",
     "output_type": "stream",
     "text": [
      "Average number of newlines in text with label 0 (=True text): 2.0\n",
      "Average number of newlines in text with label 1 (=Fake text): 2.0\n"
     ]
    }
   ],
   "source": [
    "print(\"Average number of newlines in text with label 0 (=True text):\", np.mean(fake_train_df[fake_train_df['label'] == 0]['text'].apply(lambda x: x.count(\"\\n\"))))\n",
    "print(\"Average number of newlines in text with label 1 (=Fake text):\", np.mean(fake_train_df[fake_train_df['label'] == 1]['text'].apply(lambda x: x.count(\"\\n\"))))"
   ]
  }
 ],
 "metadata": {
  "kernelspec": {
   "display_name": "llm_detector",
   "language": "python",
   "name": "python3"
  },
  "language_info": {
   "codemirror_mode": {
    "name": "ipython",
    "version": 3
   },
   "file_extension": ".py",
   "mimetype": "text/x-python",
   "name": "python",
   "nbconvert_exporter": "python",
   "pygments_lexer": "ipython3",
   "version": "3.12.2"
  }
 },
 "nbformat": 4,
 "nbformat_minor": 2
}
