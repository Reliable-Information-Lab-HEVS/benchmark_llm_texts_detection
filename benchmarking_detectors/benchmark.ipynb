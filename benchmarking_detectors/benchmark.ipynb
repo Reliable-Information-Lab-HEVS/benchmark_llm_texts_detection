{
 "cells": [
  {
   "cell_type": "code",
   "execution_count": 1,
   "metadata": {},
   "outputs": [
    {
     "name": "stderr",
     "output_type": "stream",
     "text": [
      "[nltk_data] Error loading punkt: <urlopen error [Errno -3] Temporary\n",
      "[nltk_data]     failure in name resolution>\n",
      "[nltk_data] Error loading punkt: <urlopen error [Errno -3] Temporary\n",
      "[nltk_data]     failure in name resolution>\n",
      "[nltk_data] Error loading punkt: <urlopen error [Errno -3] Temporary\n",
      "[nltk_data]     failure in name resolution>\n"
     ]
    }
   ],
   "source": [
    "from abc import ABC, abstractmethod\n",
    "from dataclasses import dataclass\n",
    "\n",
    "from datasets import concatenate_datasets, load_from_disk, DatasetDict\n",
    "import argparse\n",
    "import os\n",
    "import pandas as pd\n",
    "import copy\n",
    "from tqdm import tqdm\n",
    "\n",
    "import torch\n",
    "from torch import nn\n",
    "import nltk.data\n",
    "nltk.download('punkt')\n",
    "from transformers import (AutoTokenizer, AutoModelForSeq2SeqLM, AutoModelForMaskedLM, AutoModelForCausalLM,\n",
    "                          ElectraForSequenceClassification, ElectraTokenizer, AutoConfig)\n",
    "from datasets import load_from_disk, concatenate_datasets, Dataset\n",
    "\n",
    "from abc import ABC, abstractmethod\n",
    "\n",
    "from evasion_attack import PromptParaphrasingAttack, PromptAttack, GenParamsAttack\n",
    "from utils import ModelConfig, PromptConfig\n",
    "from generator import LLMGenerator\n",
    "from detector import Detector, BertDetector\n",
    "from fast_detect_gpt import FastDetectGPT"
   ]
  },
  {
   "cell_type": "markdown",
   "metadata": {},
   "source": [
    "# Attacks"
   ]
  },
  {
   "cell_type": "code",
   "execution_count": 2,
   "metadata": {},
   "outputs": [],
   "source": [
    "# set generation parameters\n",
    "default_gen_params = {\n",
    "    #\"max_length\": 100,\n",
    "    \"max_new_tokens\": 100,\n",
    "    \"min_new_tokens\": 100,\n",
    "    \"temperature\": 0.8,\n",
    "    \"top_p\": 0.95,\n",
    "    \"repetition_penalty\": 1,\n",
    "    \"do_sample\": True,\n",
    "    \"top_k\": 50\n",
    "}\n",
    "\n",
    "device = \"cuda\" if torch.cuda.is_available() else \"cpu\""
   ]
  },
  {
   "cell_type": "code",
   "execution_count": 3,
   "metadata": {},
   "outputs": [
    {
     "name": "stderr",
     "output_type": "stream",
     "text": [
      "/home/marluxiaboss/anaconda3/envs/llm_detector/lib/python3.12/site-packages/huggingface_hub/file_download.py:1132: FutureWarning: `resume_download` is deprecated and will be removed in version 1.0.0. Downloads always resume when possible. If you want to force a new download, use `force_download=True`.\n",
      "  warnings.warn(\n",
      "Special tokens have been added in the vocabulary, make sure the associated word embeddings are fine-tuned or trained.\n",
      "/home/marluxiaboss/anaconda3/envs/llm_detector/lib/python3.12/site-packages/huggingface_hub/file_download.py:1132: FutureWarning: `resume_download` is deprecated and will be removed in version 1.0.0. Downloads always resume when possible. If you want to force a new download, use `force_download=True`.\n",
      "  warnings.warn(\n"
     ]
    },
    {
     "data": {
      "text/plain": [
       "[' Many people argue that cats are simply more independent and independent in their behavior compared to dogs because they are more agile and agile than dogs. Cats can easily run and jump over obstacles while dogs are typically slower and more likely to get into trouble. Additionally, cats are often more social than dogs. This is why they are often the better option for humans. However, it is important to note that this argument is not based on any scientific evidence or studies. Additionally, it is important to note that it is',\n",
       " \" Dogs and cats are both great pets but dogs are generally considered to be more reliable and loyal. They have better physical abilities, such as running longer distances and being more alert and focused than cats. Additionally, dogs are known to be more intelligent than cats and have been shown to be more docile and trainable. However, there are some differences in their personalities and behaviors, and it's important to take into account the specific needs and preferences of the person or family member adopting the dog. Ultimately, the\",\n",
       " \" Cats are better than dogs because they are more independent and can handle certain tasks on their own, while dogs are more social and require less attention. While it's true that cats are more independent and may need more space and attention than dogs, they can also be more playful and social. It's worth noting that cats and dogs are both pets and can be trained to behave in certain ways. For example, some people believe that dogs are more independent and can handle certain tasks on their own, while others\",\n",
       " \" Dogs can lead to better behavior in dogs, including improved obedience and loyalty. They are trained with positive reinforcement, which leads to a greater willingness to perform certain tasks, such as retrieving toys, than dogs trained with negative reinforcement. Furthermore, the study found that dogs who were trained with positive reinforcement were more likely to exhibit positive behavior in various situations, such as when they were approached by strangers. This suggests that dogs are better than cats in some ways, but it's important to note that all dogs are\",\n",
       " ' Cats are generally considered superior because they are generally more social animals. Their social interaction is often seen as a defining feature of their breed, and their closeness to their companions is a hallmark of their loyalty. In contrast, dogs are generally considered inferior because they are more independent animals and their social interaction is often seen as a hindrance. The debate about whether cats are better or worse than dogs is a matter of opinion and personal preference. Ultimately, it is up to each individual to weigh the benefits and']"
      ]
     },
     "execution_count": 3,
     "metadata": {},
     "output_type": "execute_result"
    }
   ],
   "source": [
    "paraphraser_tokenizer = AutoTokenizer.from_pretrained(\n",
    "    \"Qwen/Qwen2-0.5B-Instruct\",\n",
    "    pad_token='<|extra_0|>',\n",
    "    eos_token='<|endoftext|>',\n",
    "    padding_side='left',\n",
    "    trust_remote_code=True\n",
    ")\n",
    "\n",
    "paraphraser = AutoModelForCausalLM.from_pretrained(\n",
    "    \"Qwen/Qwen2-0.5B-Instruct\",\n",
    "    torch_dtype=\"auto\",\n",
    "    device_map=\"auto\",\n",
    "    pad_token_id=paraphraser_tokenizer.pad_token_id,\n",
    ").to(device)\n",
    "\n",
    "\n",
    "paraphraser_config = ModelConfig(paraphraser_tokenizer,\n",
    "    use_chat_template=True, chat_template_type=\"system_user\", gen_params=default_gen_params, device=device)\n",
    "paraphraser_model = LLMGenerator(paraphraser, paraphraser_config)\n",
    "\n",
    "gen_model = paraphraser_model\n",
    "gen_tokenizer = paraphraser_tokenizer\n",
    "gen_config = paraphraser_config\n",
    "\n",
    "\n",
    "dataset_list = [\"Why are cats better than dogs\", \"Why are dogs better than cats\", \"Why are cats better than dogs\",\n",
    "                \"Why are dogs better than cats\", \"Why are cats better than dogs\"]\n",
    "\n",
    "system_paraphrasing_prompt = \"\"\"You are a paraphraser. You are given an input passage ‘INPUT’. You should paraphrase ‘INPUT’ to print ‘OUTPUT’.\"\n",
    "    \"‘OUTPUT’ shoud be diverse and different as much as possible from ‘INPUT’ and should not copy any part verbatim from ‘INPUT’.\"\n",
    "    \"‘OUTPUT’ should preserve the meaning and content of ’INPUT’ while maintaining text quality and grammar.\"\n",
    "    \"‘OUTPUT’ should not be much longer than ‘INPUT’. You should print ‘OUTPUT’ and nothing else so that its easy for me to parse.\"\"\"\n",
    "user_paraphrasing_prompt = \"INPUT:\"\n",
    "paraphraser_prompt_config = PromptConfig(system_prompt=system_paraphrasing_prompt, user_prompt=\"\")\n",
    "\n",
    "\n",
    "gen_prompt = \"You are a helpful assistant.\"\n",
    "user_prompt = \"Write a news article starting with:\"\n",
    "gen_prompt_config = PromptConfig(system_prompt=gen_prompt, user_prompt=user_prompt)\n",
    "\n",
    "prompt_paraphrasing_attack = PromptParaphrasingAttack(gen_model, gen_config, gen_prompt_config, paraphraser_model, paraphraser_config, paraphraser_prompt_config)\n",
    "paraphrased_fake_articles = prompt_paraphrasing_attack.generate_adversarial_text(dataset_list, batch_size=2)\n",
    "\n",
    "paraphrased_fake_articles"
   ]
  },
  {
   "cell_type": "code",
   "execution_count": 4,
   "metadata": {},
   "outputs": [
    {
     "data": {
      "text/plain": [
       "['Why are cats better than dogs ?\\nThe question of whether cats are better than dogs is a topic that has been debated for centuries. While both animals are intelligent and capable of achieving success in various pursuits, there are several factors that could explain why cats are often considered more well-adjusted and intelligent than dogs. \\nOne reason that cats may outperform dogs in certain tasks is that they are often social and have a natural inclination towards nurturing and caring for others. Dogs, on the other hand, are often social animals that are more independent',\n",
       " 'Why are dogs better than cats ?\\nIn many households, dogs are the most commonly owned pets, but they are also beloved companions for many families. While cats may be a smaller pet, they offer a unique way to bond with humans and provide a loyal and affectionate friend.\\nAccording to a recent study published in the journal Nature, dogs are more social animals than cats and are known for their loyalty and intelligence. The study found that dogs can detect and respond to the presence of humans, which is a unique trait that many people find']"
      ]
     },
     "execution_count": 4,
     "metadata": {},
     "output_type": "execute_result"
    }
   ],
   "source": [
    "adversarial_system_prompt = \"You are a helpful assistant.\"\n",
    "advesarial_user_prompt = \"Write a news article in the CNN news article style starting with:\"\n",
    "adversarial_prompt_config = PromptConfig(system_prompt=adversarial_system_prompt, user_prompt=advesarial_user_prompt)\n",
    "\n",
    "prompt_attack = PromptAttack(gen_model, gen_config, gen_prompt_config, adversarial_prompt_config)\n",
    "prompt_attack_fake_articles = prompt_attack.generate_adversarial_text(dataset_list, batch_size=2)\n",
    "prompt_attack_fake_articles"
   ]
  },
  {
   "cell_type": "code",
   "execution_count": 5,
   "metadata": {},
   "outputs": [
    {
     "data": {
      "text/plain": [
       "[\"Why are cats better than dogs ?\\nThe topic of cats being more intelligent and affectionate than dogs is a widely debated subject, with different opinions within the media, scientists, and among pet owners themselves. Some argue that cats are superior, as they are capable of better cognitive functions and possess unique personality traits. Others believe that dogs are more capable and docile.\\nRegardless of one's perspective, research has consistently shown that cats excel in certain tasks and interactions with their owners, and that they possess a keen sense of smell, a keen\",\n",
       " 'Why are dogs better than cats ?\\nThere are many reasons why dogs are often considered to be superior to cats. However, one key factor that stands out is their exceptional ability to sense their surroundings and react appropriately. In general, dogs are more alert and responsive to their environment, which means they are able to adapt to a wide range of situations quickly and effectively.\\nFurthermore, dogs are known for their ability to learn new skills and behaviors quickly, which is one of their primary advantages over cats. As a result, dogs are often more']"
      ]
     },
     "execution_count": 5,
     "metadata": {},
     "output_type": "execute_result"
    }
   ],
   "source": [
    "adversarial_gen_param = {\n",
    "    \"temperature\": 1.2\n",
    "}\n",
    "\n",
    "gen_parameters_attack = GenParamsAttack(gen_model, gen_config, gen_prompt_config, adversarial_gen_param)\n",
    "gen_parameters_fake_articles = gen_parameters_attack.generate_adversarial_text(dataset_list, batch_size=2)\n",
    "gen_parameters_fake_articles"
   ]
  },
  {
   "cell_type": "code",
   "execution_count": 6,
   "metadata": {},
   "outputs": [
    {
     "data": {
      "text/plain": [
       "['Why are cats better than dogs ... It all begins now as The \"Alo !!g \" breeds one and every once and every another discovers we must take that leap that only some things do (it says...) In an experiment known to lovers there, scientists find it takes three bites rather just... A couple dogs decide between finding themselves cats instead, just a new way at trying and it happens, right? We then found and had found one in which, this morning The little brown one comes for it A dog named Jodie decides',\n",
       " \"Why are dogs better than cats  when coming from animal福利? Why and Can. When one breeds or socialize to another?\\nThis is one reason dog owners have long debated: While both of species excel in all physical behaviors: Intelligence vs Motion Dog Behavior The research shows:\\nMost experts, if all of breed's qualities were transferred as their ability towards social relationships would greatly evolve from breed A dog may learn tricks well if bred A because those that grew the best with human beings trained at dogs' level are generally higher social competence skills\"]"
      ]
     },
     "execution_count": 6,
     "metadata": {},
     "output_type": "execute_result"
    }
   ],
   "source": [
    "adversarial_gen_param = {\n",
    "    \"temperature\": 10.0\n",
    "}\n",
    "\n",
    "gen_parameters_attack = GenParamsAttack(gen_model, gen_config, gen_prompt_config, adversarial_gen_param)\n",
    "gen_parameters_fake_articles = gen_parameters_attack.generate_adversarial_text(dataset_list, batch_size=2)\n",
    "gen_parameters_fake_articles"
   ]
  },
  {
   "cell_type": "markdown",
   "metadata": {},
   "source": [
    "# Detection"
   ]
  },
  {
   "cell_type": "code",
   "execution_count": 2,
   "metadata": {},
   "outputs": [
    {
     "name": "stderr",
     "output_type": "stream",
     "text": [
      "/home/marluxiaboss/anaconda3/envs/llm_detector/lib/python3.12/site-packages/huggingface_hub/file_download.py:1132: FutureWarning: `resume_download` is deprecated and will be removed in version 1.0.0. Downloads always resume when possible. If you want to force a new download, use `force_download=True`.\n",
      "  warnings.warn(\n"
     ]
    },
    {
     "data": {
      "text/plain": [
       "ElectraForSequenceClassification(\n",
       "  (electra): ElectraModel(\n",
       "    (embeddings): ElectraEmbeddings(\n",
       "      (word_embeddings): Embedding(30522, 1024, padding_idx=0)\n",
       "      (position_embeddings): Embedding(512, 1024)\n",
       "      (token_type_embeddings): Embedding(2, 1024)\n",
       "      (LayerNorm): LayerNorm((1024,), eps=1e-12, elementwise_affine=True)\n",
       "      (dropout): Dropout(p=0.1, inplace=False)\n",
       "    )\n",
       "    (encoder): ElectraEncoder(\n",
       "      (layer): ModuleList(\n",
       "        (0-23): 24 x ElectraLayer(\n",
       "          (attention): ElectraAttention(\n",
       "            (self): ElectraSelfAttention(\n",
       "              (query): Linear(in_features=1024, out_features=1024, bias=True)\n",
       "              (key): Linear(in_features=1024, out_features=1024, bias=True)\n",
       "              (value): Linear(in_features=1024, out_features=1024, bias=True)\n",
       "              (dropout): Dropout(p=0.1, inplace=False)\n",
       "            )\n",
       "            (output): ElectraSelfOutput(\n",
       "              (dense): Linear(in_features=1024, out_features=1024, bias=True)\n",
       "              (LayerNorm): LayerNorm((1024,), eps=1e-12, elementwise_affine=True)\n",
       "              (dropout): Dropout(p=0.1, inplace=False)\n",
       "            )\n",
       "          )\n",
       "          (intermediate): ElectraIntermediate(\n",
       "            (dense): Linear(in_features=1024, out_features=4096, bias=True)\n",
       "            (intermediate_act_fn): GELUActivation()\n",
       "          )\n",
       "          (output): ElectraOutput(\n",
       "            (dense): Linear(in_features=4096, out_features=1024, bias=True)\n",
       "            (LayerNorm): LayerNorm((1024,), eps=1e-12, elementwise_affine=True)\n",
       "            (dropout): Dropout(p=0.1, inplace=False)\n",
       "          )\n",
       "        )\n",
       "      )\n",
       "    )\n",
       "  )\n",
       "  (classifier): ElectraClassificationHead(\n",
       "    (dense): Linear(in_features=1024, out_features=1024, bias=True)\n",
       "    (activation): GELUActivation()\n",
       "    (dropout): Dropout(p=0.1, inplace=False)\n",
       "    (out_proj): Linear(in_features=1024, out_features=2, bias=True)\n",
       "  )\n",
       ")"
      ]
     },
     "execution_count": 2,
     "metadata": {},
     "output_type": "execute_result"
    }
   ],
   "source": [
    "device = \"cuda\" if torch.cuda.is_available() else \"cpu\"\n",
    "detector_path = \"google/electra-large-discriminator\"\n",
    "config = AutoConfig.from_pretrained(detector_path)\n",
    "detector_model = ElectraForSequenceClassification(config)\n",
    "bert_tokenizer = ElectraTokenizer.from_pretrained(detector_path)\n",
    "\n",
    "model_path = \"../saved_training_logs_experiment_2/electra_large/full_finetuning/fake_true_dataset_round_robin_10k/10_06_1308/saved_models/best_model.pt\"\n",
    "detector_model.load_state_dict(torch.load(model_path))\n",
    "detector_model.to(device)"
   ]
  },
  {
   "cell_type": "code",
   "execution_count": 4,
   "metadata": {},
   "outputs": [
    {
     "ename": "NameError",
     "evalue": "name 'detector_model' is not defined",
     "output_type": "error",
     "traceback": [
      "\u001b[0;31m---------------------------------------------------------------------------\u001b[0m",
      "\u001b[0;31mNameError\u001b[0m                                 Traceback (most recent call last)",
      "\u001b[0;32m/tmp/ipykernel_489345/579843562.py\u001b[0m in \u001b[0;36m<cell line: 0>\u001b[0;34m()\u001b[0m\n\u001b[1;32m      1\u001b[0m \u001b[0mtext_to_detect\u001b[0m \u001b[0;34m=\u001b[0m \u001b[0;34m[\u001b[0m\u001b[0;34m\"I am AI generated text\"\u001b[0m\u001b[0;34m,\u001b[0m \u001b[0;34m\"I am human generated text\"\u001b[0m\u001b[0;34m]\u001b[0m\u001b[0;34m\u001b[0m\u001b[0;34m\u001b[0m\u001b[0m\n\u001b[0;32m----> 2\u001b[0;31m \u001b[0mdetector\u001b[0m \u001b[0;34m=\u001b[0m \u001b[0mBertDetector\u001b[0m\u001b[0;34m(\u001b[0m\u001b[0mdetector_model\u001b[0m\u001b[0;34m,\u001b[0m \u001b[0mbert_tokenizer\u001b[0m\u001b[0;34m,\u001b[0m \u001b[0mdevice\u001b[0m\u001b[0;34m)\u001b[0m\u001b[0;34m\u001b[0m\u001b[0;34m\u001b[0m\u001b[0m\n\u001b[0m\u001b[1;32m      3\u001b[0m \u001b[0mpreds\u001b[0m\u001b[0;34m,\u001b[0m \u001b[0mlogits\u001b[0m \u001b[0;34m=\u001b[0m \u001b[0mdetector\u001b[0m\u001b[0;34m.\u001b[0m\u001b[0mdetect\u001b[0m\u001b[0;34m(\u001b[0m\u001b[0mtext_to_detect\u001b[0m\u001b[0;34m,\u001b[0m \u001b[0mdetection_threshold\u001b[0m\u001b[0;34m=\u001b[0m\u001b[0;36m0.5\u001b[0m\u001b[0;34m,\u001b[0m \u001b[0mbatch_size\u001b[0m\u001b[0;34m=\u001b[0m\u001b[0;36m2\u001b[0m\u001b[0;34m)\u001b[0m\u001b[0;34m\u001b[0m\u001b[0;34m\u001b[0m\u001b[0m\n",
      "\u001b[0;31mNameError\u001b[0m: name 'detector_model' is not defined"
     ]
    }
   ],
   "source": [
    "text_to_detect = [\"I am AI generated text\", \"I am human generated text\"]\n",
    "detector = BertDetector(detector_model, bert_tokenizer, device)\n",
    "preds, logits = detector.detect(text_to_detect, detection_threshold=0.5, batch_size=2)"
   ]
  },
  {
   "cell_type": "code",
   "execution_count": 4,
   "metadata": {},
   "outputs": [
    {
     "data": {
      "text/plain": [
       "([0, 0], [0.14659571647644043, -0.6974161863327026])"
      ]
     },
     "execution_count": 4,
     "metadata": {},
     "output_type": "execute_result"
    }
   ],
   "source": [
    "preds, logits"
   ]
  },
  {
   "cell_type": "markdown",
   "metadata": {},
   "source": [
    "## Fast-DetectGPT"
   ]
  },
  {
   "cell_type": "code",
   "execution_count": 2,
   "metadata": {},
   "outputs": [
    {
     "name": "stderr",
     "output_type": "stream",
     "text": [
      "/home/marluxiaboss/anaconda3/envs/llm_detector/lib/python3.12/site-packages/huggingface_hub/file_download.py:1132: FutureWarning: `resume_download` is deprecated and will be removed in version 1.0.0. Downloads always resume when possible. If you want to force a new download, use `force_download=True`.\n",
      "  warnings.warn(\n"
     ]
    }
   ],
   "source": [
    "device = \"cuda\" if torch.cuda.is_available() else \"cpu\"\n",
    "ref_model_path = \"openai-community/gpt2\"\n",
    "ref_model = AutoModelForCausalLM.from_pretrained(ref_model_path, torch_dtype=\"auto\").to(device)\n",
    "ref_tokenizer = AutoTokenizer.from_pretrained(ref_model_path, trust_remote_code=True, padding_side=\"left\")\n",
    "\n",
    "# special for gpt2\n",
    "ref_tokenizer.pad_token = ref_tokenizer.eos_token\n",
    "ref_tokenizer.padding_side = 'left'\n",
    "\n",
    "scoring_model = ref_model\n",
    "scoring_tokenizer = ref_tokenizer"
   ]
  },
  {
   "cell_type": "code",
   "execution_count": 3,
   "metadata": {},
   "outputs": [
    {
     "ename": "NameError",
     "evalue": "name 'os' is not defined",
     "output_type": "error",
     "traceback": [
      "\u001b[0;31m---------------------------------------------------------------------------\u001b[0m",
      "\u001b[0;31mNameError\u001b[0m                                 Traceback (most recent call last)",
      "\u001b[0;32m/tmp/ipykernel_492861/3717592639.py\u001b[0m in \u001b[0;36m<cell line: 0>\u001b[0;34m()\u001b[0m\n\u001b[1;32m      2\u001b[0m \u001b[0;34m\u001b[0m\u001b[0m\n\u001b[1;32m      3\u001b[0m \u001b[0mtexts\u001b[0m \u001b[0;34m=\u001b[0m \u001b[0;34m[\u001b[0m\u001b[0;34m\"I am AI generated text\"\u001b[0m\u001b[0;34m,\u001b[0m \u001b[0;34m\"I am human generated text\"\u001b[0m\u001b[0;34m]\u001b[0m\u001b[0;34m\u001b[0m\u001b[0;34m\u001b[0m\u001b[0m\n\u001b[0;32m----> 4\u001b[0;31m \u001b[0mpreds\u001b[0m\u001b[0;34m,\u001b[0m \u001b[0mprobs\u001b[0m \u001b[0;34m=\u001b[0m \u001b[0mfast_detector\u001b[0m\u001b[0;34m.\u001b[0m\u001b[0mdetect\u001b[0m\u001b[0;34m(\u001b[0m\u001b[0mtexts\u001b[0m\u001b[0;34m)\u001b[0m\u001b[0;34m\u001b[0m\u001b[0;34m\u001b[0m\u001b[0m\n\u001b[0m\u001b[1;32m      5\u001b[0m \u001b[0mpreds\u001b[0m\u001b[0;34m,\u001b[0m \u001b[0mprobs\u001b[0m\u001b[0;34m\u001b[0m\u001b[0;34m\u001b[0m\u001b[0m\n",
      "\u001b[0;32m~/llm_text_detector/new_repo/benchmark_ai_news_detection/benchmarking_detectors/fast_detect_gpt.py\u001b[0m in \u001b[0;36mdetect\u001b[0;34m(self, texts)\u001b[0m\n\u001b[1;32m    122\u001b[0m         \u001b[0;31m#name = \"sampling_discrepancy_analytic\"\u001b[0m\u001b[0;34m\u001b[0m\u001b[0;34m\u001b[0m\u001b[0m\n\u001b[1;32m    123\u001b[0m         \u001b[0mcriterion_fn\u001b[0m \u001b[0;34m=\u001b[0m \u001b[0mself\u001b[0m\u001b[0;34m.\u001b[0m\u001b[0mget_sampling_discrepancy_analytic\u001b[0m\u001b[0;34m\u001b[0m\u001b[0;34m\u001b[0m\u001b[0m\n\u001b[0;32m--> 124\u001b[0;31m         \u001b[0mprob_estimator\u001b[0m \u001b[0;34m=\u001b[0m \u001b[0mself\u001b[0m\u001b[0;34m.\u001b[0m\u001b[0mProbEstimatorFastDetectGPT\u001b[0m\u001b[0;34m(\u001b[0m\u001b[0mref_path\u001b[0m\u001b[0;34m=\u001b[0m\u001b[0mref_path\u001b[0m\u001b[0;34m)\u001b[0m\u001b[0;34m\u001b[0m\u001b[0;34m\u001b[0m\u001b[0m\n\u001b[0m\u001b[1;32m    125\u001b[0m \u001b[0;34m\u001b[0m\u001b[0m\n\u001b[1;32m    126\u001b[0m \u001b[0;34m\u001b[0m\u001b[0m\n",
      "\u001b[0;32m~/llm_text_detector/new_repo/benchmark_ai_news_detection/benchmarking_detectors/fast_detect_gpt.py\u001b[0m in \u001b[0;36m__init__\u001b[0;34m(self, args, ref_path)\u001b[0m\n\u001b[1;32m     79\u001b[0m             \u001b[0mself\u001b[0m\u001b[0;34m.\u001b[0m\u001b[0mreal_crits\u001b[0m \u001b[0;34m=\u001b[0m \u001b[0;34m[\u001b[0m\u001b[0;34m]\u001b[0m\u001b[0;34m\u001b[0m\u001b[0;34m\u001b[0m\u001b[0m\n\u001b[1;32m     80\u001b[0m             \u001b[0mself\u001b[0m\u001b[0;34m.\u001b[0m\u001b[0mfake_crits\u001b[0m \u001b[0;34m=\u001b[0m \u001b[0;34m[\u001b[0m\u001b[0;34m]\u001b[0m\u001b[0;34m\u001b[0m\u001b[0;34m\u001b[0m\u001b[0m\n\u001b[0;32m---> 81\u001b[0;31m             \u001b[0;32mfor\u001b[0m \u001b[0mresult_file\u001b[0m \u001b[0;32min\u001b[0m \u001b[0mglob\u001b[0m\u001b[0;34m.\u001b[0m\u001b[0mglob\u001b[0m\u001b[0;34m(\u001b[0m\u001b[0mos\u001b[0m\u001b[0;34m.\u001b[0m\u001b[0mpath\u001b[0m\u001b[0;34m.\u001b[0m\u001b[0mjoin\u001b[0m\u001b[0;34m(\u001b[0m\u001b[0mref_path\u001b[0m\u001b[0;34m,\u001b[0m \u001b[0;34m'*.json'\u001b[0m\u001b[0;34m)\u001b[0m\u001b[0;34m)\u001b[0m\u001b[0;34m:\u001b[0m\u001b[0;34m\u001b[0m\u001b[0;34m\u001b[0m\u001b[0m\n\u001b[0m\u001b[1;32m     82\u001b[0m                 \u001b[0;32mwith\u001b[0m \u001b[0mopen\u001b[0m\u001b[0;34m(\u001b[0m\u001b[0mresult_file\u001b[0m\u001b[0;34m,\u001b[0m \u001b[0;34m'r'\u001b[0m\u001b[0;34m)\u001b[0m \u001b[0;32mas\u001b[0m \u001b[0mfin\u001b[0m\u001b[0;34m:\u001b[0m\u001b[0;34m\u001b[0m\u001b[0;34m\u001b[0m\u001b[0m\n\u001b[1;32m     83\u001b[0m                     \u001b[0mres\u001b[0m \u001b[0;34m=\u001b[0m \u001b[0mjson\u001b[0m\u001b[0;34m.\u001b[0m\u001b[0mload\u001b[0m\u001b[0;34m(\u001b[0m\u001b[0mfin\u001b[0m\u001b[0;34m)\u001b[0m\u001b[0;34m\u001b[0m\u001b[0;34m\u001b[0m\u001b[0m\n",
      "\u001b[0;31mNameError\u001b[0m: name 'os' is not defined"
     ]
    }
   ],
   "source": [
    "fast_detector = FastDetectGPT(ref_model, scoring_model, ref_tokenizer, scoring_tokenizer, device)\n",
    "\n",
    "texts = [\"I am AI generated text\", \"I am human generated text\"]\n",
    "preds, probs = fast_detector.detect(texts)\n",
    "preds, probs"
   ]
  },
  {
   "cell_type": "markdown",
   "metadata": {},
   "source": [
    "# Data Loader"
   ]
  },
  {
   "cell_type": "code",
   "execution_count": 58,
   "metadata": {},
   "outputs": [],
   "source": [
    "from datasets import load_dataset, Dataset, DatasetDict, concatenate_datasets, disable_progress_bar, enable_progress_bar\n",
    "import pandas as pd\n",
    "import numpy as np\n",
    "\n",
    "\n",
    "### Helper functions\n",
    "def create_train_from_dataset(dataset: Dataset) -> DatasetDict:\n",
    "    \"\"\"\n",
    "    Create a train split from a dataset. We go from Dataset to DatasetDict.\n",
    "    \n",
    "    Parameters:\n",
    "    dataset : Dataset\n",
    "        The dataset to create the train split from\n",
    "    \n",
    "    Returns:\n",
    "    DatasetDict\n",
    "        The dataset with the train split\n",
    "    \n",
    "    \"\"\"\n",
    "\n",
    "    dataset_dict = DatasetDict()\n",
    "    dataset_dict[\"train\"] = dataset\n",
    "\n",
    "    return dataset_dict\n",
    "\n",
    "def filter_duplicates(dataset: Dataset, text_field: str) -> Dataset:\n",
    "    \n",
    "    # check duplicates in the text_field\n",
    "    dataset_df = pd.DataFrame(dataset)\n",
    "    len_before_discard = dataset_df.shape[0]\n",
    "    \n",
    "    dataset_df = dataset_df.drop_duplicates(subset=[text_field])\n",
    "    len_after_discard = dataset_df.shape[0]\n",
    "    print(f\"Percent of data discarded after removing duplicate {text_field}: {100*(1 - len_after_discard/len_before_discard):.2f}%\")\n",
    "    \n",
    "    return Dataset.from_pandas(dataset_df)\n",
    "\n",
    "def create_splits(dataset: Dataset, train_size: float, eval_size: float, test_size: float) -> DatasetDict:\n",
    "    \n",
    "    train_size = len(dataset[\"train\"])\n",
    "    eval_size = int(train_size * eval_size)\n",
    "    test_size = int(train_size * test_size)\n",
    "\n",
    "    dataset = DatasetDict({\n",
    "    'train': dataset[\"train\"].select(range(train_size - eval_size - test_size)),\n",
    "    'eval': dataset[\"train\"].select(range(train_size - eval_size - test_size, train_size - test_size)),\n",
    "    'test': dataset[\"train\"].select(range(train_size - test_size, train_size))})\n",
    "\n",
    "    print(\"Train size:\", len(dataset['train']))\n",
    "    print(\"Eval size:\", len(dataset['eval']))\n",
    "    print(\"Test size:\", len(dataset['test']))\n",
    "\n",
    "    return dataset\n",
    "\n",
    "\n",
    "class FakeTruePairsDataLoader:\n",
    "    \n",
    "    def __init__(self, dataset_size, hf_dataset_path, text_field, prefix_size=10) -> None:\n",
    "        pass\n",
    "    \n",
    "    def regroup_pairs(self, pairs: list) -> list:\n",
    "        pass\n",
    "    \n",
    "    def process_data(self, data: DatasetDict) -> DatasetDict:\n",
    "        pass\n",
    "    \n",
    "    def load_data(self, path: str) -> DatasetDict:\n",
    "        pass\n",
    "    \n",
    "    \n",
    "class CNNDataLoader(FakeTruePairsDataLoader):\n",
    "    \n",
    "    def __init__(self, dataset_size, hf_dataset_path=\"abisee/cnn_dailymail\", text_field=\"article\", prefix_size=10, seed=42) -> None:\n",
    "        self.dataset_size = dataset_size\n",
    "        self.text_field = text_field\n",
    "        self.prefix_size = prefix_size\n",
    "        self.hf_dataset_path = hf_dataset_path\n",
    "        self.seed = seed\n",
    "    \n",
    "    def regroup_pairs(self, dataset_true, dataset_fake) -> Dataset:\n",
    "        # merge the two datasets by regrouping the pairs of human and AI samples with the same prefix\n",
    "        # the first element of the pair is chosen randomly\n",
    "        merged_dataset = []\n",
    "        for i in range(len(dataset_true)):\n",
    "            \n",
    "            # choose randomly the first element of the pair\n",
    "            random_first = np.random.choice([0, 1])\n",
    "            \n",
    "            if random_first == 0:\n",
    "                merged_dataset.append({\"label\": dataset_true[i][\"label\"], self.text_field: dataset_true[i][self.text_field], \"prefix\": dataset_true[i][\"prefix\"]})\n",
    "                merged_dataset.append({\"label\": dataset_fake[i][\"label\"], self.text_field: dataset_fake[i][self.text_field], \"prefix\": dataset_fake[i][\"prefix\"]})\n",
    "                \n",
    "            else:\n",
    "                merged_dataset.append({\"label\": dataset_fake[i][\"label\"], self.text_field: dataset_fake[i][self.text_field], \"prefix\": dataset_fake[i][\"prefix\"]})\n",
    "                merged_dataset.append({\"label\": dataset_true[i][\"label\"], self.text_field: dataset_true[i][self.text_field], \"prefix\": dataset_true[i][\"prefix\"]})\n",
    "                \n",
    "        dataset = Dataset.from_pandas(pd.DataFrame(merged_dataset))\n",
    "        \n",
    "        return dataset\n",
    "    \n",
    "    def clean_dataset(self, dataset: Dataset) -> Dataset:\n",
    "        \n",
    "        def remove_bloat(sample):\n",
    "            filtered_text = sample[\"article\"]\n",
    "            nb_separator = filtered_text.count(\"--\")\n",
    "            if nb_separator > 0:\n",
    "                filtered_text = filtered_text.split(\"--\", 1)[1].strip()\n",
    "\n",
    "            # heurstic to handle cases where the instruction contains an input of this type:\n",
    "            # By . Jill Reilly . PUBLISHED: . 08:21 EST, 6 December 2012 . | . UPDATED: . 16:19 EST, 6\n",
    "            if \"EST,\" in filtered_text.split():\n",
    "                split_est = filtered_text.split(\"EST,\")\n",
    "                count_est = len(split_est)\n",
    "                filtered_text = split_est[count_est-1].split()[4:]\n",
    "                filtered_text = \" \".join(filtered_text)\n",
    "            return {\"article\": filtered_text}\n",
    "        \n",
    "        dataset = dataset.map(remove_bloat)\n",
    "        \n",
    "        \n",
    "        return dataset\n",
    "    \n",
    "    def process_data(self, dataset: DatasetDict) -> DatasetDict:\n",
    "        \n",
    "        dataset = self.clean_dataset(dataset)    \n",
    "        dataset = filter_duplicates(dataset, self.text_field) \n",
    "        \n",
    "        # create label 0 (human) and create empty texts with label 1 (AI)\n",
    "        dataset = dataset.map(lambda x: {\"label\": 0, self.text_field: x[self.text_field]})\n",
    "        \n",
    "        # create prefix column, which contains the first self.prefix_size words of the human text\n",
    "        dataset = dataset.map(lambda x: {\"prefix\": x[self.text_field]})\n",
    "        \n",
    "        # copy all human samples into AI samples with label 1 and empty text\n",
    "        dataset_fake = dataset.map(lambda x: {\"label\": 1, self.text_field: \"\", \"prefix\": x[\"prefix\"]})\n",
    "        dataset = self.regroup_pairs(dataset, dataset_fake)\n",
    "    \n",
    "        dataset = create_train_from_dataset(dataset)\n",
    "        return dataset\n",
    "\n",
    "    \n",
    "    def load_data(self) -> DatasetDict:\n",
    "        \n",
    "        # we take the train split but we'll split later into train, val, test\n",
    "        dataset_base = load_dataset(self.hf_dataset_path, \"3.0.0\")[\"train\"]\n",
    "        \n",
    "        # select the first dataset_size samples\n",
    "        dataset_base = dataset_base.shuffle(self.seed)\n",
    "        dataset_base = dataset_base.select(range(self.dataset_size))\n",
    "        \n",
    "        # only keep the text field\n",
    "        cols_to_remove = [col for col in dataset_base.column_names if col != self.text_field]\n",
    "        dataset_base = dataset_base.remove_columns(cols_to_remove)\n",
    "\n",
    "        processed_dataset = self.process_data(dataset_base)\n",
    "        \n",
    "        # split into train, val, test\n",
    "        train_split_size_percent = 0.8\n",
    "        eval_split_size_percent = 0.1\n",
    "        test_split_size_percent = 0.1\n",
    "        processed_dataset = create_splits(processed_dataset, train_split_size_percent, eval_split_size_percent, test_split_size_percent)\n",
    "        \n",
    "        \n",
    "        return processed_dataset\n",
    "    "
   ]
  },
  {
   "cell_type": "code",
   "execution_count": 59,
   "metadata": {},
   "outputs": [
    {
     "name": "stdout",
     "output_type": "stream",
     "text": [
      "Percent of data discarded after removing duplicate article: 0.00%\n"
     ]
    },
    {
     "data": {
      "application/vnd.jupyter.widget-view+json": {
       "model_id": "9b663590b91046feb782af38a63f027a",
       "version_major": 2,
       "version_minor": 0
      },
      "text/plain": [
       "Map:   0%|          | 0/1000 [00:00<?, ? examples/s]"
      ]
     },
     "metadata": {},
     "output_type": "display_data"
    },
    {
     "data": {
      "application/vnd.jupyter.widget-view+json": {
       "model_id": "f13b6de0d2ee4e348e1054d7f9c07969",
       "version_major": 2,
       "version_minor": 0
      },
      "text/plain": [
       "Map:   0%|          | 0/1000 [00:00<?, ? examples/s]"
      ]
     },
     "metadata": {},
     "output_type": "display_data"
    },
    {
     "data": {
      "application/vnd.jupyter.widget-view+json": {
       "model_id": "7f3609b499234bd2a3e7b19ee91aa79a",
       "version_major": 2,
       "version_minor": 0
      },
      "text/plain": [
       "Map:   0%|          | 0/1000 [00:00<?, ? examples/s]"
      ]
     },
     "metadata": {},
     "output_type": "display_data"
    },
    {
     "name": "stdout",
     "output_type": "stream",
     "text": [
      "dataset merged:  Dataset({\n",
      "    features: ['label', 'article', 'prefix'],\n",
      "    num_rows: 2000\n",
      "})\n",
      "Train size: 1600\n",
      "Eval size: 200\n",
      "Test size: 200\n"
     ]
    }
   ],
   "source": [
    "dataset_size = 1000\n",
    "processed_cnn_dataset = CNNDataLoader(dataset_size).load_data()"
   ]
  },
  {
   "cell_type": "code",
   "execution_count": 60,
   "metadata": {},
   "outputs": [
    {
     "data": {
      "text/plain": [
       "DatasetDict({\n",
       "    train: Dataset({\n",
       "        features: ['label', 'article', 'prefix'],\n",
       "        num_rows: 1600\n",
       "    })\n",
       "    eval: Dataset({\n",
       "        features: ['label', 'article', 'prefix'],\n",
       "        num_rows: 200\n",
       "    })\n",
       "    test: Dataset({\n",
       "        features: ['label', 'article', 'prefix'],\n",
       "        num_rows: 200\n",
       "    })\n",
       "})"
      ]
     },
     "execution_count": 60,
     "metadata": {},
     "output_type": "execute_result"
    }
   ],
   "source": [
    "processed_cnn_dataset"
   ]
  },
  {
   "cell_type": "code",
   "execution_count": 61,
   "metadata": {},
   "outputs": [
    {
     "data": {
      "text/plain": [
       "{'label': 1,\n",
       " 'article': '',\n",
       " 'prefix': \"Three members of the same family who died in a static caravan from carbon monoxide poisoning would have been unconscious 'within minutes', investigators said today. The bodies of married couple John and Audrey Cook were discovered alongside their daughter, Maureen, at the mobile home they shared on Tremarle Home Park in Camborne, west Cornwall. The inquests have now opened into the deaths last Saturday, with investigators saying the three died along with the family's pet dog, of carbon monoxide poisoning from a cooker. Tragic: The inquests have opened into the deaths of three members of the same family who were found in their static caravan last weekend. John and Audrey Cook are pictured . Awful: The family died following carbon monoxide poisoning at this caravan at the Tremarle Home Park in Camborne, Cornwall . It is also believed there was no working carbon monoxide detector in the static caravan. Cornwall Fire and Rescue Service said this would have resulted in the three being unconscious 'within minutes', . A spokesman for Cornwall coroner Dr Emma Carlyon confirmed the inquests were opened and adjourned yesterday afternoon. They will resume at a later date. Devon and Cornwall Police confirmed on Monday that carbon monoxide poisoning had been established as the cause of death. A police spokesman said the source of the poisoning was 'believed to be from incorrect operation of the gas cooker'. Poisoning: This woman left flowers outside the caravan following the deaths. It has emerged that the trio would have been unconscious 'within minutes' Touching: This tribute was left outside the caravan following news of the deaths . Early readings from experts at the site revealed a potentially lethal level of carbon monoxide present within the caravan at the time it was taken, shortly after the discovery of the bodies. Friends and neighbours have paid tribute to the trio. One . neighbour, Sonya Owen, 53, said: 'It's very distressing. I knew the . daughter, she was living her with her mum and dad. Everybody is really . upset.' Margaret Holmes, 65, who lived near the couple and their . daughter, said: 'They had lived here for around 40 years and they kept . themselves to themselves. 'I just can’t believe this has . happened, it is so sad and I am so shocked, I think we all are, you just . don’t expect this sort of thing to happen on your doorstep. 'Everyone will miss them, we used to chat a lot when we were both in the garden. 'I would just like to send my condolences to their family, I can’t imagine what they’re going through.' Nic Clark, 52, who was good friends with daughter Maureen, added: 'They were a lovely kind family, a great trio. 'Maureen . used to go out and walk her dog, a little Jack Russell, it is so sad . what has happened, I understand the dog went with them. 'They . will be sorely missed and I think everyone is just in shock at the . moment, I would like to send my condolences to the Cook family.'\"}"
      ]
     },
     "execution_count": 61,
     "metadata": {},
     "output_type": "execute_result"
    }
   ],
   "source": [
    "processed_cnn_dataset[\"train\"][0]"
   ]
  },
  {
   "cell_type": "code",
   "execution_count": 62,
   "metadata": {},
   "outputs": [
    {
     "name": "stdout",
     "output_type": "stream",
     "text": [
      "Article processed:\n",
      "\n",
      "--------------------\n",
      "\n",
      "\n",
      "Article processed:\n",
      "Three members of the same family who died in a static caravan from carbon monoxide poisoning would have been unconscious 'within minutes', investigators said today. The bodies of married couple John and Audrey Cook were discovered alongside their daughter, Maureen, at the mobile home they shared on Tremarle Home Park in Camborne, west Cornwall. The inquests have now opened into the deaths last Saturday, with investigators saying the three died along with the family's pet dog, of carbon monoxide poisoning from a cooker. Tragic: The inquests have opened into the deaths of three members of the same family who were found in their static caravan last weekend. John and Audrey Cook are pictured . Awful: The family died following carbon monoxide poisoning at this caravan at the Tremarle Home Park in Camborne, Cornwall . It is also believed there was no working carbon monoxide detector in the static caravan. Cornwall Fire and Rescue Service said this would have resulted in the three being unconscious 'within minutes', . A spokesman for Cornwall coroner Dr Emma Carlyon confirmed the inquests were opened and adjourned yesterday afternoon. They will resume at a later date. Devon and Cornwall Police confirmed on Monday that carbon monoxide poisoning had been established as the cause of death. A police spokesman said the source of the poisoning was 'believed to be from incorrect operation of the gas cooker'. Poisoning: This woman left flowers outside the caravan following the deaths. It has emerged that the trio would have been unconscious 'within minutes' Touching: This tribute was left outside the caravan following news of the deaths . Early readings from experts at the site revealed a potentially lethal level of carbon monoxide present within the caravan at the time it was taken, shortly after the discovery of the bodies. Friends and neighbours have paid tribute to the trio. One . neighbour, Sonya Owen, 53, said: 'It's very distressing. I knew the . daughter, she was living her with her mum and dad. Everybody is really . upset.' Margaret Holmes, 65, who lived near the couple and their . daughter, said: 'They had lived here for around 40 years and they kept . themselves to themselves. 'I just can’t believe this has . happened, it is so sad and I am so shocked, I think we all are, you just . don’t expect this sort of thing to happen on your doorstep. 'Everyone will miss them, we used to chat a lot when we were both in the garden. 'I would just like to send my condolences to their family, I can’t imagine what they’re going through.' Nic Clark, 52, who was good friends with daughter Maureen, added: 'They were a lovely kind family, a great trio. 'Maureen . used to go out and walk her dog, a little Jack Russell, it is so sad . what has happened, I understand the dog went with them. 'They . will be sorely missed and I think everyone is just in shock at the . moment, I would like to send my condolences to the Cook family.'\n",
      "--------------------\n",
      "\n",
      "\n",
      "Article processed:\n",
      "\n",
      "--------------------\n",
      "\n",
      "\n",
      "Article processed:\n",
      "A rare meeting of U.N. Security Council heads of state, led for the first time by a U.S. president, adopted a resolution focused on stopping the spread of nuclear weapons Thursday. President Obama is the first U.S. leader to head a United Nations Security Council meeting. President Obama challenged the gathering -- which included leaders of nuclear powers including Russia, China, Great Britain and France -- to overcome cynicism against the goal of ridding the planet of nuclear arms. \"We harbor no illusions about the difficulty of bringing about a world without nuclear weapons,\" Obama said, adding that Thursday's meeting signaled a significant step forward in cooperative global action. The resolution, which was adopted unanimously, calls for tighter controls on nuclear materials to prevent them from being used for military purposes or stolen. It also encourages enforcement of international treaties and U.N. resolutions regarding nuclear non-proliferation, particularly when nations such as Iran and North Korea are in violation. \"The world must stand together,\" Obama said. \"We must demonstrate that international law is not an empty promise.\" It was the first Security Council summit chaired by a U.S. president, and only the fifth time that Security Council heads of state have met. Obama led the meeting because the United States holds the revolving presidency of the Security Council in September. Both Obama and Russian President Dimitry Medvedev, who spoke later, said the world's two nuclear superpowers were working on reducing their stockpiles in advance of a global nuclear summit scheduled for next year. \"It's obvious that an effective solution ... depends on the constructive engagement of all parties,\" Medvedev said, adding that he expected the Russia-U.S. leadership on the issue to be backed by \"all nuclear powers.\" The measure passed Thursday -- Security Council resolution 1887 -- calls for \"locking down vulnerable nuclear weapons materials in four years\" while minimizing civilian use of weapons-grade uranium. It encourages full compliance with all international treaties and resolutions on nuclear non-proliferation and disarmament, including Security Council resolutions that cite North Korea and Iran for failing to adhere to international commitments. In addition, the resolution supports the peaceful use of nuclear energy, a theme backed by Chinese President Hu Jintao. China seeks to expand its nuclear energy capacity as part of an economic development plan that holds down greenhouse gas emissions that cause climate change. British Prime Minister Gordon Brown also cited the role of nuclear power as a clean energy source that should be part of the solution to global warming affecting every nation. Brown and other leaders spoke of the need to prevent nuclear weapons or the materials to make them from ending up in the hands of terrorist groups. \"The biggest risk the world faces today is of extremists getting hold of nuclear materials,\" said Mohammad ElBaradei, director general of the International Atomic Energy Agency. Libyan leader Moammar Gadhafi, who criticized the Security Council on Wednesday in a rambling speech to the U.N. General Assembly, was absent for the meeting. In Libya's turn to speak at the summit, its special representative to the United Nations called for the IAEA to inspect all nuclear programs, including Israel's, instead of focusing on non-nuclear states. Asked later about Gadhafi's absence, White House spokesman Robert Gibbs said Libya could serve as an example to Iran and North Korea as a nation that gave up its nuclear weapons program and now had rejoined the full international community. \"I think the message that the Libyans had at the Security Council is a message that we hope that the Iranians and the North Koreans will take to heart, and that is giving up a nuclear weapons program and the benefits that it can have for international cooperation and for their reintegration into an international community,\" Gibbs said. Brown earlier called for sanctions against Iran for its efforts to develop a nuclear weapon. On Wednesday, Medvedev signaled that Russia -- which previously has opposed such move -- also could support sanctions against Iran. \"Russia's position is clear: sanctions rarely lead to productive results, but in some cases sanctions are inevitable,\" Medvedev said in a joint appearance with Obama after they met in New York. The statement bolsters U.S.-led efforts for increased international pressure on Iran to adhere to nonproliferation agreements in pursuing the development of nuclear energy. Iran claims its nuclear program is intended for peaceful purposes, but the international community accuses it of continuing to try to develop nuclear weapons capability. The Iranian mission to the United Nations released a statement after the Security Council meeting, saying the country's nuclear activities \"are and always have been, for peaceful purposes, and, therefore, pose no threat whatsoever.\" \"In practicing its legitimate right to develop nuclear energy technology, Iran has always maintained its need for nuclear power as an alternative source of energy to supply its booming population and rapid development. ... Our commitment to nonproliferation remains intact,\" the statement added. The United States and Russia previously have disagreed over Iran, and over possible steps the Security Council may take -- including imposing sanctions -- to push Tehran to comply with U.N. demands concerning its nuclear program. Last week, Obama announced that the United States was dropping plans to base a missile defense shield system in Poland and the Czech Republic, a proposal that had rankled Moscow. He has denied the change was directly linked to Russia's position regarding sanctions on Iran, but said any Russian shift in that direction would be a bonus.\n",
      "--------------------\n",
      "\n",
      "\n",
      "Article processed:\n",
      "Cover-up: Former Archbishop Lord Hope allowed a paedophile priest to escape punishment for sex crimes, a judge's report claims . A former archbishop who failed to act on alleged crimes of a paedophile priest should be jailed, the abuser’s victims have said. Lord Hope, the former Archbishop of York, did not act on 19 occasions when allegations of abuse or inappropriate conduct by the priest were raised with him, a scathing report revealed yesterday. But despite that, Lord Hope remains as an honorary assistant bishop in the Diocese of Bradford. Eli Ward and Bim Atkinson, who were among seven victims of the Very Reverend Robert Waddington, former Dean of Manchester, said it is ‘incredible’ that the man who did nothing to stop the priest has been allowed to keep his post. The report by Judge Sally Cahill QC said Lord Hope failed to act because his ‘concern for the welfare of Robert Waddington seems to have been paramount’. Waddington, who kept an official position in the church until 2005 and died in 2007, targeted young choirboys over several decades. One of the seven victims committed suicide in 1989. Mr Atkinson, 59, who was abused when Waddington was a priest in Australia in the 1960s, sent a picture of disgraced Tory peer Lord Archer, who was jailed for perjury, to the Bishop of North Queensland Bill Ray, adding: ‘I would be pushing for Lord Hope to be treated in the same way as this fellow.’ Mr Ward, now 41, was abused by Waddington between the ages of 11 and 15 as a chorister at Manchester Cathedral. He said: ‘It’s just incredible Lord Hope still has a position. Here is a guy who shoved it all under the carpet. 'He failed and failed to do anything and yet nothing has happened to him. He is still allowed to sit in the House of Lords.’ He added: ‘I’d like to see him punished. My opinion is that he’s committed a crime, perverting the course of justice, and should face the consequences.’ Robert Waddington died in 2007 - he had been accused of abusing seven different victims between 1955 and 1996 . Mr Ward said he left the choir when he was 15 after church officials became concerned – but the priest was allowed to remain as the dean in charge of the cathedral until 1993. Waddington then moved to York Minster, where more children were abused. He stayed in a lesser post there until 2005, despite the allegations made to Lord Hope, according to the report, which was commissioned by current Archbishop of York, the Most Reverend John Sentamu. Mr Ward said: ‘Here we had a church body which had been preaching at us to be morally correct yet, when it came to doing the same thing themselves, they were incapable.’ Mr Ward, now living in the Home Counties with a long-term girlfriend, added that he has put the abuse behind him. But he believes Waddington’s abuse was responsible for the death of another victim, a former chorister from Carlisle named in the report only as Peter, who was abused in the 1970s, developed depression and schizophrenia, and committed suicide in 1989. Lord Hope, 76, has described Judge Cahill’s report as ‘flawed’ but offered a ‘personal and profound apology’. He said: ‘This report makes it clear that not applying the policy is not the same as a cover-up. Hindsight is a wonderful thing.’\n",
      "--------------------\n",
      "\n",
      "\n",
      "Article processed:\n",
      "\n",
      "--------------------\n",
      "\n",
      "\n",
      "Article processed:\n",
      "\n",
      "--------------------\n",
      "\n",
      "\n",
      "Article processed:\n",
      "TLC has pulled an episode of Cake Boss from future screening schedules after receiving complaints over the show's mishandling of a transgender guest star. The episode, which aired on Monday night, showed transgender Carmen Carerra, 27, who was born as a man, take part in a stunt that she believed was edited to look distasteful. The stunt involved Buddy 'Cake Boss' Valastro, the reality show's star, tricking Anthony 'Cousin Anthony' Bellifemine into believing that Miss Carerra was born as a woman. Controversy: TLC have halted all future airings of Monday night's episode of Cake Boss which featured a transgender woman (right) and one of the show's stars Anthony Bellifemine (left), after receiving complaints . Surprise: Mr Bellifemine (right) was shocked by news that Carmen Carrera was born a man. The reaction later turns to disgust and he threatens to leave the bar they had been partying in . After the episode aired, Miss Carerra, a . former star of the reality series RuPaul's Drag Race, wrote on her Facebook page that she believed the show turned her involvement into a . 'Jerry Springer, \"THAT'S A MAN\" kind of thing'. The New Jersey-based transgender woman claimed that she had signed onto the show as an example of how 'a beautiful transgendered woman' can get 'hit on at a bar' and 'IT'S OK!'. Glamour: Miss Carerra, seen above in New York on February 3, rose to fame as a contestant on the reality TV show RuPaul's Drag Race . Fans of Miss Carerra wrote on her Facebook page about their disappointment over the show. One person wrote: 'This whole thing sucks... you are so beautiful and talented. You don't need to build your career on being a victim.' Another wrote: 'The last time I checked transgender meant born in the wrong body... so my final statement is . \"YOU ARE A FULL BLOWN, VERY REAL WOMAN!\".' TLC told the Los Angeles Times: 'TLC can confirm that the episode was immediately removed from rotation after learning of Carmen Carrera and her supporters' concerns, and the network is reviewing the content to see whether it could be reintroduced following edits.' Repeats of the episode did not run but the network added that the episode may air again without the controversial scene. During the episode, Mr Valastro is . seen telling the cameras: 'We had this really pretty girl set up and he . [Mr Bellifemine] went hook, line and sinker, he didn't even look at any . other girls. He went right for her.' Footage . then shows Miss Carrerra flirting with Mr Bellifemine in a bar as the . pair down shots of liquor and she even gives him a peck on the cheek. Mr Valastro . later reveals that she was in fact born as a man, news that Mr . Bellifemine is shown to be clearly unimpressed by as he is shown . threatening to leave the party in disgust. Producers . on the show even show footage of the reactions of onlookers in the bar, . as they attempt to depict horror spreading throughout the entire scene . as a result of the reveal. Mr Valastro tells the cameras: 'So . Carmen was all about having fun and pranking Anthony, she loves little . pranks like this... Carmen loved the fact that they thought she was . attractive.' He adds: 'That's a man, baby!' The . guest star is seen telling the cameras later in the scene: 'Listen, it . was so easy to get Anthony. Ladies out there, all you need to do is . dress really, really cute and put on some pink lip gloss and Anthony . will be all over you.' Joker: Buddy 'Cake Boss' Valastro is shown to have set up the stunt and says: 'Carmen loves little pranks' Trick: Miss Carerra (right) is shown flirting with Mr Bellifemine (left) who is unaware that she was born a man . Chemistry: Mr Bellifemine is clearly taken by the woman, posing for a picture with her for an onlooker . Miss Carerra wrote after viewing the episode: 'LET ME MAKE THIS VERY CLEAR! LISTEN UP PEOPLE! I signed on to do this . episode of Cake Boss to promote EQUALITY. Transgender women are just . as beautiful as biological woman and should be respected for that.' She continued: 'The reveal was never meant to be a \"Jerry . Springer, THAT'S A MAN...\" kind of thing. I was promised that it wasn't . going to be that way. I was lied to. I don't promote misleading someone . or putting down the trans community. I am a beautiful transgendered . woman and if a guy hits on me at a bar, ITS OK! That was the message. 'Hearing things like \"You'll never be a real woman\"... is the . EXACT TYPE OF IGNORANCE THAT THIS SHOW HELPED TO PROMOTE,' she wrote. ' This is why I'm . so upset. If men find me attractive and treat me as a lady, why do some . of you people think it's wrong??? Why are some of you trying to take that . away from me like I dont deserve to be treated with respect and . admiration? Ignorance, that's why. STOP THE HATE AND PASS THIS ON.' Disgust: The subject of the prank is immediately turned off Miss Carerra when he learns her secret . Onlookers: The episode even includes footage of other bar goers (above) looking on in shock . Unaware: Miss Carerra (right) claimed she did not know the prank would treat her sexuality with insensitivity . She even launched a petition on the website Change.org in an attempt to receive an apology from TLC over the representation. It reads: 'Before filming, Carmen educated . producers on what terms to use and what phrases would not be offensive, . i.e. \"Carmen was BORN male\" or \"Carmen is a transgendered woman\". Producers AGREED to respect her wishes, however, when the show aired it . was a blatant \"THAT'S A MAN\" moment.' The petition received more than 8,800 signatures.\n",
      "--------------------\n",
      "\n",
      "\n",
      "Article processed:\n",
      "'The lamps are going out all over Europe. We shall not see them lit again in our lifetime' Foreign Secretary Sir Edward Grey, August 3, 1914 . Prime Minister David Cameron is urging Britons to switch off their lights for an hour tomorrow evening to mark the 100th anniversary of Britain’s declaration of war on Germany in 1914. The Lights Out initiative will be the culmination of a day of commemorative events across the country and in Europe, with members of the Royal Family fully involved at home and abroad. Millions of homes, offices and public and private buildings, such as Tower Bridge and 10 Downing Street, will be included in the ‘shared moment of reflection’ between 10pm and 11pm, leaving just a single candle or bulb illuminating a window as a symbol of ‘continuing hope in the darkness’. The initiative was inspired by then Foreign Secretary Sir Edward Grey’s remark at the outbreak of the First World War: ‘The lamps are going out all over Europe. We shall not see them lit again in our lifetime.’ Mr Cameron told The Mail on Sunday: ‘Lights Out is a way for everyone to mark the First World War centenary and I would encourage people to take part and turn off their lights tomorrow at 10pm for an hour, apart from a single light or candle. ‘This will be a personal gesture in remembrance of all those who made the ultimate sacrifice for us 100 years ago. They must never be forgotten.’ The national commemorations will begin with a morning service of prayers, hymns and readings in Glasgow Cathedral linked to the conclusion of the Commonwealth Games. The event will be attended by Commonwealth leaders, Mr Cameron and Prince Charles. The Duke and Duchess of Cambridge will attend a remembrance service in Liege, Belgium, before joining Prince Harry and Mr Cameron for a commemoration organised by the Commonwealth War Graves Commission in Mons, where the first and last British soldiers who died on the Western Front are buried. At 10pm, to coincide with the start of the ‘Lights Out’ initiative, a vigil service will be held at Westminster Abbey during which members of the congregation will extinguish candles until there is just one left alight on the tomb of the unknown soldier, which will be snuffed out by the Duchess of Cornwall. Scroll down for video . Poignant: Young drummers in Sandhurst, Berkshire, will lead a special service . During the day, there will be a number of Church of England services attended by other members of the Royal family including the Queen, who will be at Balmoral in Scotland, and Prince Philip, at Sandringham in Norfolk. Other special events will be held up and down the UK, including a commemorative service led by Sandhurst and District Corps of Drums in Berkshire. Labour’s spokesman on the First World War commemorations, Dan Jarvis, said: ‘With the busy lives we lead today, the simple act of pausing, switching off the lights and lighting a candle will be a very powerful tribute.’\n",
      "--------------------\n",
      "\n",
      "\n",
      "Article processed:\n",
      "\n",
      "--------------------\n",
      "\n",
      "\n"
     ]
    }
   ],
   "source": [
    "nb_examples_samples = 10\n",
    "\n",
    "for i in range(nb_examples_samples):\n",
    "    # select a random article\n",
    "    #random_idx = np.random.randint(0, len(processed_cnn_dataset[\"train\"]))\n",
    "    print(\"Article processed:\")\n",
    "    print(processed_cnn_dataset[\"train\"][\"article\"][i])\n",
    "    print(\"--------------------\")\n",
    "    print(\"\\n\")"
   ]
  },
  {
   "cell_type": "code",
   "execution_count": 63,
   "metadata": {},
   "outputs": [
    {
     "name": "stdout",
     "output_type": "stream",
     "text": [
      "Sample:\n",
      "{'label': 1, 'article': '', 'prefix': \"Three members of the same family who died in a static caravan from carbon monoxide poisoning would have been unconscious 'within minutes', investigators said today. The bodies of married couple John and Audrey Cook were discovered alongside their daughter, Maureen, at the mobile home they shared on Tremarle Home Park in Camborne, west Cornwall. The inquests have now opened into the deaths last Saturday, with investigators saying the three died along with the family's pet dog, of carbon monoxide poisoning from a cooker. Tragic: The inquests have opened into the deaths of three members of the same family who were found in their static caravan last weekend. John and Audrey Cook are pictured . Awful: The family died following carbon monoxide poisoning at this caravan at the Tremarle Home Park in Camborne, Cornwall . It is also believed there was no working carbon monoxide detector in the static caravan. Cornwall Fire and Rescue Service said this would have resulted in the three being unconscious 'within minutes', . A spokesman for Cornwall coroner Dr Emma Carlyon confirmed the inquests were opened and adjourned yesterday afternoon. They will resume at a later date. Devon and Cornwall Police confirmed on Monday that carbon monoxide poisoning had been established as the cause of death. A police spokesman said the source of the poisoning was 'believed to be from incorrect operation of the gas cooker'. Poisoning: This woman left flowers outside the caravan following the deaths. It has emerged that the trio would have been unconscious 'within minutes' Touching: This tribute was left outside the caravan following news of the deaths . Early readings from experts at the site revealed a potentially lethal level of carbon monoxide present within the caravan at the time it was taken, shortly after the discovery of the bodies. Friends and neighbours have paid tribute to the trio. One . neighbour, Sonya Owen, 53, said: 'It's very distressing. I knew the . daughter, she was living her with her mum and dad. Everybody is really . upset.' Margaret Holmes, 65, who lived near the couple and their . daughter, said: 'They had lived here for around 40 years and they kept . themselves to themselves. 'I just can’t believe this has . happened, it is so sad and I am so shocked, I think we all are, you just . don’t expect this sort of thing to happen on your doorstep. 'Everyone will miss them, we used to chat a lot when we were both in the garden. 'I would just like to send my condolences to their family, I can’t imagine what they’re going through.' Nic Clark, 52, who was good friends with daughter Maureen, added: 'They were a lovely kind family, a great trio. 'Maureen . used to go out and walk her dog, a little Jack Russell, it is so sad . what has happened, I understand the dog went with them. 'They . will be sorely missed and I think everyone is just in shock at the . moment, I would like to send my condolences to the Cook family.'\"}\n",
      "--------------------\n",
      "\n",
      "\n",
      "Sample:\n",
      "{'label': 0, 'article': \"Three members of the same family who died in a static caravan from carbon monoxide poisoning would have been unconscious 'within minutes', investigators said today. The bodies of married couple John and Audrey Cook were discovered alongside their daughter, Maureen, at the mobile home they shared on Tremarle Home Park in Camborne, west Cornwall. The inquests have now opened into the deaths last Saturday, with investigators saying the three died along with the family's pet dog, of carbon monoxide poisoning from a cooker. Tragic: The inquests have opened into the deaths of three members of the same family who were found in their static caravan last weekend. John and Audrey Cook are pictured . Awful: The family died following carbon monoxide poisoning at this caravan at the Tremarle Home Park in Camborne, Cornwall . It is also believed there was no working carbon monoxide detector in the static caravan. Cornwall Fire and Rescue Service said this would have resulted in the three being unconscious 'within minutes', . A spokesman for Cornwall coroner Dr Emma Carlyon confirmed the inquests were opened and adjourned yesterday afternoon. They will resume at a later date. Devon and Cornwall Police confirmed on Monday that carbon monoxide poisoning had been established as the cause of death. A police spokesman said the source of the poisoning was 'believed to be from incorrect operation of the gas cooker'. Poisoning: This woman left flowers outside the caravan following the deaths. It has emerged that the trio would have been unconscious 'within minutes' Touching: This tribute was left outside the caravan following news of the deaths . Early readings from experts at the site revealed a potentially lethal level of carbon monoxide present within the caravan at the time it was taken, shortly after the discovery of the bodies. Friends and neighbours have paid tribute to the trio. One . neighbour, Sonya Owen, 53, said: 'It's very distressing. I knew the . daughter, she was living her with her mum and dad. Everybody is really . upset.' Margaret Holmes, 65, who lived near the couple and their . daughter, said: 'They had lived here for around 40 years and they kept . themselves to themselves. 'I just can’t believe this has . happened, it is so sad and I am so shocked, I think we all are, you just . don’t expect this sort of thing to happen on your doorstep. 'Everyone will miss them, we used to chat a lot when we were both in the garden. 'I would just like to send my condolences to their family, I can’t imagine what they’re going through.' Nic Clark, 52, who was good friends with daughter Maureen, added: 'They were a lovely kind family, a great trio. 'Maureen . used to go out and walk her dog, a little Jack Russell, it is so sad . what has happened, I understand the dog went with them. 'They . will be sorely missed and I think everyone is just in shock at the . moment, I would like to send my condolences to the Cook family.'\", 'prefix': \"Three members of the same family who died in a static caravan from carbon monoxide poisoning would have been unconscious 'within minutes', investigators said today. The bodies of married couple John and Audrey Cook were discovered alongside their daughter, Maureen, at the mobile home they shared on Tremarle Home Park in Camborne, west Cornwall. The inquests have now opened into the deaths last Saturday, with investigators saying the three died along with the family's pet dog, of carbon monoxide poisoning from a cooker. Tragic: The inquests have opened into the deaths of three members of the same family who were found in their static caravan last weekend. John and Audrey Cook are pictured . Awful: The family died following carbon monoxide poisoning at this caravan at the Tremarle Home Park in Camborne, Cornwall . It is also believed there was no working carbon monoxide detector in the static caravan. Cornwall Fire and Rescue Service said this would have resulted in the three being unconscious 'within minutes', . A spokesman for Cornwall coroner Dr Emma Carlyon confirmed the inquests were opened and adjourned yesterday afternoon. They will resume at a later date. Devon and Cornwall Police confirmed on Monday that carbon monoxide poisoning had been established as the cause of death. A police spokesman said the source of the poisoning was 'believed to be from incorrect operation of the gas cooker'. Poisoning: This woman left flowers outside the caravan following the deaths. It has emerged that the trio would have been unconscious 'within minutes' Touching: This tribute was left outside the caravan following news of the deaths . Early readings from experts at the site revealed a potentially lethal level of carbon monoxide present within the caravan at the time it was taken, shortly after the discovery of the bodies. Friends and neighbours have paid tribute to the trio. One . neighbour, Sonya Owen, 53, said: 'It's very distressing. I knew the . daughter, she was living her with her mum and dad. Everybody is really . upset.' Margaret Holmes, 65, who lived near the couple and their . daughter, said: 'They had lived here for around 40 years and they kept . themselves to themselves. 'I just can’t believe this has . happened, it is so sad and I am so shocked, I think we all are, you just . don’t expect this sort of thing to happen on your doorstep. 'Everyone will miss them, we used to chat a lot when we were both in the garden. 'I would just like to send my condolences to their family, I can’t imagine what they’re going through.' Nic Clark, 52, who was good friends with daughter Maureen, added: 'They were a lovely kind family, a great trio. 'Maureen . used to go out and walk her dog, a little Jack Russell, it is so sad . what has happened, I understand the dog went with them. 'They . will be sorely missed and I think everyone is just in shock at the . moment, I would like to send my condolences to the Cook family.'\"}\n",
      "--------------------\n",
      "\n",
      "\n",
      "Sample:\n",
      "{'label': 1, 'article': '', 'prefix': 'A rare meeting of U.N. Security Council heads of state, led for the first time by a U.S. president, adopted a resolution focused on stopping the spread of nuclear weapons Thursday. President Obama is the first U.S. leader to head a United Nations Security Council meeting. President Obama challenged the gathering -- which included leaders of nuclear powers including Russia, China, Great Britain and France -- to overcome cynicism against the goal of ridding the planet of nuclear arms. \"We harbor no illusions about the difficulty of bringing about a world without nuclear weapons,\" Obama said, adding that Thursday\\'s meeting signaled a significant step forward in cooperative global action. The resolution, which was adopted unanimously, calls for tighter controls on nuclear materials to prevent them from being used for military purposes or stolen. It also encourages enforcement of international treaties and U.N. resolutions regarding nuclear non-proliferation, particularly when nations such as Iran and North Korea are in violation. \"The world must stand together,\" Obama said. \"We must demonstrate that international law is not an empty promise.\" It was the first Security Council summit chaired by a U.S. president, and only the fifth time that Security Council heads of state have met. Obama led the meeting because the United States holds the revolving presidency of the Security Council in September. Both Obama and Russian President Dimitry Medvedev, who spoke later, said the world\\'s two nuclear superpowers were working on reducing their stockpiles in advance of a global nuclear summit scheduled for next year. \"It\\'s obvious that an effective solution ... depends on the constructive engagement of all parties,\" Medvedev said, adding that he expected the Russia-U.S. leadership on the issue to be backed by \"all nuclear powers.\" The measure passed Thursday -- Security Council resolution 1887 -- calls for \"locking down vulnerable nuclear weapons materials in four years\" while minimizing civilian use of weapons-grade uranium. It encourages full compliance with all international treaties and resolutions on nuclear non-proliferation and disarmament, including Security Council resolutions that cite North Korea and Iran for failing to adhere to international commitments. In addition, the resolution supports the peaceful use of nuclear energy, a theme backed by Chinese President Hu Jintao. China seeks to expand its nuclear energy capacity as part of an economic development plan that holds down greenhouse gas emissions that cause climate change. British Prime Minister Gordon Brown also cited the role of nuclear power as a clean energy source that should be part of the solution to global warming affecting every nation. Brown and other leaders spoke of the need to prevent nuclear weapons or the materials to make them from ending up in the hands of terrorist groups. \"The biggest risk the world faces today is of extremists getting hold of nuclear materials,\" said Mohammad ElBaradei, director general of the International Atomic Energy Agency. Libyan leader Moammar Gadhafi, who criticized the Security Council on Wednesday in a rambling speech to the U.N. General Assembly, was absent for the meeting. In Libya\\'s turn to speak at the summit, its special representative to the United Nations called for the IAEA to inspect all nuclear programs, including Israel\\'s, instead of focusing on non-nuclear states. Asked later about Gadhafi\\'s absence, White House spokesman Robert Gibbs said Libya could serve as an example to Iran and North Korea as a nation that gave up its nuclear weapons program and now had rejoined the full international community. \"I think the message that the Libyans had at the Security Council is a message that we hope that the Iranians and the North Koreans will take to heart, and that is giving up a nuclear weapons program and the benefits that it can have for international cooperation and for their reintegration into an international community,\" Gibbs said. Brown earlier called for sanctions against Iran for its efforts to develop a nuclear weapon. On Wednesday, Medvedev signaled that Russia -- which previously has opposed such move -- also could support sanctions against Iran. \"Russia\\'s position is clear: sanctions rarely lead to productive results, but in some cases sanctions are inevitable,\" Medvedev said in a joint appearance with Obama after they met in New York. The statement bolsters U.S.-led efforts for increased international pressure on Iran to adhere to nonproliferation agreements in pursuing the development of nuclear energy. Iran claims its nuclear program is intended for peaceful purposes, but the international community accuses it of continuing to try to develop nuclear weapons capability. The Iranian mission to the United Nations released a statement after the Security Council meeting, saying the country\\'s nuclear activities \"are and always have been, for peaceful purposes, and, therefore, pose no threat whatsoever.\" \"In practicing its legitimate right to develop nuclear energy technology, Iran has always maintained its need for nuclear power as an alternative source of energy to supply its booming population and rapid development. ... Our commitment to nonproliferation remains intact,\" the statement added. The United States and Russia previously have disagreed over Iran, and over possible steps the Security Council may take -- including imposing sanctions -- to push Tehran to comply with U.N. demands concerning its nuclear program. Last week, Obama announced that the United States was dropping plans to base a missile defense shield system in Poland and the Czech Republic, a proposal that had rankled Moscow. He has denied the change was directly linked to Russia\\'s position regarding sanctions on Iran, but said any Russian shift in that direction would be a bonus.'}\n",
      "--------------------\n",
      "\n",
      "\n",
      "Sample:\n",
      "{'label': 0, 'article': 'A rare meeting of U.N. Security Council heads of state, led for the first time by a U.S. president, adopted a resolution focused on stopping the spread of nuclear weapons Thursday. President Obama is the first U.S. leader to head a United Nations Security Council meeting. President Obama challenged the gathering -- which included leaders of nuclear powers including Russia, China, Great Britain and France -- to overcome cynicism against the goal of ridding the planet of nuclear arms. \"We harbor no illusions about the difficulty of bringing about a world without nuclear weapons,\" Obama said, adding that Thursday\\'s meeting signaled a significant step forward in cooperative global action. The resolution, which was adopted unanimously, calls for tighter controls on nuclear materials to prevent them from being used for military purposes or stolen. It also encourages enforcement of international treaties and U.N. resolutions regarding nuclear non-proliferation, particularly when nations such as Iran and North Korea are in violation. \"The world must stand together,\" Obama said. \"We must demonstrate that international law is not an empty promise.\" It was the first Security Council summit chaired by a U.S. president, and only the fifth time that Security Council heads of state have met. Obama led the meeting because the United States holds the revolving presidency of the Security Council in September. Both Obama and Russian President Dimitry Medvedev, who spoke later, said the world\\'s two nuclear superpowers were working on reducing their stockpiles in advance of a global nuclear summit scheduled for next year. \"It\\'s obvious that an effective solution ... depends on the constructive engagement of all parties,\" Medvedev said, adding that he expected the Russia-U.S. leadership on the issue to be backed by \"all nuclear powers.\" The measure passed Thursday -- Security Council resolution 1887 -- calls for \"locking down vulnerable nuclear weapons materials in four years\" while minimizing civilian use of weapons-grade uranium. It encourages full compliance with all international treaties and resolutions on nuclear non-proliferation and disarmament, including Security Council resolutions that cite North Korea and Iran for failing to adhere to international commitments. In addition, the resolution supports the peaceful use of nuclear energy, a theme backed by Chinese President Hu Jintao. China seeks to expand its nuclear energy capacity as part of an economic development plan that holds down greenhouse gas emissions that cause climate change. British Prime Minister Gordon Brown also cited the role of nuclear power as a clean energy source that should be part of the solution to global warming affecting every nation. Brown and other leaders spoke of the need to prevent nuclear weapons or the materials to make them from ending up in the hands of terrorist groups. \"The biggest risk the world faces today is of extremists getting hold of nuclear materials,\" said Mohammad ElBaradei, director general of the International Atomic Energy Agency. Libyan leader Moammar Gadhafi, who criticized the Security Council on Wednesday in a rambling speech to the U.N. General Assembly, was absent for the meeting. In Libya\\'s turn to speak at the summit, its special representative to the United Nations called for the IAEA to inspect all nuclear programs, including Israel\\'s, instead of focusing on non-nuclear states. Asked later about Gadhafi\\'s absence, White House spokesman Robert Gibbs said Libya could serve as an example to Iran and North Korea as a nation that gave up its nuclear weapons program and now had rejoined the full international community. \"I think the message that the Libyans had at the Security Council is a message that we hope that the Iranians and the North Koreans will take to heart, and that is giving up a nuclear weapons program and the benefits that it can have for international cooperation and for their reintegration into an international community,\" Gibbs said. Brown earlier called for sanctions against Iran for its efforts to develop a nuclear weapon. On Wednesday, Medvedev signaled that Russia -- which previously has opposed such move -- also could support sanctions against Iran. \"Russia\\'s position is clear: sanctions rarely lead to productive results, but in some cases sanctions are inevitable,\" Medvedev said in a joint appearance with Obama after they met in New York. The statement bolsters U.S.-led efforts for increased international pressure on Iran to adhere to nonproliferation agreements in pursuing the development of nuclear energy. Iran claims its nuclear program is intended for peaceful purposes, but the international community accuses it of continuing to try to develop nuclear weapons capability. The Iranian mission to the United Nations released a statement after the Security Council meeting, saying the country\\'s nuclear activities \"are and always have been, for peaceful purposes, and, therefore, pose no threat whatsoever.\" \"In practicing its legitimate right to develop nuclear energy technology, Iran has always maintained its need for nuclear power as an alternative source of energy to supply its booming population and rapid development. ... Our commitment to nonproliferation remains intact,\" the statement added. The United States and Russia previously have disagreed over Iran, and over possible steps the Security Council may take -- including imposing sanctions -- to push Tehran to comply with U.N. demands concerning its nuclear program. Last week, Obama announced that the United States was dropping plans to base a missile defense shield system in Poland and the Czech Republic, a proposal that had rankled Moscow. He has denied the change was directly linked to Russia\\'s position regarding sanctions on Iran, but said any Russian shift in that direction would be a bonus.', 'prefix': 'A rare meeting of U.N. Security Council heads of state, led for the first time by a U.S. president, adopted a resolution focused on stopping the spread of nuclear weapons Thursday. President Obama is the first U.S. leader to head a United Nations Security Council meeting. President Obama challenged the gathering -- which included leaders of nuclear powers including Russia, China, Great Britain and France -- to overcome cynicism against the goal of ridding the planet of nuclear arms. \"We harbor no illusions about the difficulty of bringing about a world without nuclear weapons,\" Obama said, adding that Thursday\\'s meeting signaled a significant step forward in cooperative global action. The resolution, which was adopted unanimously, calls for tighter controls on nuclear materials to prevent them from being used for military purposes or stolen. It also encourages enforcement of international treaties and U.N. resolutions regarding nuclear non-proliferation, particularly when nations such as Iran and North Korea are in violation. \"The world must stand together,\" Obama said. \"We must demonstrate that international law is not an empty promise.\" It was the first Security Council summit chaired by a U.S. president, and only the fifth time that Security Council heads of state have met. Obama led the meeting because the United States holds the revolving presidency of the Security Council in September. Both Obama and Russian President Dimitry Medvedev, who spoke later, said the world\\'s two nuclear superpowers were working on reducing their stockpiles in advance of a global nuclear summit scheduled for next year. \"It\\'s obvious that an effective solution ... depends on the constructive engagement of all parties,\" Medvedev said, adding that he expected the Russia-U.S. leadership on the issue to be backed by \"all nuclear powers.\" The measure passed Thursday -- Security Council resolution 1887 -- calls for \"locking down vulnerable nuclear weapons materials in four years\" while minimizing civilian use of weapons-grade uranium. It encourages full compliance with all international treaties and resolutions on nuclear non-proliferation and disarmament, including Security Council resolutions that cite North Korea and Iran for failing to adhere to international commitments. In addition, the resolution supports the peaceful use of nuclear energy, a theme backed by Chinese President Hu Jintao. China seeks to expand its nuclear energy capacity as part of an economic development plan that holds down greenhouse gas emissions that cause climate change. British Prime Minister Gordon Brown also cited the role of nuclear power as a clean energy source that should be part of the solution to global warming affecting every nation. Brown and other leaders spoke of the need to prevent nuclear weapons or the materials to make them from ending up in the hands of terrorist groups. \"The biggest risk the world faces today is of extremists getting hold of nuclear materials,\" said Mohammad ElBaradei, director general of the International Atomic Energy Agency. Libyan leader Moammar Gadhafi, who criticized the Security Council on Wednesday in a rambling speech to the U.N. General Assembly, was absent for the meeting. In Libya\\'s turn to speak at the summit, its special representative to the United Nations called for the IAEA to inspect all nuclear programs, including Israel\\'s, instead of focusing on non-nuclear states. Asked later about Gadhafi\\'s absence, White House spokesman Robert Gibbs said Libya could serve as an example to Iran and North Korea as a nation that gave up its nuclear weapons program and now had rejoined the full international community. \"I think the message that the Libyans had at the Security Council is a message that we hope that the Iranians and the North Koreans will take to heart, and that is giving up a nuclear weapons program and the benefits that it can have for international cooperation and for their reintegration into an international community,\" Gibbs said. Brown earlier called for sanctions against Iran for its efforts to develop a nuclear weapon. On Wednesday, Medvedev signaled that Russia -- which previously has opposed such move -- also could support sanctions against Iran. \"Russia\\'s position is clear: sanctions rarely lead to productive results, but in some cases sanctions are inevitable,\" Medvedev said in a joint appearance with Obama after they met in New York. The statement bolsters U.S.-led efforts for increased international pressure on Iran to adhere to nonproliferation agreements in pursuing the development of nuclear energy. Iran claims its nuclear program is intended for peaceful purposes, but the international community accuses it of continuing to try to develop nuclear weapons capability. The Iranian mission to the United Nations released a statement after the Security Council meeting, saying the country\\'s nuclear activities \"are and always have been, for peaceful purposes, and, therefore, pose no threat whatsoever.\" \"In practicing its legitimate right to develop nuclear energy technology, Iran has always maintained its need for nuclear power as an alternative source of energy to supply its booming population and rapid development. ... Our commitment to nonproliferation remains intact,\" the statement added. The United States and Russia previously have disagreed over Iran, and over possible steps the Security Council may take -- including imposing sanctions -- to push Tehran to comply with U.N. demands concerning its nuclear program. Last week, Obama announced that the United States was dropping plans to base a missile defense shield system in Poland and the Czech Republic, a proposal that had rankled Moscow. He has denied the change was directly linked to Russia\\'s position regarding sanctions on Iran, but said any Russian shift in that direction would be a bonus.'}\n",
      "--------------------\n",
      "\n",
      "\n",
      "Sample:\n",
      "{'label': 0, 'article': \"Cover-up: Former Archbishop Lord Hope allowed a paedophile priest to escape punishment for sex crimes, a judge's report claims . A former archbishop who failed to act on alleged crimes of a paedophile priest should be jailed, the abuser’s victims have said. Lord Hope, the former Archbishop of York, did not act on 19 occasions when allegations of abuse or inappropriate conduct by the priest were raised with him, a scathing report revealed yesterday. But despite that, Lord Hope remains as an honorary assistant bishop in the Diocese of Bradford. Eli Ward and Bim Atkinson, who were among seven victims of the Very Reverend Robert Waddington, former Dean of Manchester, said it is ‘incredible’ that the man who did nothing to stop the priest has been allowed to keep his post. The report by Judge Sally Cahill QC said Lord Hope failed to act because his ‘concern for the welfare of Robert Waddington seems to have been paramount’. Waddington, who kept an official position in the church until 2005 and died in 2007, targeted young choirboys over several decades. One of the seven victims committed suicide in 1989. Mr Atkinson, 59, who was abused when Waddington was a priest in Australia in the 1960s, sent a picture of disgraced Tory peer Lord Archer, who was jailed for perjury, to the Bishop of North Queensland Bill Ray, adding: ‘I would be pushing for Lord Hope to be treated in the same way as this fellow.’ Mr Ward, now 41, was abused by Waddington between the ages of 11 and 15 as a chorister at Manchester Cathedral. He said: ‘It’s just incredible Lord Hope still has a position. Here is a guy who shoved it all under the carpet. 'He failed and failed to do anything and yet nothing has happened to him. He is still allowed to sit in the House of Lords.’ He added: ‘I’d like to see him punished. My opinion is that he’s committed a crime, perverting the course of justice, and should face the consequences.’ Robert Waddington died in 2007 - he had been accused of abusing seven different victims between 1955 and 1996 . Mr Ward said he left the choir when he was 15 after church officials became concerned – but the priest was allowed to remain as the dean in charge of the cathedral until 1993. Waddington then moved to York Minster, where more children were abused. He stayed in a lesser post there until 2005, despite the allegations made to Lord Hope, according to the report, which was commissioned by current Archbishop of York, the Most Reverend John Sentamu. Mr Ward said: ‘Here we had a church body which had been preaching at us to be morally correct yet, when it came to doing the same thing themselves, they were incapable.’ Mr Ward, now living in the Home Counties with a long-term girlfriend, added that he has put the abuse behind him. But he believes Waddington’s abuse was responsible for the death of another victim, a former chorister from Carlisle named in the report only as Peter, who was abused in the 1970s, developed depression and schizophrenia, and committed suicide in 1989. Lord Hope, 76, has described Judge Cahill’s report as ‘flawed’ but offered a ‘personal and profound apology’. He said: ‘This report makes it clear that not applying the policy is not the same as a cover-up. Hindsight is a wonderful thing.’\", 'prefix': \"Cover-up: Former Archbishop Lord Hope allowed a paedophile priest to escape punishment for sex crimes, a judge's report claims . A former archbishop who failed to act on alleged crimes of a paedophile priest should be jailed, the abuser’s victims have said. Lord Hope, the former Archbishop of York, did not act on 19 occasions when allegations of abuse or inappropriate conduct by the priest were raised with him, a scathing report revealed yesterday. But despite that, Lord Hope remains as an honorary assistant bishop in the Diocese of Bradford. Eli Ward and Bim Atkinson, who were among seven victims of the Very Reverend Robert Waddington, former Dean of Manchester, said it is ‘incredible’ that the man who did nothing to stop the priest has been allowed to keep his post. The report by Judge Sally Cahill QC said Lord Hope failed to act because his ‘concern for the welfare of Robert Waddington seems to have been paramount’. Waddington, who kept an official position in the church until 2005 and died in 2007, targeted young choirboys over several decades. One of the seven victims committed suicide in 1989. Mr Atkinson, 59, who was abused when Waddington was a priest in Australia in the 1960s, sent a picture of disgraced Tory peer Lord Archer, who was jailed for perjury, to the Bishop of North Queensland Bill Ray, adding: ‘I would be pushing for Lord Hope to be treated in the same way as this fellow.’ Mr Ward, now 41, was abused by Waddington between the ages of 11 and 15 as a chorister at Manchester Cathedral. He said: ‘It’s just incredible Lord Hope still has a position. Here is a guy who shoved it all under the carpet. 'He failed and failed to do anything and yet nothing has happened to him. He is still allowed to sit in the House of Lords.’ He added: ‘I’d like to see him punished. My opinion is that he’s committed a crime, perverting the course of justice, and should face the consequences.’ Robert Waddington died in 2007 - he had been accused of abusing seven different victims between 1955 and 1996 . Mr Ward said he left the choir when he was 15 after church officials became concerned – but the priest was allowed to remain as the dean in charge of the cathedral until 1993. Waddington then moved to York Minster, where more children were abused. He stayed in a lesser post there until 2005, despite the allegations made to Lord Hope, according to the report, which was commissioned by current Archbishop of York, the Most Reverend John Sentamu. Mr Ward said: ‘Here we had a church body which had been preaching at us to be morally correct yet, when it came to doing the same thing themselves, they were incapable.’ Mr Ward, now living in the Home Counties with a long-term girlfriend, added that he has put the abuse behind him. But he believes Waddington’s abuse was responsible for the death of another victim, a former chorister from Carlisle named in the report only as Peter, who was abused in the 1970s, developed depression and schizophrenia, and committed suicide in 1989. Lord Hope, 76, has described Judge Cahill’s report as ‘flawed’ but offered a ‘personal and profound apology’. He said: ‘This report makes it clear that not applying the policy is not the same as a cover-up. Hindsight is a wonderful thing.’\"}\n",
      "--------------------\n",
      "\n",
      "\n",
      "Sample:\n",
      "{'label': 1, 'article': '', 'prefix': \"Cover-up: Former Archbishop Lord Hope allowed a paedophile priest to escape punishment for sex crimes, a judge's report claims . A former archbishop who failed to act on alleged crimes of a paedophile priest should be jailed, the abuser’s victims have said. Lord Hope, the former Archbishop of York, did not act on 19 occasions when allegations of abuse or inappropriate conduct by the priest were raised with him, a scathing report revealed yesterday. But despite that, Lord Hope remains as an honorary assistant bishop in the Diocese of Bradford. Eli Ward and Bim Atkinson, who were among seven victims of the Very Reverend Robert Waddington, former Dean of Manchester, said it is ‘incredible’ that the man who did nothing to stop the priest has been allowed to keep his post. The report by Judge Sally Cahill QC said Lord Hope failed to act because his ‘concern for the welfare of Robert Waddington seems to have been paramount’. Waddington, who kept an official position in the church until 2005 and died in 2007, targeted young choirboys over several decades. One of the seven victims committed suicide in 1989. Mr Atkinson, 59, who was abused when Waddington was a priest in Australia in the 1960s, sent a picture of disgraced Tory peer Lord Archer, who was jailed for perjury, to the Bishop of North Queensland Bill Ray, adding: ‘I would be pushing for Lord Hope to be treated in the same way as this fellow.’ Mr Ward, now 41, was abused by Waddington between the ages of 11 and 15 as a chorister at Manchester Cathedral. He said: ‘It’s just incredible Lord Hope still has a position. Here is a guy who shoved it all under the carpet. 'He failed and failed to do anything and yet nothing has happened to him. He is still allowed to sit in the House of Lords.’ He added: ‘I’d like to see him punished. My opinion is that he’s committed a crime, perverting the course of justice, and should face the consequences.’ Robert Waddington died in 2007 - he had been accused of abusing seven different victims between 1955 and 1996 . Mr Ward said he left the choir when he was 15 after church officials became concerned – but the priest was allowed to remain as the dean in charge of the cathedral until 1993. Waddington then moved to York Minster, where more children were abused. He stayed in a lesser post there until 2005, despite the allegations made to Lord Hope, according to the report, which was commissioned by current Archbishop of York, the Most Reverend John Sentamu. Mr Ward said: ‘Here we had a church body which had been preaching at us to be morally correct yet, when it came to doing the same thing themselves, they were incapable.’ Mr Ward, now living in the Home Counties with a long-term girlfriend, added that he has put the abuse behind him. But he believes Waddington’s abuse was responsible for the death of another victim, a former chorister from Carlisle named in the report only as Peter, who was abused in the 1970s, developed depression and schizophrenia, and committed suicide in 1989. Lord Hope, 76, has described Judge Cahill’s report as ‘flawed’ but offered a ‘personal and profound apology’. He said: ‘This report makes it clear that not applying the policy is not the same as a cover-up. Hindsight is a wonderful thing.’\"}\n",
      "--------------------\n",
      "\n",
      "\n",
      "Sample:\n",
      "{'label': 1, 'article': '', 'prefix': 'TLC has pulled an episode of Cake Boss from future screening schedules after receiving complaints over the show\\'s mishandling of a transgender guest star. The episode, which aired on Monday night, showed transgender Carmen Carerra, 27, who was born as a man, take part in a stunt that she believed was edited to look distasteful. The stunt involved Buddy \\'Cake Boss\\' Valastro, the reality show\\'s star, tricking Anthony \\'Cousin Anthony\\' Bellifemine into believing that Miss Carerra was born as a woman. Controversy: TLC have halted all future airings of Monday night\\'s episode of Cake Boss which featured a transgender woman (right) and one of the show\\'s stars Anthony Bellifemine (left), after receiving complaints . Surprise: Mr Bellifemine (right) was shocked by news that Carmen Carrera was born a man. The reaction later turns to disgust and he threatens to leave the bar they had been partying in . After the episode aired, Miss Carerra, a . former star of the reality series RuPaul\\'s Drag Race, wrote on her Facebook page that she believed the show turned her involvement into a . \\'Jerry Springer, \"THAT\\'S A MAN\" kind of thing\\'. The New Jersey-based transgender woman claimed that she had signed onto the show as an example of how \\'a beautiful transgendered woman\\' can get \\'hit on at a bar\\' and \\'IT\\'S OK!\\'. Glamour: Miss Carerra, seen above in New York on February 3, rose to fame as a contestant on the reality TV show RuPaul\\'s Drag Race . Fans of Miss Carerra wrote on her Facebook page about their disappointment over the show. One person wrote: \\'This whole thing sucks... you are so beautiful and talented. You don\\'t need to build your career on being a victim.\\' Another wrote: \\'The last time I checked transgender meant born in the wrong body... so my final statement is . \"YOU ARE A FULL BLOWN, VERY REAL WOMAN!\".\\' TLC told the Los Angeles Times: \\'TLC can confirm that the episode was immediately removed from rotation after learning of Carmen Carrera and her supporters\\' concerns, and the network is reviewing the content to see whether it could be reintroduced following edits.\\' Repeats of the episode did not run but the network added that the episode may air again without the controversial scene. During the episode, Mr Valastro is . seen telling the cameras: \\'We had this really pretty girl set up and he . [Mr Bellifemine] went hook, line and sinker, he didn\\'t even look at any . other girls. He went right for her.\\' Footage . then shows Miss Carrerra flirting with Mr Bellifemine in a bar as the . pair down shots of liquor and she even gives him a peck on the cheek. Mr Valastro . later reveals that she was in fact born as a man, news that Mr . Bellifemine is shown to be clearly unimpressed by as he is shown . threatening to leave the party in disgust. Producers . on the show even show footage of the reactions of onlookers in the bar, . as they attempt to depict horror spreading throughout the entire scene . as a result of the reveal. Mr Valastro tells the cameras: \\'So . Carmen was all about having fun and pranking Anthony, she loves little . pranks like this... Carmen loved the fact that they thought she was . attractive.\\' He adds: \\'That\\'s a man, baby!\\' The . guest star is seen telling the cameras later in the scene: \\'Listen, it . was so easy to get Anthony. Ladies out there, all you need to do is . dress really, really cute and put on some pink lip gloss and Anthony . will be all over you.\\' Joker: Buddy \\'Cake Boss\\' Valastro is shown to have set up the stunt and says: \\'Carmen loves little pranks\\' Trick: Miss Carerra (right) is shown flirting with Mr Bellifemine (left) who is unaware that she was born a man . Chemistry: Mr Bellifemine is clearly taken by the woman, posing for a picture with her for an onlooker . Miss Carerra wrote after viewing the episode: \\'LET ME MAKE THIS VERY CLEAR! LISTEN UP PEOPLE! I signed on to do this . episode of Cake Boss to promote EQUALITY. Transgender women are just . as beautiful as biological woman and should be respected for that.\\' She continued: \\'The reveal was never meant to be a \"Jerry . Springer, THAT\\'S A MAN...\" kind of thing. I was promised that it wasn\\'t . going to be that way. I was lied to. I don\\'t promote misleading someone . or putting down the trans community. I am a beautiful transgendered . woman and if a guy hits on me at a bar, ITS OK! That was the message. \\'Hearing things like \"You\\'ll never be a real woman\"... is the . EXACT TYPE OF IGNORANCE THAT THIS SHOW HELPED TO PROMOTE,\\' she wrote. \\' This is why I\\'m . so upset. If men find me attractive and treat me as a lady, why do some . of you people think it\\'s wrong??? Why are some of you trying to take that . away from me like I dont deserve to be treated with respect and . admiration? Ignorance, that\\'s why. STOP THE HATE AND PASS THIS ON.\\' Disgust: The subject of the prank is immediately turned off Miss Carerra when he learns her secret . Onlookers: The episode even includes footage of other bar goers (above) looking on in shock . Unaware: Miss Carerra (right) claimed she did not know the prank would treat her sexuality with insensitivity . She even launched a petition on the website Change.org in an attempt to receive an apology from TLC over the representation. It reads: \\'Before filming, Carmen educated . producers on what terms to use and what phrases would not be offensive, . i.e. \"Carmen was BORN male\" or \"Carmen is a transgendered woman\". Producers AGREED to respect her wishes, however, when the show aired it . was a blatant \"THAT\\'S A MAN\" moment.\\' The petition received more than 8,800 signatures.'}\n",
      "--------------------\n",
      "\n",
      "\n",
      "Sample:\n",
      "{'label': 0, 'article': 'TLC has pulled an episode of Cake Boss from future screening schedules after receiving complaints over the show\\'s mishandling of a transgender guest star. The episode, which aired on Monday night, showed transgender Carmen Carerra, 27, who was born as a man, take part in a stunt that she believed was edited to look distasteful. The stunt involved Buddy \\'Cake Boss\\' Valastro, the reality show\\'s star, tricking Anthony \\'Cousin Anthony\\' Bellifemine into believing that Miss Carerra was born as a woman. Controversy: TLC have halted all future airings of Monday night\\'s episode of Cake Boss which featured a transgender woman (right) and one of the show\\'s stars Anthony Bellifemine (left), after receiving complaints . Surprise: Mr Bellifemine (right) was shocked by news that Carmen Carrera was born a man. The reaction later turns to disgust and he threatens to leave the bar they had been partying in . After the episode aired, Miss Carerra, a . former star of the reality series RuPaul\\'s Drag Race, wrote on her Facebook page that she believed the show turned her involvement into a . \\'Jerry Springer, \"THAT\\'S A MAN\" kind of thing\\'. The New Jersey-based transgender woman claimed that she had signed onto the show as an example of how \\'a beautiful transgendered woman\\' can get \\'hit on at a bar\\' and \\'IT\\'S OK!\\'. Glamour: Miss Carerra, seen above in New York on February 3, rose to fame as a contestant on the reality TV show RuPaul\\'s Drag Race . Fans of Miss Carerra wrote on her Facebook page about their disappointment over the show. One person wrote: \\'This whole thing sucks... you are so beautiful and talented. You don\\'t need to build your career on being a victim.\\' Another wrote: \\'The last time I checked transgender meant born in the wrong body... so my final statement is . \"YOU ARE A FULL BLOWN, VERY REAL WOMAN!\".\\' TLC told the Los Angeles Times: \\'TLC can confirm that the episode was immediately removed from rotation after learning of Carmen Carrera and her supporters\\' concerns, and the network is reviewing the content to see whether it could be reintroduced following edits.\\' Repeats of the episode did not run but the network added that the episode may air again without the controversial scene. During the episode, Mr Valastro is . seen telling the cameras: \\'We had this really pretty girl set up and he . [Mr Bellifemine] went hook, line and sinker, he didn\\'t even look at any . other girls. He went right for her.\\' Footage . then shows Miss Carrerra flirting with Mr Bellifemine in a bar as the . pair down shots of liquor and she even gives him a peck on the cheek. Mr Valastro . later reveals that she was in fact born as a man, news that Mr . Bellifemine is shown to be clearly unimpressed by as he is shown . threatening to leave the party in disgust. Producers . on the show even show footage of the reactions of onlookers in the bar, . as they attempt to depict horror spreading throughout the entire scene . as a result of the reveal. Mr Valastro tells the cameras: \\'So . Carmen was all about having fun and pranking Anthony, she loves little . pranks like this... Carmen loved the fact that they thought she was . attractive.\\' He adds: \\'That\\'s a man, baby!\\' The . guest star is seen telling the cameras later in the scene: \\'Listen, it . was so easy to get Anthony. Ladies out there, all you need to do is . dress really, really cute and put on some pink lip gloss and Anthony . will be all over you.\\' Joker: Buddy \\'Cake Boss\\' Valastro is shown to have set up the stunt and says: \\'Carmen loves little pranks\\' Trick: Miss Carerra (right) is shown flirting with Mr Bellifemine (left) who is unaware that she was born a man . Chemistry: Mr Bellifemine is clearly taken by the woman, posing for a picture with her for an onlooker . Miss Carerra wrote after viewing the episode: \\'LET ME MAKE THIS VERY CLEAR! LISTEN UP PEOPLE! I signed on to do this . episode of Cake Boss to promote EQUALITY. Transgender women are just . as beautiful as biological woman and should be respected for that.\\' She continued: \\'The reveal was never meant to be a \"Jerry . Springer, THAT\\'S A MAN...\" kind of thing. I was promised that it wasn\\'t . going to be that way. I was lied to. I don\\'t promote misleading someone . or putting down the trans community. I am a beautiful transgendered . woman and if a guy hits on me at a bar, ITS OK! That was the message. \\'Hearing things like \"You\\'ll never be a real woman\"... is the . EXACT TYPE OF IGNORANCE THAT THIS SHOW HELPED TO PROMOTE,\\' she wrote. \\' This is why I\\'m . so upset. If men find me attractive and treat me as a lady, why do some . of you people think it\\'s wrong??? Why are some of you trying to take that . away from me like I dont deserve to be treated with respect and . admiration? Ignorance, that\\'s why. STOP THE HATE AND PASS THIS ON.\\' Disgust: The subject of the prank is immediately turned off Miss Carerra when he learns her secret . Onlookers: The episode even includes footage of other bar goers (above) looking on in shock . Unaware: Miss Carerra (right) claimed she did not know the prank would treat her sexuality with insensitivity . She even launched a petition on the website Change.org in an attempt to receive an apology from TLC over the representation. It reads: \\'Before filming, Carmen educated . producers on what terms to use and what phrases would not be offensive, . i.e. \"Carmen was BORN male\" or \"Carmen is a transgendered woman\". Producers AGREED to respect her wishes, however, when the show aired it . was a blatant \"THAT\\'S A MAN\" moment.\\' The petition received more than 8,800 signatures.', 'prefix': 'TLC has pulled an episode of Cake Boss from future screening schedules after receiving complaints over the show\\'s mishandling of a transgender guest star. The episode, which aired on Monday night, showed transgender Carmen Carerra, 27, who was born as a man, take part in a stunt that she believed was edited to look distasteful. The stunt involved Buddy \\'Cake Boss\\' Valastro, the reality show\\'s star, tricking Anthony \\'Cousin Anthony\\' Bellifemine into believing that Miss Carerra was born as a woman. Controversy: TLC have halted all future airings of Monday night\\'s episode of Cake Boss which featured a transgender woman (right) and one of the show\\'s stars Anthony Bellifemine (left), after receiving complaints . Surprise: Mr Bellifemine (right) was shocked by news that Carmen Carrera was born a man. The reaction later turns to disgust and he threatens to leave the bar they had been partying in . After the episode aired, Miss Carerra, a . former star of the reality series RuPaul\\'s Drag Race, wrote on her Facebook page that she believed the show turned her involvement into a . \\'Jerry Springer, \"THAT\\'S A MAN\" kind of thing\\'. The New Jersey-based transgender woman claimed that she had signed onto the show as an example of how \\'a beautiful transgendered woman\\' can get \\'hit on at a bar\\' and \\'IT\\'S OK!\\'. Glamour: Miss Carerra, seen above in New York on February 3, rose to fame as a contestant on the reality TV show RuPaul\\'s Drag Race . Fans of Miss Carerra wrote on her Facebook page about their disappointment over the show. One person wrote: \\'This whole thing sucks... you are so beautiful and talented. You don\\'t need to build your career on being a victim.\\' Another wrote: \\'The last time I checked transgender meant born in the wrong body... so my final statement is . \"YOU ARE A FULL BLOWN, VERY REAL WOMAN!\".\\' TLC told the Los Angeles Times: \\'TLC can confirm that the episode was immediately removed from rotation after learning of Carmen Carrera and her supporters\\' concerns, and the network is reviewing the content to see whether it could be reintroduced following edits.\\' Repeats of the episode did not run but the network added that the episode may air again without the controversial scene. During the episode, Mr Valastro is . seen telling the cameras: \\'We had this really pretty girl set up and he . [Mr Bellifemine] went hook, line and sinker, he didn\\'t even look at any . other girls. He went right for her.\\' Footage . then shows Miss Carrerra flirting with Mr Bellifemine in a bar as the . pair down shots of liquor and she even gives him a peck on the cheek. Mr Valastro . later reveals that she was in fact born as a man, news that Mr . Bellifemine is shown to be clearly unimpressed by as he is shown . threatening to leave the party in disgust. Producers . on the show even show footage of the reactions of onlookers in the bar, . as they attempt to depict horror spreading throughout the entire scene . as a result of the reveal. Mr Valastro tells the cameras: \\'So . Carmen was all about having fun and pranking Anthony, she loves little . pranks like this... Carmen loved the fact that they thought she was . attractive.\\' He adds: \\'That\\'s a man, baby!\\' The . guest star is seen telling the cameras later in the scene: \\'Listen, it . was so easy to get Anthony. Ladies out there, all you need to do is . dress really, really cute and put on some pink lip gloss and Anthony . will be all over you.\\' Joker: Buddy \\'Cake Boss\\' Valastro is shown to have set up the stunt and says: \\'Carmen loves little pranks\\' Trick: Miss Carerra (right) is shown flirting with Mr Bellifemine (left) who is unaware that she was born a man . Chemistry: Mr Bellifemine is clearly taken by the woman, posing for a picture with her for an onlooker . Miss Carerra wrote after viewing the episode: \\'LET ME MAKE THIS VERY CLEAR! LISTEN UP PEOPLE! I signed on to do this . episode of Cake Boss to promote EQUALITY. Transgender women are just . as beautiful as biological woman and should be respected for that.\\' She continued: \\'The reveal was never meant to be a \"Jerry . Springer, THAT\\'S A MAN...\" kind of thing. I was promised that it wasn\\'t . going to be that way. I was lied to. I don\\'t promote misleading someone . or putting down the trans community. I am a beautiful transgendered . woman and if a guy hits on me at a bar, ITS OK! That was the message. \\'Hearing things like \"You\\'ll never be a real woman\"... is the . EXACT TYPE OF IGNORANCE THAT THIS SHOW HELPED TO PROMOTE,\\' she wrote. \\' This is why I\\'m . so upset. If men find me attractive and treat me as a lady, why do some . of you people think it\\'s wrong??? Why are some of you trying to take that . away from me like I dont deserve to be treated with respect and . admiration? Ignorance, that\\'s why. STOP THE HATE AND PASS THIS ON.\\' Disgust: The subject of the prank is immediately turned off Miss Carerra when he learns her secret . Onlookers: The episode even includes footage of other bar goers (above) looking on in shock . Unaware: Miss Carerra (right) claimed she did not know the prank would treat her sexuality with insensitivity . She even launched a petition on the website Change.org in an attempt to receive an apology from TLC over the representation. It reads: \\'Before filming, Carmen educated . producers on what terms to use and what phrases would not be offensive, . i.e. \"Carmen was BORN male\" or \"Carmen is a transgendered woman\". Producers AGREED to respect her wishes, however, when the show aired it . was a blatant \"THAT\\'S A MAN\" moment.\\' The petition received more than 8,800 signatures.'}\n",
      "--------------------\n",
      "\n",
      "\n",
      "Sample:\n",
      "{'label': 0, 'article': \"'The lamps are going out all over Europe. We shall not see them lit again in our lifetime' Foreign Secretary Sir Edward Grey, August 3, 1914 . Prime Minister David Cameron is urging Britons to switch off their lights for an hour tomorrow evening to mark the 100th anniversary of Britain’s declaration of war on Germany in 1914. The Lights Out initiative will be the culmination of a day of commemorative events across the country and in Europe, with members of the Royal Family fully involved at home and abroad. Millions of homes, offices and public and private buildings, such as Tower Bridge and 10 Downing Street, will be included in the ‘shared moment of reflection’ between 10pm and 11pm, leaving just a single candle or bulb illuminating a window as a symbol of ‘continuing hope in the darkness’. The initiative was inspired by then Foreign Secretary Sir Edward Grey’s remark at the outbreak of the First World War: ‘The lamps are going out all over Europe. We shall not see them lit again in our lifetime.’ Mr Cameron told The Mail on Sunday: ‘Lights Out is a way for everyone to mark the First World War centenary and I would encourage people to take part and turn off their lights tomorrow at 10pm for an hour, apart from a single light or candle. ‘This will be a personal gesture in remembrance of all those who made the ultimate sacrifice for us 100 years ago. They must never be forgotten.’ The national commemorations will begin with a morning service of prayers, hymns and readings in Glasgow Cathedral linked to the conclusion of the Commonwealth Games. The event will be attended by Commonwealth leaders, Mr Cameron and Prince Charles. The Duke and Duchess of Cambridge will attend a remembrance service in Liege, Belgium, before joining Prince Harry and Mr Cameron for a commemoration organised by the Commonwealth War Graves Commission in Mons, where the first and last British soldiers who died on the Western Front are buried. At 10pm, to coincide with the start of the ‘Lights Out’ initiative, a vigil service will be held at Westminster Abbey during which members of the congregation will extinguish candles until there is just one left alight on the tomb of the unknown soldier, which will be snuffed out by the Duchess of Cornwall. Scroll down for video . Poignant: Young drummers in Sandhurst, Berkshire, will lead a special service . During the day, there will be a number of Church of England services attended by other members of the Royal family including the Queen, who will be at Balmoral in Scotland, and Prince Philip, at Sandringham in Norfolk. Other special events will be held up and down the UK, including a commemorative service led by Sandhurst and District Corps of Drums in Berkshire. Labour’s spokesman on the First World War commemorations, Dan Jarvis, said: ‘With the busy lives we lead today, the simple act of pausing, switching off the lights and lighting a candle will be a very powerful tribute.’\", 'prefix': \"'The lamps are going out all over Europe. We shall not see them lit again in our lifetime' Foreign Secretary Sir Edward Grey, August 3, 1914 . Prime Minister David Cameron is urging Britons to switch off their lights for an hour tomorrow evening to mark the 100th anniversary of Britain’s declaration of war on Germany in 1914. The Lights Out initiative will be the culmination of a day of commemorative events across the country and in Europe, with members of the Royal Family fully involved at home and abroad. Millions of homes, offices and public and private buildings, such as Tower Bridge and 10 Downing Street, will be included in the ‘shared moment of reflection’ between 10pm and 11pm, leaving just a single candle or bulb illuminating a window as a symbol of ‘continuing hope in the darkness’. The initiative was inspired by then Foreign Secretary Sir Edward Grey’s remark at the outbreak of the First World War: ‘The lamps are going out all over Europe. We shall not see them lit again in our lifetime.’ Mr Cameron told The Mail on Sunday: ‘Lights Out is a way for everyone to mark the First World War centenary and I would encourage people to take part and turn off their lights tomorrow at 10pm for an hour, apart from a single light or candle. ‘This will be a personal gesture in remembrance of all those who made the ultimate sacrifice for us 100 years ago. They must never be forgotten.’ The national commemorations will begin with a morning service of prayers, hymns and readings in Glasgow Cathedral linked to the conclusion of the Commonwealth Games. The event will be attended by Commonwealth leaders, Mr Cameron and Prince Charles. The Duke and Duchess of Cambridge will attend a remembrance service in Liege, Belgium, before joining Prince Harry and Mr Cameron for a commemoration organised by the Commonwealth War Graves Commission in Mons, where the first and last British soldiers who died on the Western Front are buried. At 10pm, to coincide with the start of the ‘Lights Out’ initiative, a vigil service will be held at Westminster Abbey during which members of the congregation will extinguish candles until there is just one left alight on the tomb of the unknown soldier, which will be snuffed out by the Duchess of Cornwall. Scroll down for video . Poignant: Young drummers in Sandhurst, Berkshire, will lead a special service . During the day, there will be a number of Church of England services attended by other members of the Royal family including the Queen, who will be at Balmoral in Scotland, and Prince Philip, at Sandringham in Norfolk. Other special events will be held up and down the UK, including a commemorative service led by Sandhurst and District Corps of Drums in Berkshire. Labour’s spokesman on the First World War commemorations, Dan Jarvis, said: ‘With the busy lives we lead today, the simple act of pausing, switching off the lights and lighting a candle will be a very powerful tribute.’\"}\n",
      "--------------------\n",
      "\n",
      "\n",
      "Sample:\n",
      "{'label': 1, 'article': '', 'prefix': \"'The lamps are going out all over Europe. We shall not see them lit again in our lifetime' Foreign Secretary Sir Edward Grey, August 3, 1914 . Prime Minister David Cameron is urging Britons to switch off their lights for an hour tomorrow evening to mark the 100th anniversary of Britain’s declaration of war on Germany in 1914. The Lights Out initiative will be the culmination of a day of commemorative events across the country and in Europe, with members of the Royal Family fully involved at home and abroad. Millions of homes, offices and public and private buildings, such as Tower Bridge and 10 Downing Street, will be included in the ‘shared moment of reflection’ between 10pm and 11pm, leaving just a single candle or bulb illuminating a window as a symbol of ‘continuing hope in the darkness’. The initiative was inspired by then Foreign Secretary Sir Edward Grey’s remark at the outbreak of the First World War: ‘The lamps are going out all over Europe. We shall not see them lit again in our lifetime.’ Mr Cameron told The Mail on Sunday: ‘Lights Out is a way for everyone to mark the First World War centenary and I would encourage people to take part and turn off their lights tomorrow at 10pm for an hour, apart from a single light or candle. ‘This will be a personal gesture in remembrance of all those who made the ultimate sacrifice for us 100 years ago. They must never be forgotten.’ The national commemorations will begin with a morning service of prayers, hymns and readings in Glasgow Cathedral linked to the conclusion of the Commonwealth Games. The event will be attended by Commonwealth leaders, Mr Cameron and Prince Charles. The Duke and Duchess of Cambridge will attend a remembrance service in Liege, Belgium, before joining Prince Harry and Mr Cameron for a commemoration organised by the Commonwealth War Graves Commission in Mons, where the first and last British soldiers who died on the Western Front are buried. At 10pm, to coincide with the start of the ‘Lights Out’ initiative, a vigil service will be held at Westminster Abbey during which members of the congregation will extinguish candles until there is just one left alight on the tomb of the unknown soldier, which will be snuffed out by the Duchess of Cornwall. Scroll down for video . Poignant: Young drummers in Sandhurst, Berkshire, will lead a special service . During the day, there will be a number of Church of England services attended by other members of the Royal family including the Queen, who will be at Balmoral in Scotland, and Prince Philip, at Sandringham in Norfolk. Other special events will be held up and down the UK, including a commemorative service led by Sandhurst and District Corps of Drums in Berkshire. Labour’s spokesman on the First World War commemorations, Dan Jarvis, said: ‘With the busy lives we lead today, the simple act of pausing, switching off the lights and lighting a candle will be a very powerful tribute.’\"}\n",
      "--------------------\n",
      "\n",
      "\n"
     ]
    }
   ],
   "source": [
    "nb_examples_samples = 10\n",
    "\n",
    "for i in range(nb_examples_samples):\n",
    "    # select a random article\n",
    "    #random_idx = np.random.randint(0, len(processed_cnn_dataset[\"train\"]))\n",
    "    print(\"Sample:\")\n",
    "    print(processed_cnn_dataset[\"train\"][i])\n",
    "    print(\"--------------------\")\n",
    "    print(\"\\n\")"
   ]
  },
  {
   "cell_type": "markdown",
   "metadata": {},
   "source": [
    "# Watermarking"
   ]
  },
  {
   "cell_type": "code",
   "execution_count": null,
   "metadata": {},
   "outputs": [],
   "source": [
    "class WatermarkingDetector(Detector):\n",
    "    def __init__(self, watermark):\n",
    "        self.watermark = watermark\n",
    "        \n",
    "    def detect(self, text: str) -> bool:\n",
    "        return self.watermark in text"
   ]
  },
  {
   "cell_type": "code",
   "execution_count": null,
   "metadata": {},
   "outputs": [],
   "source": [
    "class WatermarkingGenerator(Generator):\n",
    "    \n",
    "    def __init__(self, model, tokenizer, watermark):\n",
    "        self.model = model\n",
    "        self.tokenizer = tokenizer\n",
    "        self.watermark = watermark\n",
    "        \n",
    "    def generate(self, prompt: str) -> str:\n",
    "        text = self.watermark + \" \" + prompt\n",
    "        inputs = self.tokenizer(text, return_tensors=\"pt\", padding=True, truncation=True)\n",
    "        outputs = self.model.generate(**inputs)\n",
    "        return self.tokenizer.decode(outputs[0], skip_special_tokens=True)"
   ]
  }
 ],
 "metadata": {
  "kernelspec": {
   "display_name": "llm_detector",
   "language": "python",
   "name": "python3"
  },
  "language_info": {
   "codemirror_mode": {
    "name": "ipython",
    "version": 3
   },
   "file_extension": ".py",
   "mimetype": "text/x-python",
   "name": "python",
   "nbconvert_exporter": "python",
   "pygments_lexer": "ipython3",
   "version": "3.12.2"
  }
 },
 "nbformat": 4,
 "nbformat_minor": 2
}
