{
 "cells": [
  {
   "cell_type": "code",
   "execution_count": 5,
   "metadata": {},
   "outputs": [],
   "source": [
    "import torch\n",
    "import torch.nn.functional as F\n",
    "import torch.nn as nn\n",
    "import numpy as np\n",
    "from transformers import (AutoModelForCausalLM, AutoTokenizer, BertForSequenceClassification, BertTokenizer, BertModel,\n",
    " RobertaForSequenceClassification, RobertaTokenizer, RobertaModel, TrainingArguments, Trainer, RobertaConfig, pipeline, AutoConfig)\n",
    "import adapters"
   ]
  },
  {
   "cell_type": "markdown",
   "metadata": {},
   "source": [
    "# Freezing base"
   ]
  },
  {
   "cell_type": "markdown",
   "metadata": {},
   "source": [
    "## Mistral samples"
   ]
  },
  {
   "cell_type": "code",
   "execution_count": 2,
   "metadata": {},
   "outputs": [
    {
     "data": {
      "text/plain": [
       "<All keys matched successfully>"
      ]
     },
     "execution_count": 2,
     "metadata": {},
     "output_type": "execute_result"
    }
   ],
   "source": [
    "config = RobertaConfig.from_pretrained('FacebookAI/roberta-base')\n",
    "model_path = \"best_model_mistral.pt\"\n",
    "state_dict = torch.load(model_path)\n",
    "model = RobertaForSequenceClassification(config)\n",
    "model.load_state_dict(state_dict)\n",
    "\n",
    "tokenizer = RobertaTokenizer.from_pretrained('FacebookAI/roberta-base')\n",
    "pipeline_classif_mistral = pipeline('text-classification', model=model, tokenizer=tokenizer)"
   ]
  },
  {
   "cell_type": "code",
   "execution_count": 5,
   "metadata": {},
   "outputs": [
    {
     "data": {
      "text/plain": [
       "[{'label': 'LABEL_0', 'score': 0.7413396239280701}]"
      ]
     },
     "execution_count": 5,
     "metadata": {},
     "output_type": "execute_result"
    }
   ],
   "source": [
    "sample_text_fake = \"Voters in Japan will turn out for parliamentary elections Sunday in what poll after poll shows will be a historic shift in political power to oust the ruling party. Japanese Prime Minister Taro Aso has approval ratings in the teens. The Liberal Democratic Party has been in nearly continuous control of Japan's parliament for more than five decades. But the country's worst economic crisis since World War II has led a normally sedate electorate to the polls, disgruntled with how slowly the country\"\n",
    "pipeline_classif_mistral(sample_text_fake)"
   ]
  },
  {
   "cell_type": "code",
   "execution_count": 6,
   "metadata": {},
   "outputs": [
    {
     "data": {
      "text/plain": [
       "[{'label': 'LABEL_0', 'score': 0.7499374151229858}]"
      ]
     },
     "execution_count": 6,
     "metadata": {},
     "output_type": "execute_result"
    }
   ],
   "source": [
    "sample_text_true = \"Voters in Japan will turn out for parliamentary elections Sunday , with the ruling Liberal Democratic Party (LDP) and its junior partner Komeito poised to extend their 10-year grip on power.  The LDP is likely to retain a two-thirds majority in the lower house, which would allow it to change the constitution without the cooperation of the opposition.  But the party, which has dominated Japanese politics for most of the post-war era, has failed to persuade voters it can tackle the country’s probl\"\n",
    "pipeline_classif_mistral(sample_text_fake)"
   ]
  },
  {
   "cell_type": "code",
   "execution_count": 9,
   "metadata": {},
   "outputs": [
    {
     "data": {
      "text/plain": [
       "[{'label': 'LABEL_0', 'score': 0.8740516304969788}]"
      ]
     },
     "execution_count": 9,
     "metadata": {},
     "output_type": "execute_result"
    }
   ],
   "source": [
    "sample_text_fake = \"Two of Turkey's main political parties are pushing for a constitutional amendment to lift bans on headscarves at public universities, a move that has caused concern among Turkey's secular population.  The lifting of the ban on headscarves has caused concern among Turkey's secular population. Prime Minister Recep Tayyip Erdogan initiated the move, saying it would create equality in Turkey's higher education. The constitutional commission will discuss the proposal -- submitted by the AKP and MHP pa\"\n",
    "pipeline_classif_mistral(sample_text_fake)"
   ]
  },
  {
   "cell_type": "code",
   "execution_count": 10,
   "metadata": {},
   "outputs": [
    {
     "data": {
      "text/plain": [
       "[{'label': 'LABEL_0', 'score': 0.9280597567558289}]"
      ]
     },
     "execution_count": 10,
     "metadata": {},
     "output_type": "execute_result"
    }
   ],
   "source": [
    "sample_text_fake = \"Two of Turkey's main political parties are pushing for a constitutional amendment to lift bans on headscarves at public universities, a move that has caused concern among Turkey's secular population.  The lifting of the ban on headscarves has caused concern among Turkey's secular population.  Prime Minister Recep Tayyip Erdogan initiated the move, saying it would create equality in Turkey's higher education.  The constitutional commission will discuss the proposal -- submitted by the AKP and MHP pa\"\n",
    "pipeline_classif_mistral(sample_text_fake)"
   ]
  },
  {
   "cell_type": "code",
   "execution_count": 12,
   "metadata": {},
   "outputs": [
    {
     "data": {
      "text/plain": [
       "[{'label': 'LABEL_0', 'score': 0.7246546745300293}]"
      ]
     },
     "execution_count": 12,
     "metadata": {},
     "output_type": "execute_result"
    }
   ],
   "source": [
    "sample_text_fake = \"Two of Turkey's main political parties are pushing for a national referendum on the country's membership of the European Union. The ruling Justice and Development Party (AKP) and the opposition Republican People's Party (CHP) are both planning to submit the proposal to parliament. The AKP says the referendum should be held in 2013, while the CHP favors an earlier date. Turkey's EU accession talks have been stalled since 2007 over a series of disputes Turkish Prime Minister Recep Tayyip Erdo\"\n",
    "pipeline_classif_mistral(sample_text_fake)"
   ]
  },
  {
   "cell_type": "code",
   "execution_count": 14,
   "metadata": {},
   "outputs": [
    {
     "data": {
      "text/plain": [
       "[{'label': 'LABEL_1', 'score': 0.7312844395637512}]"
      ]
     },
     "execution_count": 14,
     "metadata": {},
     "output_type": "execute_result"
    }
   ],
   "source": [
    "sample_text_fake = \"Zimbabwean lawmakers on Monday narrowly voted for Lovemore Moyo as speaker of the parliament making him the first opposition lawmaker to hold the position in the country's history. Morgan Tsvangirai's MDC faction has a slim majority following parliamentary elections. \\\"This is historic as it ceases to be a rubber-stamping house,\\\" Moyo said after winning the position. \\\"It will ensure that progressive laws are passed. I promise to be professional.\\\" Moyo the national chairman of the main Movem\"\n",
    "pipeline_classif_mistral(sample_text_fake)"
   ]
  },
  {
   "cell_type": "markdown",
   "metadata": {},
   "source": [
    "## GPT-2 samples"
   ]
  },
  {
   "cell_type": "code",
   "execution_count": 62,
   "metadata": {},
   "outputs": [],
   "source": [
    "config = RobertaConfig.from_pretrained('FacebookAI/roberta-base')\n",
    "model_path = \"best_model_gpt2.pt\"\n",
    "state_dict = torch.load(model_path)\n",
    "model = RobertaForSequenceClassification(config)\n",
    "model.load_state_dict(state_dict)\n",
    "\n",
    "tokenizer = RobertaTokenizer.from_pretrained('FacebookAI/roberta-base')\n",
    "pipeline_classif_gpt2 = pipeline('text-classification', model=model, tokenizer=tokenizer)"
   ]
  },
  {
   "cell_type": "code",
   "execution_count": 12,
   "metadata": {},
   "outputs": [
    {
     "data": {
      "text/plain": [
       "[{'label': 'LABEL_1', 'score': 0.9197396636009216}]"
      ]
     },
     "execution_count": 12,
     "metadata": {},
     "output_type": "execute_result"
    }
   ],
   "source": [
    "sample_text_fake = \"After weeks of controversy over Michael Mukasey's views on waterboarding, the Obama administration has decided to stop using torture. President Barack H.\\\"s decision will not change any new law that is passed,\\\" said Sen-elect Mike Lee in a statement released Wednesday evening by his campaign and Democratic presidential candidate Hillary Clinton supporters who are trying for president with an \\\"opportunity\\\" at this weekday rally outside New Hampshire.As far as\"\n",
    "\n",
    "pipeline_classif_gpt2(sample_text_fake)"
   ]
  },
  {
   "cell_type": "code",
   "execution_count": 31,
   "metadata": {},
   "outputs": [
    {
     "data": {
      "text/plain": [
       "[{'label': 'LABEL_1', 'score': 0.9603350162506104}]"
      ]
     },
     "execution_count": 31,
     "metadata": {},
     "output_type": "execute_result"
    }
   ],
   "source": [
    "sample_text_fake = \"\\\"Why do only rich kids get good schools?\\\" I was asked this question by a fellow who has been to many of the best public school systems in America. \\\"How does it feel for poor students? If you are lucky, then there is always going be one or two other children that don't know how they can succeed academically,\\\" he told me after we had spent some time together at his home and talked about what life on campus would look like if all those bright young people got their hands dirty with every opportunit\"\n",
    "pipeline_classif_gpt2(sample_text_fake)"
   ]
  },
  {
   "cell_type": "code",
   "execution_count": 35,
   "metadata": {},
   "outputs": [
    {
     "data": {
      "text/plain": [
       "[{'label': 'LABEL_1', 'score': 0.511606752872467}]"
      ]
     },
     "execution_count": 35,
     "metadata": {},
     "output_type": "execute_result"
    }
   ],
   "source": [
    "sample_text_fake = \"\\\"Why do only rich kids get good schools?\\\" I was the founder and director of a part-time out-of-school college preparatory program. The questioner was a parent; herself a victim of a dulled urban education. The statement was more of an indictment than question, and I had no answer. \\\"Well, why can't this program be a school,\\\" she offered. The program sent 100 percent of our graduates to college. We served poor students who were the first generation in their families to attend college. We provided \"\n",
    "pipeline_classif_gpt2(sample_text_fake)"
   ]
  },
  {
   "cell_type": "markdown",
   "metadata": {},
   "source": [
    "## Phi-2 samples"
   ]
  },
  {
   "cell_type": "code",
   "execution_count": 37,
   "metadata": {},
   "outputs": [],
   "source": [
    "config = RobertaConfig.from_pretrained('FacebookAI/roberta-base')\n",
    "model_path = \"best_model_phi2.pt\"\n",
    "state_dict = torch.load(model_path)\n",
    "model = RobertaForSequenceClassification(config)\n",
    "model.load_state_dict(state_dict)\n",
    "\n",
    "tokenizer = RobertaTokenizer.from_pretrained('FacebookAI/roberta-base')\n",
    "pipeline_classif_phi2 = pipeline('text-classification', model=model, tokenizer=tokenizer)"
   ]
  },
  {
   "cell_type": "code",
   "execution_count": 40,
   "metadata": {},
   "outputs": [
    {
     "data": {
      "text/plain": [
       "[{'label': 'LABEL_1', 'score': 0.6936783790588379}]"
      ]
     },
     "execution_count": 40,
     "metadata": {},
     "output_type": "execute_result"
    }
   ],
   "source": [
    "sample_text_fake = \"Brazil have returned to the top of the FIFA world rankings for the first time since the start of the pandemic. It is estimated that around 100,000 football players and coaches are currently self-isolating after testing positive for COVID-19. The government is trying to ensure that all of the country's footballers have been tested for the virus, and those that test positive are being quarantined in a number of specially-built isolation units. The government has been criticised for not doing enoug\"\n",
    "pipeline_classif_phi2(sample_text_fake)"
   ]
  },
  {
   "cell_type": "code",
   "execution_count": 48,
   "metadata": {},
   "outputs": [
    {
     "data": {
      "text/plain": [
       "[{'label': 'LABEL_0', 'score': 0.9688941240310669}]"
      ]
     },
     "execution_count": 48,
     "metadata": {},
     "output_type": "execute_result"
    }
   ],
   "source": [
    "sample_text_true = \"Brazil have returned to the top of the FIFA world rankings after a two-year absence, following their Confederations Cup final victory over the United States in South Africa on Sunday -- FIFA.com have reported. The Brazilian national side top the FIFA world rankings again after an absence of two years. Dunga's side came from behind to defeat the United States 3-2, a result which sees them replace Spain after the European champions were beaten in the semifinals to finish third in the Confederation.\"\n",
    "pipeline_classif_phi2(sample_text_true)"
   ]
  },
  {
   "cell_type": "code",
   "execution_count": 54,
   "metadata": {},
   "outputs": [
    {
     "data": {
      "text/plain": [
       "[{'label': 'LABEL_0', 'score': 0.8942074775695801}]"
      ]
     },
     "execution_count": 54,
     "metadata": {},
     "output_type": "execute_result"
    }
   ],
   "source": [
    "sample_text_true = \"He is iconic, there's no doubt. George Hamilton gets his life story on screen in \\\"My One and Only.\\\" With the elegant suit and tie, the impeccable grooming, the tan (Did I mention the tan?), George Hamilton is still a charmer, and he comes across like a born bon vivant. Sure, his acting may have taken a backseat to his bronzed visage years ago, but what did happen to him years ago? Well, there's a story there, one now coming to the big screen. Hamilton's formative years are loosely depicted in th\"\n",
    "pipeline_classif_phi2(sample_text_true)"
   ]
  },
  {
   "cell_type": "code",
   "execution_count": 58,
   "metadata": {},
   "outputs": [
    {
     "data": {
      "text/plain": [
       "[{'label': 'LABEL_1', 'score': 0.9198764562606812}]"
      ]
     },
     "execution_count": 58,
     "metadata": {},
     "output_type": "execute_result"
    }
   ],
   "source": [
    "sample_text_fake = \"He is iconic, there's no doubt. George Hamilton gets his life story on screen in \\\"My One and Only.\\\", and has become synonymous with a certain kind of masculine manliness. But who is this man? What does it mean to be a George Hamilton? It's difficult to pinpoint exactly what makes a George Hamilton, but there are a few qualities that are common to all. 1. He is physically strong and fit. George Hamilton is a man who takes care of his body. He works out regularly, eats a healthy diet, and gets plenty of rest. He i\"\n",
    "pipeline_classif_phi2(sample_text_fake)"
   ]
  },
  {
   "cell_type": "markdown",
   "metadata": {},
   "source": [
    "## Cross model predictions"
   ]
  },
  {
   "cell_type": "code",
   "execution_count": 59,
   "metadata": {},
   "outputs": [
    {
     "data": {
      "text/plain": [
       "[{'label': 'LABEL_0', 'score': 0.6927809119224548}]"
      ]
     },
     "execution_count": 59,
     "metadata": {},
     "output_type": "execute_result"
    }
   ],
   "source": [
    "sample_text_fake = \"\\\"Why do only rich kids get good schools?\\\" I was asked this question by a fellow who has been to many of the best public school systems in America. \\\"How does it feel for poor students? If you are lucky, then there is always going be one or two other children that don't know how they can succeed academically,\\\" he told me after we had spent some time together at his home and talked about what life on campus would look like if all those bright young people got their hands dirty with every opportunit\"\n",
    "pipeline_classif_phi2(sample_text_fake)"
   ]
  },
  {
   "cell_type": "code",
   "execution_count": 61,
   "metadata": {},
   "outputs": [
    {
     "data": {
      "text/plain": [
       "[{'label': 'LABEL_1', 'score': 0.7440130710601807}]"
      ]
     },
     "execution_count": 61,
     "metadata": {},
     "output_type": "execute_result"
    }
   ],
   "source": [
    "sample_text_fake = \"\\\"Why do only rich kids get good schools?\\\" I was the founder and director of a part-time out-of-school college preparatory program. The questioner was a parent; herself a victim of a dulled urban education. The statement was more of an indictment than question, and I had no answer. \\\"Well, why can't this program be a school,\\\" she offered. The program sent 100 percent of our graduates to college. We served poor students who were the first generation in their families to attend college. We provided \"\n",
    "pipeline_classif_phi2(sample_text_fake)"
   ]
  },
  {
   "cell_type": "code",
   "execution_count": 64,
   "metadata": {},
   "outputs": [
    {
     "data": {
      "text/plain": [
       "[{'label': 'LABEL_0', 'score': 0.9977840781211853}]"
      ]
     },
     "execution_count": 64,
     "metadata": {},
     "output_type": "execute_result"
    }
   ],
   "source": [
    "sample_text_fake = \"Brazil have returned to the top of the FIFA world rankings for the first time since the start of the pandemic. It is estimated that around 100,000 football players and coaches are currently self-isolating after testing positive for COVID-19. The government is trying to ensure that all of the country's footballers have been tested for the virus, and those that test positive are being quarantined in a number of specially-built isolation units. The government has been criticised for not doing enoug\"\n",
    "pipeline_classif_gpt2(sample_text_fake)"
   ]
  },
  {
   "cell_type": "code",
   "execution_count": 65,
   "metadata": {},
   "outputs": [
    {
     "data": {
      "text/plain": [
       "[{'label': 'LABEL_0', 'score': 0.5806064605712891}]"
      ]
     },
     "execution_count": 65,
     "metadata": {},
     "output_type": "execute_result"
    }
   ],
   "source": [
    "sample_text_fake = \"Brazil have returned to the top of the FIFA world rankings for the first time since the start of the pandemic. It is estimated that around 100,000 football players and coaches are currently self-isolating after testing positive for COVID-19. The government is trying to ensure that all of the country's footballers have been tested for the virus, and those that test positive are being quarantined in a number of specially-built isolation units. The government has been criticised for not doing enoug\"\n",
    "pipeline_classif_gpt2(sample_text_fake)"
   ]
  },
  {
   "cell_type": "code",
   "execution_count": null,
   "metadata": {},
   "outputs": [],
   "source": []
  },
  {
   "cell_type": "markdown",
   "metadata": {},
   "source": [
    "# Full finetuning"
   ]
  },
  {
   "cell_type": "markdown",
   "metadata": {},
   "source": [
    "# Adapter training "
   ]
  },
  {
   "cell_type": "code",
   "execution_count": 7,
   "metadata": {},
   "outputs": [],
   "source": [
    "detector_path = \"FacebookAI/roberta-large\"\n",
    "config = AutoConfig.from_pretrained(detector_path)\n",
    "model = RobertaForSequenceClassification(config)\n",
    "bert_tokenizer = RobertaTokenizer.from_pretrained(detector_path)"
   ]
  },
  {
   "cell_type": "code",
   "execution_count": 8,
   "metadata": {},
   "outputs": [],
   "source": [
    "model_path = \"./saved_training_logs/roberta_large/fake_true_dataset_gpt2_10k/26_03_1841/saved_models/best_model.pt\"\n",
    "adapters.init(model)\n",
    "config = adapters.BnConfig(mh_adapter=True, output_adapter=True, reduction_factor=16, non_linearity=\"relu\")\n",
    "model.add_adapter(\"fake_true_detection\", config=config)\n",
    "model.load_state_dict(torch.load(model_path))\n",
    "model = model.to('cuda')"
   ]
  },
  {
   "cell_type": "markdown",
   "metadata": {},
   "source": []
  }
 ],
 "metadata": {
  "kernelspec": {
   "display_name": "llm_detector",
   "language": "python",
   "name": "python3"
  },
  "language_info": {
   "codemirror_mode": {
    "name": "ipython",
    "version": 3
   },
   "file_extension": ".py",
   "mimetype": "text/x-python",
   "name": "python",
   "nbconvert_exporter": "python",
   "pygments_lexer": "ipython3",
   "version": "3.12.2"
  }
 },
 "nbformat": 4,
 "nbformat_minor": 2
}
